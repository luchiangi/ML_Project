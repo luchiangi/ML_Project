{
 "cells": [
  {
   "cell_type": "markdown",
   "id": "b74fbfd6",
   "metadata": {},
   "source": [
    "# RESEARCH QUESTION: "
   ]
  },
  {
   "cell_type": "code",
   "execution_count": 1,
   "id": "a9c10717",
   "metadata": {},
   "outputs": [],
   "source": [
    "import pandas as pd"
   ]
  },
  {
   "cell_type": "code",
   "execution_count": 2,
   "id": "da57c7c5",
   "metadata": {},
   "outputs": [],
   "source": [
    "#we took the data from https://www.fueleconomy.gov/feg/ws/ \n",
    "#we have two dataframe: emissions and vehicles. we need to merge them. \n",
    "#first, we open the emissions dataframe dfe\n",
    "dfe = pd.read_csv('emissions.csv')"
   ]
  },
  {
   "cell_type": "code",
   "execution_count": 3,
   "id": "dd105993",
   "metadata": {},
   "outputs": [
    {
     "name": "stdout",
     "output_type": "stream",
     "text": [
      "<class 'pandas.core.frame.DataFrame'>\n",
      "RangeIndex: 44979 entries, 0 to 44978\n",
      "Data columns (total 8 columns):\n",
      " #   Column         Non-Null Count  Dtype  \n",
      "---  ------         --------------  -----  \n",
      " 0   efid           44979 non-null  object \n",
      " 1   id             44979 non-null  int64  \n",
      " 2   salesArea      44979 non-null  int64  \n",
      " 3   score          44979 non-null  float64\n",
      " 4   scoreAlt       44979 non-null  float64\n",
      " 5   smartwayScore  44979 non-null  int64  \n",
      " 6   standard       44979 non-null  object \n",
      " 7   stdText        44965 non-null  object \n",
      "dtypes: float64(2), int64(3), object(3)\n",
      "memory usage: 2.7+ MB\n"
     ]
    }
   ],
   "source": [
    "#the emissison dataframe has 8 columns of dtypes: float64(2), int64(3), object(3), and 44979 rows\n",
    "dfe.info()"
   ]
  },
  {
   "cell_type": "code",
   "execution_count": 5,
   "id": "5aaf17cb",
   "metadata": {},
   "outputs": [
    {
     "name": "stderr",
     "output_type": "stream",
     "text": [
      "/var/folders/tw/n9x7cy1x0j3gmy3zhrd1p8640000gn/T/ipykernel_46589/1811012411.py:2: DtypeWarning: Columns (70,71,72,73,74,76,79) have mixed types. Specify dtype option on import or set low_memory=False.\n",
      "  dfv = pd.read_csv('vehicles.csv')\n"
     ]
    }
   ],
   "source": [
    "#then we open the vehicles dataframe dfv\n",
    "dfv = pd.read_csv('vehicles.csv')"
   ]
  },
  {
   "cell_type": "code",
   "execution_count": 6,
   "id": "65898ef5",
   "metadata": {
    "scrolled": true
   },
   "outputs": [
    {
     "name": "stdout",
     "output_type": "stream",
     "text": [
      "<class 'pandas.core.frame.DataFrame'>\n",
      "RangeIndex: 44787 entries, 0 to 44786\n",
      "Data columns (total 83 columns):\n",
      " #   Column           Non-Null Count  Dtype  \n",
      "---  ------           --------------  -----  \n",
      " 0   barrels08        44787 non-null  float64\n",
      " 1   barrelsA08       44787 non-null  float64\n",
      " 2   charge120        44787 non-null  float64\n",
      " 3   charge240        44787 non-null  float64\n",
      " 4   city08           44787 non-null  int64  \n",
      " 5   city08U          44787 non-null  float64\n",
      " 6   cityA08          44787 non-null  int64  \n",
      " 7   cityA08U         44787 non-null  float64\n",
      " 8   cityCD           44787 non-null  float64\n",
      " 9   cityE            44787 non-null  float64\n",
      " 10  cityUF           44787 non-null  float64\n",
      " 11  co2              44787 non-null  int64  \n",
      " 12  co2A             44787 non-null  int64  \n",
      " 13  co2TailpipeAGpm  44787 non-null  float64\n",
      " 14  co2TailpipeGpm   44787 non-null  float64\n",
      " 15  comb08           44787 non-null  int64  \n",
      " 16  comb08U          44787 non-null  float64\n",
      " 17  combA08          44787 non-null  int64  \n",
      " 18  combA08U         44787 non-null  float64\n",
      " 19  combE            44787 non-null  float64\n",
      " 20  combinedCD       44787 non-null  float64\n",
      " 21  combinedUF       44787 non-null  float64\n",
      " 22  cylinders        44415 non-null  float64\n",
      " 23  displ            44417 non-null  float64\n",
      " 24  drive            43601 non-null  object \n",
      " 25  engId            44787 non-null  int64  \n",
      " 26  eng_dscr         27996 non-null  object \n",
      " 27  feScore          44787 non-null  int64  \n",
      " 28  fuelCost08       44787 non-null  int64  \n",
      " 29  fuelCostA08      44787 non-null  int64  \n",
      " 30  fuelType         44787 non-null  object \n",
      " 31  fuelType1        44787 non-null  object \n",
      " 32  ghgScore         44787 non-null  int64  \n",
      " 33  ghgScoreA        44787 non-null  int64  \n",
      " 34  highway08        44787 non-null  int64  \n",
      " 35  highway08U       44787 non-null  float64\n",
      " 36  highwayA08       44787 non-null  int64  \n",
      " 37  highwayA08U      44787 non-null  float64\n",
      " 38  highwayCD        44787 non-null  float64\n",
      " 39  highwayE         44787 non-null  float64\n",
      " 40  highwayUF        44787 non-null  float64\n",
      " 41  hlv              44787 non-null  int64  \n",
      " 42  hpv              44787 non-null  int64  \n",
      " 43  id               44787 non-null  int64  \n",
      " 44  lv2              44787 non-null  int64  \n",
      " 45  lv4              44787 non-null  int64  \n",
      " 46  make             44787 non-null  object \n",
      " 47  model            44787 non-null  object \n",
      " 48  mpgData          44768 non-null  object \n",
      " 49  phevBlended      44787 non-null  bool   \n",
      " 50  pv2              44787 non-null  int64  \n",
      " 51  pv4              44787 non-null  int64  \n",
      " 52  range            44787 non-null  int64  \n",
      " 53  rangeCity        44787 non-null  float64\n",
      " 54  rangeCityA       44787 non-null  float64\n",
      " 55  rangeHwy         44787 non-null  float64\n",
      " 56  rangeHwyA        44787 non-null  float64\n",
      " 57  trany            44776 non-null  object \n",
      " 58  UCity            44787 non-null  float64\n",
      " 59  UCityA           44787 non-null  float64\n",
      " 60  UHighway         44787 non-null  float64\n",
      " 61  UHighwayA        44787 non-null  float64\n",
      " 62  VClass           44787 non-null  object \n",
      " 63  year             44787 non-null  int64  \n",
      " 64  youSaveSpend     44787 non-null  int64  \n",
      " 65  guzzler          2624 non-null   object \n",
      " 66  trans_dscr       15044 non-null  object \n",
      " 67  tCharger         8857 non-null   object \n",
      " 68  sCharger         966 non-null    object \n",
      " 69  atvType          4329 non-null   object \n",
      " 70  fuelType2        1800 non-null   object \n",
      " 71  rangeA           1795 non-null   object \n",
      " 72  evMotor          1515 non-null   object \n",
      " 73  mfrCode          13979 non-null  object \n",
      " 74  c240Dscr         131 non-null    object \n",
      " 75  charge240b       44787 non-null  float64\n",
      " 76  c240bDscr        125 non-null    object \n",
      " 77  createdOn        44787 non-null  object \n",
      " 78  modifiedOn       44787 non-null  object \n",
      " 79  startStop        13098 non-null  object \n",
      " 80  phevCity         44787 non-null  int64  \n",
      " 81  phevHwy          44787 non-null  int64  \n",
      " 82  phevComb         44787 non-null  int64  \n",
      "dtypes: bool(1), float64(32), int64(27), object(23)\n",
      "memory usage: 28.1+ MB\n"
     ]
    }
   ],
   "source": [
    "#the dfv has 83 columns of dtypes: bool(1), float64(32), int64(27), object(23), and 44768 rows\n",
    "dfv.info()"
   ]
  },
  {
   "cell_type": "code",
   "execution_count": 7,
   "id": "04b95359",
   "metadata": {},
   "outputs": [],
   "source": [
    "#the dataframes has the same id column, so we are merging the 2 dataframe based on that \n",
    "df_raw = pd.merge(left=dfe, right=dfv, left_on='id', right_on='id')"
   ]
  },
  {
   "cell_type": "code",
   "execution_count": 8,
   "id": "0d6166fe",
   "metadata": {},
   "outputs": [
    {
     "data": {
      "text/plain": [
       "(44897, 90)"
      ]
     },
     "execution_count": 8,
     "metadata": {},
     "output_type": "execute_result"
    }
   ],
   "source": [
    "#shape of the new dataframe\n",
    "df_raw.shape"
   ]
  },
  {
   "cell_type": "markdown",
   "id": "38a2e682",
   "metadata": {},
   "source": [
    "# Data Inspection"
   ]
  },
  {
   "cell_type": "markdown",
   "id": "9b1666ee",
   "metadata": {},
   "source": [
    "As the dataset is very technical and has a lot of column, in the data inspection we are trying to understand the relevance of each column and. \n",
    "\n",
    "#GENERAL CHARACTERISTICS: <br>\n",
    "'make': manufacturer brand <br> \n",
    "'model': model name <br> \n",
    "'year': production year, from 2009-2018 <br> \n",
    "\n",
    "#ENGINE CHARACTERISTICS: <br>\n",
    "'fuelType' <br>\n",
    "'cylinders': engine cylinders <br>\n",
    "'displ': engine displacement in liters<br>\n",
    "'eng_dscr': <br> \n",
    "'phevBlended'<br>\n",
    "'atvType': type of alternative fuel or advanced technology vehicle <br>\n",
    "\n",
    "#POLLUTION: <br>\n",
    "'co2TailpipeAGpm', 'co2TailpipeGpm' <br>\n",
    "'co2', 'co2A'<br>\n",
    "'ghgScore', 'ghgScoreA' <br>\n",
    "\n",
    "#DRIVETRAIN: <br>\n",
    "'drive': <br>\n",
    "'trany': <br>\n",
    "'trans_dscr',<br>\n",
    "\n",
    "#CHASSIS:   <br>\n",
    "'VClass': EPA vehicle size class <br>\n",
    "'pv2': 2-door passenger volume <br>\n",
    "'pv4': 4-door passenger volume <br>\n",
    "'lv2': 2 door luggage volume (cubic feet) <br>\n",
    "'lv4': 4 door luggage volume (cubic feet) <br>\n",
    "'hlv': hatchback luggage volume (cubic feet) <br>\n",
    "'hpv': hatchback passenger volume (cubic feet) <br>\n",
    "\n",
    "#ELECTRONICS: \n",
    "'tCharger':\n",
    "'sCharger': \n",
    "'startStop': \n",
    "\n",
    "#FUEL CONSUMPTION: <br>\n",
    "'city08': city MPG for fuelType1 and 2 <br>\n",
    "'highway08': highway MPG for fuelType1 and 2 <br>\n",
    "\n",
    "\n",
    "\n",
    "\n",
    "#all the different variable that distinuish between fuelType1 and fuelType2 can be summed up\n",
    "'barrels08', 'barrelsA08': annual petroleum consumption in barrels<br>\n",
    "'fuelCost08', 'fuelCostA08'\n",
    "'comb08',  'combA08'\n",
    "'city08', 'cityA08'\n",
    "'highway08', 'highwayA08'\n",
    "\n",
    "\n",
    "'standard', \n",
    "'stdText',\n",
    "'trans_dscr', \n",
    "  \n",
    " \n",
    "#Columns to be deleted:\n",
    "efid\n",
    "id\n",
    "fuelType1: For single fuel vehicles, this will be the only fuel. For dual fuel vehicles, this will be the conventional fuel.\n",
    "fuelType2: For dual fuel vehicles, this will be the alternative fuel (e.g. E85, Electricity, CNG, LPG). For single fuel vehicles, this field is not used\n",
    "\n",
    "\n",
    "\n",
    "#Columns to be deleted becasue not relevant for the research:<br>\n",
    "createdOn - date the vehicle record was created (ISO 8601 format)<br>\n",
    "\n",
    "modifiedOn - date the vehicle record was last modified (ISO 8601 format)<br>\n",
    "\n",
    "salesArea - The area of the country where the vehicle can legally be sold.<br>\n",
    "\n",
    "youSaveSpend - you save/spend over 5 years compared to an average car ($). Savings are positive; a greater amount    \n",
    "               spent yields a negative number. For dual fuel vehicles, this is the cost savings for gasoline <br>\n",
    "\n",
    "guzzler - if G or T, this vehicle is subject to the gas guzzler tax\n",
    "\n",
    "city08U, cityA08U - unrounded city MPG for fuelType1 (same values as city08 but not rounded and some variable are not available)<br> \n",
    "\n",
    "highway08U, highwayA08U - <br>\n",
    "'highwayCD','highwayE','highwayUF':<br>\n",
    "\n",
    "'combinedCD','combE','combinedUF' - <br>\n",
    "\n",
    "c240Dscr - electric vehicle charger description <br>\n",
    "\n",
    "charge240b - time to charge an electric vehicle in hours at 240 V using the alternate charger <br> \n",
    "\n",
    "c240bDscr - <br>\n",
    "\n",
    "mfrCode - 3-character manufacturer code <br>\n",
    "\n",
    "mpgData - has My MPG data\n",
    "\n",
    "phevBlended - if true, this vehicle operates on a blend of gasoline and electricity in charge depleting mode\n",
    "\n",
    "'range', 'rangeA', 'rangeCity', 'rangeCityA', 'rangeHwy', 'rangeHwyA' - \n",
    "\n",
    "'score', 'scoreAlt' - \n",
    "\n",
    "'UCity', 'UCityA', 'UHighway', 'UHighwayA'- \n",
    "\n",
    "'phevCity', 'phevHwy', 'phevComb' - \n",
    "\n",
    "'smartwayScore',\n",
    "\n",
    "'charge120': time to charge an electric vehicle in hours at 120 V\n",
    "'charge240':time to charge an electric vehicle in hours at 240 V\n",
    "\n",
    "'evMotor' \n",
    "\n",
    "'feScore'"
   ]
  },
  {
   "cell_type": "code",
   "execution_count": 18,
   "id": "46c2a9dc",
   "metadata": {},
   "outputs": [
    {
     "data": {
      "text/plain": [
       "Index(['efid', 'id', 'salesArea', 'score', 'scoreAlt', 'smartwayScore',\n",
       "       'standard', 'stdText', 'barrels08', 'barrelsA08', 'charge120',\n",
       "       'charge240', 'city08', 'city08U', 'cityA08', 'cityA08U', 'cityCD',\n",
       "       'cityE', 'cityUF', 'co2', 'co2A', 'co2TailpipeAGpm', 'co2TailpipeGpm',\n",
       "       'comb08', 'comb08U', 'combA08', 'combA08U', 'combE', 'combinedCD',\n",
       "       'combinedUF', 'cylinders', 'displ', 'drive', 'engId', 'eng_dscr',\n",
       "       'feScore', 'fuelCost08', 'fuelCostA08', 'fuelType', 'fuelType1',\n",
       "       'ghgScore', 'ghgScoreA', 'highway08', 'highway08U', 'highwayA08',\n",
       "       'highwayA08U', 'highwayCD', 'highwayE', 'highwayUF', 'hlv', 'hpv',\n",
       "       'lv2', 'lv4', 'make', 'model', 'mpgData', 'phevBlended', 'pv2', 'pv4',\n",
       "       'range', 'rangeCity', 'rangeCityA', 'rangeHwy', 'rangeHwyA', 'trany',\n",
       "       'UCity', 'UCityA', 'UHighway', 'UHighwayA', 'VClass', 'year',\n",
       "       'youSaveSpend', 'guzzler', 'trans_dscr', 'tCharger', 'sCharger',\n",
       "       'atvType', 'fuelType2', 'rangeA', 'evMotor', 'mfrCode', 'c240Dscr',\n",
       "       'charge240b', 'c240bDscr', 'createdOn', 'modifiedOn', 'startStop',\n",
       "       'phevCity', 'phevHwy', 'phevComb'],\n",
       "      dtype='object')"
      ]
     },
     "execution_count": 18,
     "metadata": {},
     "output_type": "execute_result"
    }
   ],
   "source": [
    "#show all columns indeces \n",
    "df_raw.columns"
   ]
  },
  {
   "cell_type": "code",
   "execution_count": 32,
   "id": "650c0fc6",
   "metadata": {},
   "outputs": [
    {
     "data": {
      "text/plain": [
       "BMW               3441\n",
       "Chevrolet         3307\n",
       "Ford              3104\n",
       "Mercedes-Benz     2401\n",
       "Toyota            2198\n",
       "                  ... \n",
       "Azure Dynamics       2\n",
       "Fisker               2\n",
       "RUF Automobile       2\n",
       "Shelby               2\n",
       "Mahindra             1\n",
       "Name: make, Length: 76, dtype: int64"
      ]
     },
     "execution_count": 32,
     "metadata": {},
     "output_type": "execute_result"
    }
   ],
   "source": [
    "df_raw[\"make\"].value_counts()"
   ]
  },
  {
   "cell_type": "code",
   "execution_count": 34,
   "id": "47510704",
   "metadata": {},
   "outputs": [
    {
     "data": {
      "text/plain": [
       "Jetta                          251\n",
       "Accord                         238\n",
       "Mustang                        216\n",
       "Camaro                         181\n",
       "Tacoma 2WD                     166\n",
       "                              ... \n",
       "Armored DTS                      1\n",
       "570S Spider                      1\n",
       "600LT Spider                     1\n",
       "620R Coupe                       1\n",
       "Stage 3 F150 Super Crew 2WD      1\n",
       "Name: model, Length: 3146, dtype: int64"
      ]
     },
     "execution_count": 34,
     "metadata": {},
     "output_type": "execute_result"
    }
   ],
   "source": [
    "df_raw[\"model\"].value_counts()"
   ]
  },
  {
   "cell_type": "code",
   "execution_count": 36,
   "id": "5a6b4050",
   "metadata": {},
   "outputs": [
    {
     "data": {
      "text/plain": [
       "2018    2724\n",
       "2019    2689\n",
       "2015    2649\n",
       "2021    2632\n",
       "2014    2602\n",
       "2017    2592\n",
       "2016    2586\n",
       "2020    2577\n",
       "2013    2533\n",
       "2022    2377\n",
       "2008    2290\n",
       "2012    2264\n",
       "2011    2212\n",
       "2007    2117\n",
       "2006    2071\n",
       "2010    2061\n",
       "2004    2015\n",
       "2005    1963\n",
       "2009    1943\n",
       "Name: year, dtype: int64"
      ]
     },
     "execution_count": 36,
     "metadata": {},
     "output_type": "execute_result"
    }
   ],
   "source": [
    "df_raw[\"year\"].value_counts()"
   ]
  },
  {
   "cell_type": "code",
   "execution_count": 42,
   "id": "b3dc12ca",
   "metadata": {},
   "outputs": [
    {
     "data": {
      "text/plain": [
       "4.0     17346\n",
       "6.0     15363\n",
       "8.0      8830\n",
       "5.0       945\n",
       "12.0      939\n",
       "3.0       424\n",
       "10.0      317\n",
       "2.0        60\n",
       "16.0       34\n",
       "Name: cylinders, dtype: int64"
      ]
     },
     "execution_count": 42,
     "metadata": {},
     "output_type": "execute_result"
    }
   ],
   "source": [
    "df_raw[\"cylinders\"].value_counts()"
   ]
  },
  {
   "cell_type": "code",
   "execution_count": 44,
   "id": "0802d0bf",
   "metadata": {},
   "outputs": [
    {
     "data": {
      "text/plain": [
       "2.0    6888\n",
       "3.0    4528\n",
       "3.5    3339\n",
       "2.5    3071\n",
       "2.4    2784\n",
       "       ... \n",
       "2.6      10\n",
       "8.3      10\n",
       "2.1      10\n",
       "5.8       4\n",
       "0.0       2\n",
       "Name: displ, Length: 62, dtype: int64"
      ]
     },
     "execution_count": 44,
     "metadata": {},
     "output_type": "execute_result"
    }
   ],
   "source": [
    "df_raw[\"displ\"].value_counts()"
   ]
  },
  {
   "cell_type": "code",
   "execution_count": 46,
   "id": "65dbf7bf",
   "metadata": {},
   "outputs": [
    {
     "data": {
      "text/plain": [
       "False    44494\n",
       "True       403\n",
       "Name: phevBlended, dtype: int64"
      ]
     },
     "execution_count": 46,
     "metadata": {},
     "output_type": "execute_result"
    }
   ],
   "source": [
    "df_raw[\"phevBlended\"].value_counts()"
   ]
  },
  {
   "cell_type": "code",
   "execution_count": 48,
   "id": "43af62c4",
   "metadata": {},
   "outputs": [
    {
     "data": {
      "text/plain": [
       "0      28486\n",
       "91      1007\n",
       "96       993\n",
       "98       992\n",
       "94       979\n",
       "100      955\n",
       "97       870\n",
       "90       850\n",
       "99       844\n",
       "102      777\n",
       "103      678\n",
       "105      646\n",
       "101      640\n",
       "92       633\n",
       "93       623\n",
       "95       487\n",
       "106      486\n",
       "108      484\n",
       "89       469\n",
       "104      459\n",
       "88       368\n",
       "86       295\n",
       "107      245\n",
       "112      200\n",
       "109      175\n",
       "114      152\n",
       "87       148\n",
       "84       128\n",
       "111       98\n",
       "85        90\n",
       "115       88\n",
       "113       85\n",
       "82        62\n",
       "110       48\n",
       "48        44\n",
       "124       22\n",
       "120       22\n",
       "78        20\n",
       "148       19\n",
       "80        18\n",
       "83        18\n",
       "125       18\n",
       "76        18\n",
       "121       16\n",
       "143       16\n",
       "79        14\n",
       "117       14\n",
       "81        12\n",
       "128       12\n",
       "157       12\n",
       "70        10\n",
       "116       10\n",
       "127       10\n",
       "75         8\n",
       "77         6\n",
       "64         6\n",
       "118        4\n",
       "72         4\n",
       "155        4\n",
       "Name: pv4, dtype: int64"
      ]
     },
     "execution_count": 48,
     "metadata": {},
     "output_type": "execute_result"
    }
   ],
   "source": [
    "df_raw[\"pv4\"].value_counts()"
   ]
  },
  {
   "cell_type": "code",
   "execution_count": 50,
   "id": "8799dda6",
   "metadata": {},
   "outputs": [
    {
     "data": {
      "text/plain": [
       "0      38480\n",
       "70       582\n",
       "81       502\n",
       "83       346\n",
       "84       341\n",
       "89       325\n",
       "68       324\n",
       "91       314\n",
       "90       280\n",
       "86       249\n",
       "88       246\n",
       "78       236\n",
       "85       233\n",
       "82       228\n",
       "94       217\n",
       "92       200\n",
       "87       198\n",
       "77       198\n",
       "74       186\n",
       "79       183\n",
       "76       169\n",
       "93       144\n",
       "75       110\n",
       "80        74\n",
       "72        68\n",
       "52        62\n",
       "99        62\n",
       "48        60\n",
       "100       40\n",
       "50        36\n",
       "102       36\n",
       "49        35\n",
       "96        26\n",
       "97        20\n",
       "105       20\n",
       "98        15\n",
       "95        12\n",
       "43        12\n",
       "46         8\n",
       "64         6\n",
       "118        4\n",
       "47         4\n",
       "107        4\n",
       "73         2\n",
       "Name: pv2, dtype: int64"
      ]
     },
     "execution_count": 50,
     "metadata": {},
     "output_type": "execute_result"
    }
   ],
   "source": [
    "df_raw[\"pv2\"].value_counts()"
   ]
  },
  {
   "cell_type": "code",
   "execution_count": 52,
   "id": "b5460fdc",
   "metadata": {},
   "outputs": [
    {
     "data": {
      "text/plain": [
       "Front-Wheel Drive             14805\n",
       "Rear-Wheel Drive              13029\n",
       "All-Wheel Drive                8486\n",
       "4-Wheel or All-Wheel Drive     3955\n",
       "4-Wheel Drive                  3850\n",
       "Part-time 4-Wheel Drive         772\n",
       "Name: drive, dtype: int64"
      ]
     },
     "execution_count": 52,
     "metadata": {},
     "output_type": "execute_result"
    }
   ],
   "source": [
    "df_raw[\"drive\"].value_counts()"
   ]
  },
  {
   "cell_type": "code",
   "execution_count": 54,
   "id": "abbdf8d5",
   "metadata": {},
   "outputs": [
    {
     "data": {
      "text/plain": [
       "FFV               2253\n",
       "Hybrid            1883\n",
       "Diesel             648\n",
       "EV                 639\n",
       "Plug-in Hybrid     536\n",
       "CNG                 36\n",
       "Bifuel (CNG)         8\n",
       "Name: atvType, dtype: int64"
      ]
     },
     "execution_count": 54,
     "metadata": {},
     "output_type": "execute_result"
    }
   ],
   "source": [
    "df_raw[\"atvType\"].value_counts()"
   ]
  },
  {
   "cell_type": "code",
   "execution_count": 59,
   "id": "a1b2745d",
   "metadata": {},
   "outputs": [
    {
     "data": {
      "text/plain": [
       "22975"
      ]
     },
     "execution_count": 59,
     "metadata": {},
     "output_type": "execute_result"
    }
   ],
   "source": [
    "df_raw[\"eng_dscr\"].isnull().sum()"
   ]
  },
  {
   "cell_type": "code",
   "execution_count": 60,
   "id": "f2b58cde",
   "metadata": {},
   "outputs": [
    {
     "data": {
      "text/plain": [
       "CLKUP              4983\n",
       "2MODE CLKUP        1143\n",
       "3MODE CLKUP         888\n",
       "EMS 2MODE CLKUP     514\n",
       "SIL                 256\n",
       "EMS                 223\n",
       "CMODE               210\n",
       "3MODE               157\n",
       "2MODE               133\n",
       "VMODE CLKUP         116\n",
       "CMODE CLKUP         100\n",
       "DC/FW                93\n",
       "4MODE                62\n",
       "VMODE VLKUP          55\n",
       "6MODE CLKUP          54\n",
       "VLKUP                51\n",
       "EMS CLKUP            43\n",
       "2MODE 2LKUP          43\n",
       "SIL EMS              27\n",
       "CMODE VLKUP          24\n",
       "4MODE CLKUP          12\n",
       "6MODE                12\n",
       "SIL 2MODE CLKUP       8\n",
       "SIL 3MODE             6\n",
       "LONG RATIO            4\n",
       "3MODE VLKUP           4\n",
       "EMS 3MODE CLKUP       3\n",
       "SIL 3MODE CLKUP       2\n",
       "3MODE CLKUP FW        2\n",
       "Name: trans_dscr, dtype: int64"
      ]
     },
     "execution_count": 60,
     "metadata": {},
     "output_type": "execute_result"
    }
   ],
   "source": [
    "df_raw[\"trans_dscr\"].value_counts()"
   ]
  },
  {
   "cell_type": "code",
   "execution_count": 41,
   "id": "8e6b1273",
   "metadata": {},
   "outputs": [
    {
     "data": {
      "text/plain": [
       "0.0000    44361\n",
       "0.4180       20\n",
       "0.3610       20\n",
       "0.4144       16\n",
       "0.9100       16\n",
       "          ...  \n",
       "0.4890        2\n",
       "0.4250        2\n",
       "0.5250        2\n",
       "0.5850        2\n",
       "0.3100        1\n",
       "Name: highwayUF, Length: 112, dtype: int64"
      ]
     },
     "execution_count": 41,
     "metadata": {},
     "output_type": "execute_result"
    }
   ],
   "source": [
    "df_raw[\"highwayUF\"].value_counts()"
   ]
  },
  {
   "cell_type": "code",
   "execution_count": 27,
   "id": "31b35859",
   "metadata": {},
   "outputs": [
    {
     "data": {
      "text/plain": [
       "-1      18849\n",
       " 0        639\n",
       " 407      171\n",
       " 305      169\n",
       " 347      167\n",
       "        ...  \n",
       " 205        2\n",
       " 667        2\n",
       " 130        1\n",
       " 682        1\n",
       " 707        1\n",
       "Name: co2, Length: 592, dtype: int64"
      ]
     },
     "execution_count": 27,
     "metadata": {},
     "output_type": "execute_result"
    }
   ],
   "source": [
    "df_raw[\"co2\"].value_counts()"
   ]
  },
  {
   "cell_type": "code",
   "execution_count": 28,
   "id": "6ce61097",
   "metadata": {},
   "outputs": [
    {
     "data": {
      "text/plain": [
       "-1      43622\n",
       " 491       54\n",
       " 457       34\n",
       " 394       30\n",
       " 482       22\n",
       "        ...  \n",
       " 616        1\n",
       " 426        1\n",
       " 608        1\n",
       " 591        1\n",
       " 390        1\n",
       "Name: co2A, Length: 214, dtype: int64"
      ]
     },
     "execution_count": 28,
     "metadata": {},
     "output_type": "execute_result"
    }
   ],
   "source": [
    "df_raw[\"co2A\"].value_counts()"
   ]
  },
  {
   "cell_type": "code",
   "execution_count": 16,
   "id": "1339a7a2",
   "metadata": {},
   "outputs": [
    {
     "data": {
      "text/plain": [
       "-1     18936\n",
       " 5      6723\n",
       " 4      4878\n",
       " 6      3625\n",
       " 3      3246\n",
       " 7      2799\n",
       " 8      1474\n",
       " 2      1294\n",
       " 10      995\n",
       " 1       506\n",
       " 9       421\n",
       "Name: feScore, dtype: int64"
      ]
     },
     "execution_count": 16,
     "metadata": {},
     "output_type": "execute_result"
    }
   ],
   "source": [
    "#-1 = not available \n",
    "df_raw[\"feScore\"].value_counts()"
   ]
  },
  {
   "cell_type": "code",
   "execution_count": 48,
   "id": "c4aec334",
   "metadata": {},
   "outputs": [
    {
     "data": {
      "text/plain": [
       "BMW               3441\n",
       "Chevrolet         3307\n",
       "Ford              3104\n",
       "Mercedes-Benz     2401\n",
       "Toyota            2198\n",
       "                  ... \n",
       "Azure Dynamics       2\n",
       "Fisker               2\n",
       "RUF Automobile       2\n",
       "Shelby               2\n",
       "Mahindra             1\n",
       "Name: make, Length: 76, dtype: int64"
      ]
     },
     "execution_count": 48,
     "metadata": {},
     "output_type": "execute_result"
    }
   ],
   "source": [
    "df_raw[\"make\"].value_counts()"
   ]
  },
  {
   "cell_type": "code",
   "execution_count": 49,
   "id": "ab43eac4",
   "metadata": {},
   "outputs": [
    {
     "data": {
      "text/plain": [
       "Jetta                          251\n",
       "Accord                         238\n",
       "Mustang                        216\n",
       "Camaro                         181\n",
       "Tacoma 2WD                     166\n",
       "                              ... \n",
       "Armored DTS                      1\n",
       "570S Spider                      1\n",
       "600LT Spider                     1\n",
       "620R Coupe                       1\n",
       "Stage 3 F150 Super Crew 2WD      1\n",
       "Name: model, Length: 3146, dtype: int64"
      ]
     },
     "execution_count": 49,
     "metadata": {},
     "output_type": "execute_result"
    }
   ],
   "source": [
    "df_raw[\"model\"].value_counts()"
   ]
  },
  {
   "cell_type": "code",
   "execution_count": 51,
   "id": "5645733f",
   "metadata": {},
   "outputs": [
    {
     "data": {
      "text/plain": [
       "2018    2724\n",
       "2019    2689\n",
       "2015    2649\n",
       "2021    2632\n",
       "2014    2602\n",
       "2017    2592\n",
       "2016    2586\n",
       "2020    2577\n",
       "2013    2533\n",
       "2022    2377\n",
       "2008    2290\n",
       "2012    2264\n",
       "2011    2212\n",
       "2007    2117\n",
       "2006    2071\n",
       "2010    2061\n",
       "2004    2015\n",
       "2005    1963\n",
       "2009    1943\n",
       "Name: year, dtype: int64"
      ]
     },
     "execution_count": 51,
     "metadata": {},
     "output_type": "execute_result"
    }
   ],
   "source": [
    "df_raw[\"year\"].value_counts()"
   ]
  },
  {
   "cell_type": "code",
   "execution_count": 53,
   "id": "56b7daed",
   "metadata": {},
   "outputs": [
    {
     "data": {
      "text/plain": [
       "Regular                        21795\n",
       "Premium                        18691\n",
       "Gasoline or E85                 2029\n",
       "Diesel                           648\n",
       "Electricity                      639\n",
       "Midgrade                         291\n",
       "Premium and Electricity          250\n",
       "Premium or E85                   224\n",
       "Regular Gas and Electricity      153\n",
       "Premium Gas or Electricity       117\n",
       "CNG                               36\n",
       "Regular Gas or Electricity        16\n",
       "Gasoline or natural gas            8\n",
       "Name: fuelType, dtype: int64"
      ]
     },
     "execution_count": 53,
     "metadata": {},
     "output_type": "execute_result"
    }
   ],
   "source": [
    "#fuelType = fuelType1 + fuelType2 \n",
    "#fuelType1 and fuelType2 can be deleted and the column fuelType can be transformed in a numerical value \n",
    "df_raw[\"fuelType\"].value_counts()"
   ]
  },
  {
   "cell_type": "code",
   "execution_count": 56,
   "id": "8f0acac2",
   "metadata": {},
   "outputs": [
    {
     "data": {
      "text/plain": [
       "Regular Gasoline     24001\n",
       "Premium Gasoline     19282\n",
       "Diesel                 648\n",
       "Electricity            639\n",
       "Midgrade Gasoline      291\n",
       "Natural Gas             36\n",
       "Name: fuelType1, dtype: int64"
      ]
     },
     "execution_count": 56,
     "metadata": {},
     "output_type": "execute_result"
    }
   ],
   "source": [
    "#For single fuel vehicles, this will be the only fuel. For dual fuel vehicles, this will be the conventional fuel.\n",
    "df_raw[\"fuelType1\"].value_counts()"
   ]
  },
  {
   "cell_type": "code",
   "execution_count": 59,
   "id": "09292121",
   "metadata": {},
   "outputs": [
    {
     "data": {
      "text/plain": [
       "E85            2253\n",
       "Electricity     536\n",
       "Natural Gas       8\n",
       "Name: fuelType2, dtype: int64"
      ]
     },
     "execution_count": 59,
     "metadata": {},
     "output_type": "execute_result"
    }
   ],
   "source": [
    "#For dual fuel vehicles, this will be the alternative fuel (e.g. E85, Electricity, CNG, LPG).\n",
    "df_raw[\"fuelType2\"].value_counts()"
   ]
  },
  {
   "cell_type": "code",
   "execution_count": 61,
   "id": "d61e2758",
   "metadata": {},
   "outputs": [
    {
     "data": {
      "text/plain": [
       "42100"
      ]
     },
     "execution_count": 61,
     "metadata": {},
     "output_type": "execute_result"
    }
   ],
   "source": [
    "#the empty value mean the vehicle only have one type of fuel \n",
    "df_raw['fuelType2'].isna().sum()"
   ]
  },
  {
   "cell_type": "code",
   "execution_count": 48,
   "id": "9b164a2a",
   "metadata": {},
   "outputs": [
    {
     "data": {
      "text/plain": [
       "GPRXV04.0C91    78\n",
       "MGMXT05.3386    74\n",
       "FGMXT06.2374    72\n",
       "NGMXT05.3386    70\n",
       "7BMXB03.0N52    68\n",
       "                ..\n",
       "LRAXV03.8T12     1\n",
       "DNSXV01.881B     1\n",
       "9KMXV02.0LPC     1\n",
       "9DSXV02.4G6G     1\n",
       "8GMXT04.2188     1\n",
       "Name: efid, Length: 6796, dtype: int64"
      ]
     },
     "execution_count": 48,
     "metadata": {},
     "output_type": "execute_result"
    }
   ],
   "source": [
    "#efid - engine family ID\n",
    "df_raw[\"efid\"].value_counts()"
   ]
  },
  {
   "cell_type": "code",
   "execution_count": 65,
   "id": "3f9c1bb3",
   "metadata": {},
   "outputs": [
    {
     "data": {
      "text/plain": [
       "standard charger    232\n",
       "3.6 kW charger        8\n",
       "single charger        6\n",
       "6.6 kW charger        4\n",
       "7.2 kW charger        2\n",
       "Name: c240Dscr, dtype: int64"
      ]
     },
     "execution_count": 65,
     "metadata": {},
     "output_type": "execute_result"
    }
   ],
   "source": [
    "#electric vehicle charger description\n",
    "df_raw[\"c240Dscr\"].value_counts()"
   ]
  },
  {
   "cell_type": "code",
   "execution_count": 66,
   "id": "2f3a6c84",
   "metadata": {},
   "outputs": [
    {
     "data": {
      "text/plain": [
       "0.00    44662\n",
       "4.75       92\n",
       "8.00       36\n",
       "8.50       30\n",
       "3.75       18\n",
       "8.30       10\n",
       "6.20        8\n",
       "9.60        8\n",
       "5.00        6\n",
       "2.30        4\n",
       "6.60        4\n",
       "8.20        4\n",
       "4.40        4\n",
       "4.00        2\n",
       "2.50        2\n",
       "9.30        2\n",
       "6.50        2\n",
       "5.80        2\n",
       "7.00        1\n",
       "Name: charge240b, dtype: int64"
      ]
     },
     "execution_count": 66,
     "metadata": {},
     "output_type": "execute_result"
    }
   ],
   "source": [
    "#time to charge an electric vehicle in hours at 240 V using the alternate charger\n",
    "df_raw[\"charge240b\"].value_counts()"
   ]
  },
  {
   "cell_type": "code",
   "execution_count": 58,
   "id": "dc8e1424",
   "metadata": {},
   "outputs": [
    {
     "data": {
      "text/plain": [
       "18     4097\n",
       "17     3899\n",
       "16     3779\n",
       "19     3554\n",
       "15     3372\n",
       "       ... \n",
       "109       2\n",
       "141       2\n",
       "103       2\n",
       "60        1\n",
       "61        1\n",
       "Name: city08, Length: 124, dtype: int64"
      ]
     },
     "execution_count": 58,
     "metadata": {},
     "output_type": "execute_result"
    }
   ],
   "source": [
    "df_raw[\"city08\"].value_counts()"
   ]
  },
  {
   "cell_type": "code",
   "execution_count": 66,
   "id": "635187bb",
   "metadata": {},
   "outputs": [
    {
     "data": {
      "text/plain": [
       "18     4097\n",
       "17     3899\n",
       "16     3779\n",
       "19     3554\n",
       "15     3372\n",
       "       ... \n",
       "109       2\n",
       "141       2\n",
       "103       2\n",
       "60        1\n",
       "61        1\n",
       "Name: city08, Length: 124, dtype: int64"
      ]
     },
     "execution_count": 66,
     "metadata": {},
     "output_type": "execute_result"
    }
   ],
   "source": [
    "#the fuel consumption in the city for fuelType2 is mainly 0 - therefore we are adding up the column 'city08' and 'cityA08'\n",
    "df_raw[\"city08\"].value_counts()"
   ]
  },
  {
   "cell_type": "code",
   "execution_count": 67,
   "id": "6584b7b8",
   "metadata": {},
   "outputs": [
    {
     "data": {
      "text/plain": [
       "18     4097\n",
       "17     3899\n",
       "16     3779\n",
       "19     3554\n",
       "15     3372\n",
       "       ... \n",
       "109       2\n",
       "141       2\n",
       "103       2\n",
       "60        1\n",
       "61        1\n",
       "Name: city08, Length: 124, dtype: int64"
      ]
     },
     "execution_count": 67,
     "metadata": {},
     "output_type": "execute_result"
    }
   ],
   "source": [
    "df_raw[\"city08\"].value_counts()"
   ]
  },
  {
   "cell_type": "code",
   "execution_count": 24,
   "id": "8e31ffbf",
   "metadata": {},
   "outputs": [
    {
     "data": {
      "text/plain": [
       " 5.0     18124\n",
       " 6.0     11408\n",
       " 3.0      4219\n",
       " 1.0      3582\n",
       " 7.0      3544\n",
       " 2.0      1410\n",
       " 9.0      1337\n",
       " 10.0      633\n",
       " 8.0       610\n",
       "-12.0       13\n",
       " 4.0        10\n",
       "-2.0         7\n",
       "Name: score, dtype: int64"
      ]
     },
     "execution_count": 24,
     "metadata": {},
     "output_type": "execute_result"
    }
   ],
   "source": [
    "#EPA 1-10 smog rating for fuelType1\n",
    "df_raw[\"score\"].value_counts()"
   ]
  },
  {
   "cell_type": "code",
   "execution_count": 68,
   "id": "39a25cc8",
   "metadata": {},
   "outputs": [
    {
     "data": {
      "text/plain": [
       "-1.0    44465\n",
       " 5.0      157\n",
       " 6.0      128\n",
       " 2.0       93\n",
       " 1.0       54\n",
       "Name: scoreAlt, dtype: int64"
      ]
     },
     "execution_count": 68,
     "metadata": {},
     "output_type": "execute_result"
    }
   ],
   "source": [
    "#EPA 1-10 smog rating for fuelType2\n",
    "df_raw[\"scoreAlt\"].value_counts()"
   ]
  },
  {
   "cell_type": "code",
   "execution_count": 69,
   "id": "b48a807b",
   "metadata": {},
   "outputs": [
    {
     "data": {
      "text/plain": [
       "-1     18936\n",
       " 5      6567\n",
       " 4      5031\n",
       " 6      3563\n",
       " 3      3263\n",
       " 7      2859\n",
       " 8      1343\n",
       " 2      1294\n",
       " 10     1115\n",
       " 1       504\n",
       " 9       422\n",
       "Name: ghgScore, dtype: int64"
      ]
     },
     "execution_count": 69,
     "metadata": {},
     "output_type": "execute_result"
    }
   ],
   "source": [
    "#\n",
    "df_raw[\"ghgScore\"].value_counts()"
   ]
  },
  {
   "cell_type": "code",
   "execution_count": 70,
   "id": "0311329b",
   "metadata": {},
   "outputs": [
    {
     "data": {
      "text/plain": [
       "-1    43543\n",
       " 4      330\n",
       " 3      302\n",
       " 5      265\n",
       " 6      189\n",
       " 2      135\n",
       " 1       40\n",
       " 8       34\n",
       " 7       33\n",
       " 0       26\n",
       "Name: ghgScoreA, dtype: int64"
      ]
     },
     "execution_count": 70,
     "metadata": {},
     "output_type": "execute_result"
    }
   ],
   "source": [
    "df_raw[\"ghgScoreA\"].value_counts()"
   ]
  },
  {
   "cell_type": "code",
   "execution_count": 72,
   "id": "df23805e",
   "metadata": {},
   "outputs": [
    {
     "data": {
      "text/plain": [
       "Midsize Cars                          6417\n",
       "Compact Cars                          6111\n",
       "Subcompact Cars                       4267\n",
       "Large Cars                            3411\n",
       "Small Sport Utility Vehicle 4WD       2753\n",
       "Sport Utility Vehicle - 4WD           2748\n",
       "Two Seaters                           2673\n",
       "Sport Utility Vehicle - 2WD           2110\n",
       "Standard Sport Utility Vehicle 4WD    2103\n",
       "Minicompact Cars                      1825\n",
       "Small Station Wagons                  1747\n",
       "Small Sport Utility Vehicle 2WD       1699\n",
       "Standard Pickup Trucks 2WD            1596\n",
       "Standard Pickup Trucks 4WD            1589\n",
       "Standard Sport Utility Vehicle 2WD     784\n",
       "Small Pickup Trucks 2WD                562\n",
       "Midsize Station Wagons                 528\n",
       "Minivan - 2WD                          479\n",
       "Small Pickup Trucks 4WD                439\n",
       "Special Purpose Vehicle 2WD            331\n",
       "Vans, Cargo Type                       319\n",
       "Vans, Passenger Type                   272\n",
       "Special Purpose Vehicle 4WD             70\n",
       "Minivan - 4WD                           64\n",
       "Name: VClass, dtype: int64"
      ]
     },
     "execution_count": 72,
     "metadata": {},
     "output_type": "execute_result"
    }
   ],
   "source": [
    "df_raw[\"VClass\"].value_counts()"
   ]
  },
  {
   "cell_type": "code",
   "execution_count": 73,
   "id": "7e7b9d65",
   "metadata": {},
   "outputs": [
    {
     "data": {
      "text/plain": [
       "GMX    4035\n",
       "BMX    3154\n",
       "FMX    2414\n",
       "CRX    2147\n",
       "TYX    2093\n",
       "MBX    1795\n",
       "NSX    1559\n",
       "VGA    1491\n",
       "PRX    1457\n",
       "HNX    1237\n",
       "HYX    1131\n",
       "KMX     974\n",
       "JLX     818\n",
       "FJX     556\n",
       "TKX     529\n",
       "VVX     474\n",
       "MTX     372\n",
       "VWX     327\n",
       "ADX     262\n",
       "TSL     240\n",
       "FEX     222\n",
       "MAX     180\n",
       "RRG     160\n",
       "ASX     144\n",
       "SKX      66\n",
       "MLN      59\n",
       "JCX      50\n",
       "RII      48\n",
       "LTX      44\n",
       "SAX      34\n",
       "BEX      32\n",
       "NLX      30\n",
       "LRX      28\n",
       "DSX      15\n",
       "LMU      12\n",
       "KAL       8\n",
       "TVP       6\n",
       "BYD       6\n",
       "BGT       6\n",
       "CDA       4\n",
       "MBV       4\n",
       "RIV       4\n",
       "PGN       3\n",
       "SCA       3\n",
       "FSK       2\n",
       "AZD       2\n",
       "FTG       2\n",
       "QTM       2\n",
       "RAX       2\n",
       "Name: mfrCode, dtype: int64"
      ]
     },
     "execution_count": 73,
     "metadata": {},
     "output_type": "execute_result"
    }
   ],
   "source": [
    "df_raw[\"mfrCode\"].value_counts()"
   ]
  },
  {
   "cell_type": "markdown",
   "id": "d18af072",
   "metadata": {},
   "source": [
    "# Data Cleaning\n",
    "\n",
    "Based on the data inspection part we are going to eliminate ...... "
   ]
  },
  {
   "cell_type": "code",
   "execution_count": 64,
   "id": "2347e9ea",
   "metadata": {},
   "outputs": [],
   "source": []
  },
  {
   "cell_type": "code",
   "execution_count": null,
   "id": "aec7fd17",
   "metadata": {},
   "outputs": [],
   "source": []
  }
 ],
 "metadata": {
  "kernelspec": {
   "display_name": "Python 3 (ipykernel)",
   "language": "python",
   "name": "python3"
  },
  "language_info": {
   "codemirror_mode": {
    "name": "ipython",
    "version": 3
   },
   "file_extension": ".py",
   "mimetype": "text/x-python",
   "name": "python",
   "nbconvert_exporter": "python",
   "pygments_lexer": "ipython3",
   "version": "3.8.12"
  }
 },
 "nbformat": 4,
 "nbformat_minor": 5
}
