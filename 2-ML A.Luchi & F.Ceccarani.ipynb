{
 "cells": [
  {
   "cell_type": "markdown",
   "id": "b74fbfd6",
   "metadata": {},
   "source": [
    "# RESEARCH QUESTION: How to predict the ghg Score of a vehicle? \n",
    "\n",
    "This rating reflects vehicle tailpipe emissions of carbon dioxide (CO2), the most prevalent greenhouse gas (GHG). CO2 emissions typically constitute 99% of the tailpipe emissions of greenhouse gases. \n",
    "\n",
    "https://www.epa.gov/greenvehicles/greenhouse-gas-rating for further information"
   ]
  },
  {
   "cell_type": "markdown",
   "id": "dbaf9300",
   "metadata": {},
   "source": [
    "## Packages used "
   ]
  },
  {
   "cell_type": "code",
   "execution_count": 1,
   "id": "a9c10717",
   "metadata": {},
   "outputs": [
    {
     "name": "stdout",
     "output_type": "stream",
     "text": [
      "Requirement already satisfied: rulefit in /Users/filippoceccarani/opt/anaconda3/envs/emlyon/lib/python3.8/site-packages (0.3.1)\n",
      "Requirement already satisfied: shap in /Users/filippoceccarani/opt/anaconda3/envs/emlyon/lib/python3.8/site-packages (0.40.0)\n",
      "Requirement already satisfied: scikit-learn>=0.20.2 in /Users/filippoceccarani/opt/anaconda3/envs/emlyon/lib/python3.8/site-packages (from rulefit) (1.0.2)\n",
      "Requirement already satisfied: pandas>=0.24.1 in /Users/filippoceccarani/opt/anaconda3/envs/emlyon/lib/python3.8/site-packages (from rulefit) (1.4.2)\n",
      "Requirement already satisfied: numpy>=1.16.1 in /Users/filippoceccarani/opt/anaconda3/envs/emlyon/lib/python3.8/site-packages (from rulefit) (1.21.6)\n",
      "Requirement already satisfied: cloudpickle in /Users/filippoceccarani/opt/anaconda3/envs/emlyon/lib/python3.8/site-packages (from shap) (2.0.0)\n",
      "Requirement already satisfied: tqdm>4.25.0 in /Users/filippoceccarani/opt/anaconda3/envs/emlyon/lib/python3.8/site-packages (from shap) (4.64.0)\n",
      "Requirement already satisfied: packaging>20.9 in /Users/filippoceccarani/opt/anaconda3/envs/emlyon/lib/python3.8/site-packages (from shap) (21.3)\n",
      "Requirement already satisfied: slicer==0.0.7 in /Users/filippoceccarani/opt/anaconda3/envs/emlyon/lib/python3.8/site-packages (from shap) (0.0.7)\n",
      "Requirement already satisfied: numba in /Users/filippoceccarani/opt/anaconda3/envs/emlyon/lib/python3.8/site-packages (from shap) (0.55.1)\n",
      "Requirement already satisfied: scipy in /Users/filippoceccarani/opt/anaconda3/envs/emlyon/lib/python3.8/site-packages (from shap) (1.8.0)\n",
      "Requirement already satisfied: pyparsing!=3.0.5,>=2.0.2 in /Users/filippoceccarani/opt/anaconda3/envs/emlyon/lib/python3.8/site-packages (from packaging>20.9->shap) (3.0.7)\n",
      "Requirement already satisfied: python-dateutil>=2.8.1 in /Users/filippoceccarani/opt/anaconda3/envs/emlyon/lib/python3.8/site-packages (from pandas>=0.24.1->rulefit) (2.8.2)\n",
      "Requirement already satisfied: pytz>=2020.1 in /Users/filippoceccarani/opt/anaconda3/envs/emlyon/lib/python3.8/site-packages (from pandas>=0.24.1->rulefit) (2022.1)\n",
      "Requirement already satisfied: six>=1.5 in /Users/filippoceccarani/opt/anaconda3/envs/emlyon/lib/python3.8/site-packages (from python-dateutil>=2.8.1->pandas>=0.24.1->rulefit) (1.16.0)\n",
      "Requirement already satisfied: threadpoolctl>=2.0.0 in /Users/filippoceccarani/opt/anaconda3/envs/emlyon/lib/python3.8/site-packages (from scikit-learn>=0.20.2->rulefit) (3.1.0)\n",
      "Requirement already satisfied: joblib>=0.11 in /Users/filippoceccarani/opt/anaconda3/envs/emlyon/lib/python3.8/site-packages (from scikit-learn>=0.20.2->rulefit) (1.1.0)\n",
      "Requirement already satisfied: llvmlite<0.39,>=0.38.0rc1 in /Users/filippoceccarani/opt/anaconda3/envs/emlyon/lib/python3.8/site-packages (from numba->shap) (0.38.0)\n",
      "Requirement already satisfied: setuptools in /Users/filippoceccarani/opt/anaconda3/envs/emlyon/lib/python3.8/site-packages (from numba->shap) (58.0.4)\n"
     ]
    }
   ],
   "source": [
    "# base modules\n",
    "import os\n",
    "import sys\n",
    "import copy\n",
    "import logging\n",
    "\n",
    "# for manipulating data\n",
    "import numpy as np\n",
    "import pandas as pd\n",
    "import dill\n",
    "import math\n",
    "from sklearn.model_selection import train_test_split\n",
    "\n",
    "# for Machine Learning\n",
    "from sklearn.ensemble import RandomForestRegressor, RandomForestClassifier, BaggingRegressor\n",
    "from sklearn.tree import DecisionTreeRegressor, DecisionTreeClassifier, plot_tree\n",
    "from sklearn import metrics\n",
    "from sklearn.preprocessing import LabelEncoder\n",
    "from sklearn.model_selection import cross_val_score, KFold, GridSearchCV\n",
    "from sklearn.calibration import CalibratedClassifierCV\n",
    "from sklearn.inspection import permutation_importance\n",
    "from scipy.cluster import hierarchy\n",
    "from sklearn.metrics import classification_report, confusion_matrix, accuracy_score\n",
    "\n",
    "# for visualization\n",
    "from IPython.display import display\n",
    "from matplotlib import pyplot as plt\n",
    "import seaborn as sns\n",
    "!pip install --upgrade rulefit shap"
   ]
  },
  {
   "cell_type": "code",
   "execution_count": 2,
   "id": "c22a5c82",
   "metadata": {},
   "outputs": [
    {
     "data": {
      "text/plain": [
       "'/Users/filippoceccarani/Desktop/EMLyon-ML-course-2022-T1'"
      ]
     },
     "execution_count": 2,
     "metadata": {},
     "output_type": "execute_result"
    }
   ],
   "source": [
    "path_to_repo = os.path.dirname(os.path.dirname(os.path.realpath('__file__')))\n",
    "path_to_repo"
   ]
  },
  {
   "cell_type": "code",
   "execution_count": 3,
   "id": "48ef92bb",
   "metadata": {},
   "outputs": [],
   "source": [
    "sys.path.insert(0, os.path.join(path_to_repo, 'src'))"
   ]
  },
  {
   "cell_type": "code",
   "execution_count": 4,
   "id": "c80871b5",
   "metadata": {},
   "outputs": [],
   "source": [
    "from emlyon.utils import *"
   ]
  },
  {
   "cell_type": "markdown",
   "id": "04374049",
   "metadata": {},
   "source": [
    "## The datasets \n",
    "\n",
    "We found our database on US Department of Energy website (https://www.fueleconomy.gov/feg/ws/). Which is the official US government source for fuel economy information. \n",
    "\n",
    "We have two datasets: one regarding the vehicles information and the other the respective emissions. \n",
    "We need to merge them. \n",
    "\n",
    "The dataframes has the same id column, so we are merging the 2 dataframe based on that. "
   ]
  },
  {
   "cell_type": "code",
   "execution_count": 5,
   "id": "da57c7c5",
   "metadata": {},
   "outputs": [],
   "source": [
    "#open the emissions dataframe dfe\n",
    "\n",
    "dfe = pd.read_csv('emissions.csv')"
   ]
  },
  {
   "cell_type": "code",
   "execution_count": 6,
   "id": "27c7d211",
   "metadata": {},
   "outputs": [],
   "source": [
    "np.random.seed(42)"
   ]
  },
  {
   "cell_type": "markdown",
   "id": "7e8100dc",
   "metadata": {},
   "source": [
    "The emissison dataframe has 8 columns of dtypes: float64(2), int64(3), object(3), and 44979 rows"
   ]
  },
  {
   "cell_type": "code",
   "execution_count": 7,
   "id": "dd105993",
   "metadata": {},
   "outputs": [
    {
     "name": "stdout",
     "output_type": "stream",
     "text": [
      "<class 'pandas.core.frame.DataFrame'>\n",
      "RangeIndex: 44979 entries, 0 to 44978\n",
      "Data columns (total 8 columns):\n",
      " #   Column         Non-Null Count  Dtype  \n",
      "---  ------         --------------  -----  \n",
      " 0   efid           44979 non-null  object \n",
      " 1   id             44979 non-null  int64  \n",
      " 2   salesArea      44979 non-null  int64  \n",
      " 3   score          44979 non-null  float64\n",
      " 4   scoreAlt       44979 non-null  float64\n",
      " 5   smartwayScore  44979 non-null  int64  \n",
      " 6   standard       44979 non-null  object \n",
      " 7   stdText        44965 non-null  object \n",
      "dtypes: float64(2), int64(3), object(3)\n",
      "memory usage: 2.7+ MB\n"
     ]
    }
   ],
   "source": [
    "dfe.info()"
   ]
  },
  {
   "cell_type": "code",
   "execution_count": 8,
   "id": "5aaf17cb",
   "metadata": {},
   "outputs": [
    {
     "name": "stderr",
     "output_type": "stream",
     "text": [
      "/var/folders/x7/tm9d29mx1lv2zl6slvnz5xvw0000gn/T/ipykernel_17497/3739757489.py:3: DtypeWarning: Columns (70,71,72,73,74,76,79) have mixed types. Specify dtype option on import or set low_memory=False.\n",
      "  dfv = pd.read_csv('vehicles.csv')\n"
     ]
    }
   ],
   "source": [
    "#open the vehicles dataframe dfv\n",
    "\n",
    "dfv = pd.read_csv('vehicles.csv')"
   ]
  },
  {
   "cell_type": "markdown",
   "id": "5936e42e",
   "metadata": {},
   "source": [
    "The vehicles dataframe has 83 columns of dtypes: bool(1), float64(32), int64(27), object(23), and 44768 rows"
   ]
  },
  {
   "cell_type": "code",
   "execution_count": 9,
   "id": "65898ef5",
   "metadata": {
    "scrolled": true
   },
   "outputs": [
    {
     "name": "stdout",
     "output_type": "stream",
     "text": [
      "<class 'pandas.core.frame.DataFrame'>\n",
      "RangeIndex: 44787 entries, 0 to 44786\n",
      "Data columns (total 83 columns):\n",
      " #   Column           Non-Null Count  Dtype  \n",
      "---  ------           --------------  -----  \n",
      " 0   barrels08        44787 non-null  float64\n",
      " 1   barrelsA08       44787 non-null  float64\n",
      " 2   charge120        44787 non-null  float64\n",
      " 3   charge240        44787 non-null  float64\n",
      " 4   city08           44787 non-null  int64  \n",
      " 5   city08U          44787 non-null  float64\n",
      " 6   cityA08          44787 non-null  int64  \n",
      " 7   cityA08U         44787 non-null  float64\n",
      " 8   cityCD           44787 non-null  float64\n",
      " 9   cityE            44787 non-null  float64\n",
      " 10  cityUF           44787 non-null  float64\n",
      " 11  co2              44787 non-null  int64  \n",
      " 12  co2A             44787 non-null  int64  \n",
      " 13  co2TailpipeAGpm  44787 non-null  float64\n",
      " 14  co2TailpipeGpm   44787 non-null  float64\n",
      " 15  comb08           44787 non-null  int64  \n",
      " 16  comb08U          44787 non-null  float64\n",
      " 17  combA08          44787 non-null  int64  \n",
      " 18  combA08U         44787 non-null  float64\n",
      " 19  combE            44787 non-null  float64\n",
      " 20  combinedCD       44787 non-null  float64\n",
      " 21  combinedUF       44787 non-null  float64\n",
      " 22  cylinders        44415 non-null  float64\n",
      " 23  displ            44417 non-null  float64\n",
      " 24  drive            43601 non-null  object \n",
      " 25  engId            44787 non-null  int64  \n",
      " 26  eng_dscr         27996 non-null  object \n",
      " 27  feScore          44787 non-null  int64  \n",
      " 28  fuelCost08       44787 non-null  int64  \n",
      " 29  fuelCostA08      44787 non-null  int64  \n",
      " 30  fuelType         44787 non-null  object \n",
      " 31  fuelType1        44787 non-null  object \n",
      " 32  ghgScore         44787 non-null  int64  \n",
      " 33  ghgScoreA        44787 non-null  int64  \n",
      " 34  highway08        44787 non-null  int64  \n",
      " 35  highway08U       44787 non-null  float64\n",
      " 36  highwayA08       44787 non-null  int64  \n",
      " 37  highwayA08U      44787 non-null  float64\n",
      " 38  highwayCD        44787 non-null  float64\n",
      " 39  highwayE         44787 non-null  float64\n",
      " 40  highwayUF        44787 non-null  float64\n",
      " 41  hlv              44787 non-null  int64  \n",
      " 42  hpv              44787 non-null  int64  \n",
      " 43  id               44787 non-null  int64  \n",
      " 44  lv2              44787 non-null  int64  \n",
      " 45  lv4              44787 non-null  int64  \n",
      " 46  make             44787 non-null  object \n",
      " 47  model            44787 non-null  object \n",
      " 48  mpgData          44768 non-null  object \n",
      " 49  phevBlended      44787 non-null  bool   \n",
      " 50  pv2              44787 non-null  int64  \n",
      " 51  pv4              44787 non-null  int64  \n",
      " 52  range            44787 non-null  int64  \n",
      " 53  rangeCity        44787 non-null  float64\n",
      " 54  rangeCityA       44787 non-null  float64\n",
      " 55  rangeHwy         44787 non-null  float64\n",
      " 56  rangeHwyA        44787 non-null  float64\n",
      " 57  trany            44776 non-null  object \n",
      " 58  UCity            44787 non-null  float64\n",
      " 59  UCityA           44787 non-null  float64\n",
      " 60  UHighway         44787 non-null  float64\n",
      " 61  UHighwayA        44787 non-null  float64\n",
      " 62  VClass           44787 non-null  object \n",
      " 63  year             44787 non-null  int64  \n",
      " 64  youSaveSpend     44787 non-null  int64  \n",
      " 65  guzzler          2624 non-null   object \n",
      " 66  trans_dscr       15044 non-null  object \n",
      " 67  tCharger         8857 non-null   object \n",
      " 68  sCharger         966 non-null    object \n",
      " 69  atvType          4329 non-null   object \n",
      " 70  fuelType2        1800 non-null   object \n",
      " 71  rangeA           1795 non-null   object \n",
      " 72  evMotor          1515 non-null   object \n",
      " 73  mfrCode          13979 non-null  object \n",
      " 74  c240Dscr         131 non-null    object \n",
      " 75  charge240b       44787 non-null  float64\n",
      " 76  c240bDscr        125 non-null    object \n",
      " 77  createdOn        44787 non-null  object \n",
      " 78  modifiedOn       44787 non-null  object \n",
      " 79  startStop        13098 non-null  object \n",
      " 80  phevCity         44787 non-null  int64  \n",
      " 81  phevHwy          44787 non-null  int64  \n",
      " 82  phevComb         44787 non-null  int64  \n",
      "dtypes: bool(1), float64(32), int64(27), object(23)\n",
      "memory usage: 28.1+ MB\n"
     ]
    }
   ],
   "source": [
    "dfv.info()"
   ]
  },
  {
   "cell_type": "code",
   "execution_count": 10,
   "id": "40553f5c",
   "metadata": {},
   "outputs": [],
   "source": [
    "# Eliminated all the id duplicate for the dataframe \"emission\"\n",
    "\n",
    "dfe = dfe.sort_values('id', ascending=False)\n",
    "dfe = dfe.drop_duplicates(subset='id', keep='first')"
   ]
  },
  {
   "cell_type": "code",
   "execution_count": 11,
   "id": "c81c2327",
   "metadata": {},
   "outputs": [],
   "source": [
    "# Eliminated all the id duplicate for the dataframe \"vehicles\"\n",
    "\n",
    "dfv = dfv.sort_values('id', ascending=False)\n",
    "dfv = dfv.drop_duplicates(subset='id', keep='first')"
   ]
  },
  {
   "cell_type": "code",
   "execution_count": 12,
   "id": "04b95359",
   "metadata": {},
   "outputs": [],
   "source": [
    "#Merge the two datasets \n",
    "\n",
    "df_raw = pd.merge(left=dfe, right=dfv, left_on='id', right_on='id')"
   ]
  },
  {
   "cell_type": "markdown",
   "id": "09f900b5",
   "metadata": {},
   "source": [
    "## Descriptive statistics\n",
    "\n",
    "Check the shape and the values in each column. "
   ]
  },
  {
   "cell_type": "code",
   "execution_count": 13,
   "id": "3c7ea4b1",
   "metadata": {},
   "outputs": [
    {
     "data": {
      "text/plain": [
       "(21950, 90)"
      ]
     },
     "execution_count": 13,
     "metadata": {},
     "output_type": "execute_result"
    }
   ],
   "source": [
    "#shape of the new dataframe\n",
    "\n",
    "df_raw.shape"
   ]
  },
  {
   "cell_type": "code",
   "execution_count": 14,
   "id": "12255462",
   "metadata": {},
   "outputs": [
    {
     "data": {
      "text/html": [
       "<div>\n",
       "<style scoped>\n",
       "    .dataframe tbody tr th:only-of-type {\n",
       "        vertical-align: middle;\n",
       "    }\n",
       "\n",
       "    .dataframe tbody tr th {\n",
       "        vertical-align: top;\n",
       "    }\n",
       "\n",
       "    .dataframe thead th {\n",
       "        text-align: right;\n",
       "    }\n",
       "</style>\n",
       "<table border=\"1\" class=\"dataframe\">\n",
       "  <thead>\n",
       "    <tr style=\"text-align: right;\">\n",
       "      <th></th>\n",
       "      <th>id</th>\n",
       "      <th>salesArea</th>\n",
       "      <th>score</th>\n",
       "      <th>scoreAlt</th>\n",
       "      <th>smartwayScore</th>\n",
       "      <th>barrels08</th>\n",
       "      <th>barrelsA08</th>\n",
       "      <th>charge120</th>\n",
       "      <th>charge240</th>\n",
       "      <th>city08</th>\n",
       "      <th>...</th>\n",
       "      <th>UCity</th>\n",
       "      <th>UCityA</th>\n",
       "      <th>UHighway</th>\n",
       "      <th>UHighwayA</th>\n",
       "      <th>year</th>\n",
       "      <th>youSaveSpend</th>\n",
       "      <th>charge240b</th>\n",
       "      <th>phevCity</th>\n",
       "      <th>phevHwy</th>\n",
       "      <th>phevComb</th>\n",
       "    </tr>\n",
       "  </thead>\n",
       "  <tbody>\n",
       "    <tr>\n",
       "      <th>count</th>\n",
       "      <td>21950.000000</td>\n",
       "      <td>21950.000000</td>\n",
       "      <td>21950.000000</td>\n",
       "      <td>21950.000000</td>\n",
       "      <td>21950.000000</td>\n",
       "      <td>21950.000000</td>\n",
       "      <td>21950.000000</td>\n",
       "      <td>21950.0</td>\n",
       "      <td>21950.000000</td>\n",
       "      <td>21950.000000</td>\n",
       "      <td>...</td>\n",
       "      <td>21950.000000</td>\n",
       "      <td>21950.000000</td>\n",
       "      <td>21950.000000</td>\n",
       "      <td>21950.000000</td>\n",
       "      <td>21950.000000</td>\n",
       "      <td>21950.000000</td>\n",
       "      <td>21950.000000</td>\n",
       "      <td>21950.000000</td>\n",
       "      <td>21950.000000</td>\n",
       "      <td>21950.000000</td>\n",
       "    </tr>\n",
       "    <tr>\n",
       "      <th>mean</th>\n",
       "      <td>32950.602961</td>\n",
       "      <td>5.353121</td>\n",
       "      <td>5.033075</td>\n",
       "      <td>-0.925194</td>\n",
       "      <td>-0.578132</td>\n",
       "      <td>14.322039</td>\n",
       "      <td>0.338052</td>\n",
       "      <td>0.0</td>\n",
       "      <td>0.168935</td>\n",
       "      <td>20.527335</td>\n",
       "      <td>...</td>\n",
       "      <td>26.277834</td>\n",
       "      <td>2.082464</td>\n",
       "      <td>38.250700</td>\n",
       "      <td>1.591420</td>\n",
       "      <td>2013.437585</td>\n",
       "      <td>-4824.054670</td>\n",
       "      <td>0.032768</td>\n",
       "      <td>0.513075</td>\n",
       "      <td>0.514806</td>\n",
       "      <td>0.511617</td>\n",
       "    </tr>\n",
       "    <tr>\n",
       "      <th>std</th>\n",
       "      <td>7622.982502</td>\n",
       "      <td>2.165905</td>\n",
       "      <td>1.929742</td>\n",
       "      <td>0.651950</td>\n",
       "      <td>0.857135</td>\n",
       "      <td>4.048618</td>\n",
       "      <td>1.280617</td>\n",
       "      <td>0.0</td>\n",
       "      <td>1.202342</td>\n",
       "      <td>12.221939</td>\n",
       "      <td>...</td>\n",
       "      <td>17.467813</td>\n",
       "      <td>12.530751</td>\n",
       "      <td>15.057325</td>\n",
       "      <td>7.435685</td>\n",
       "      <td>5.431032</td>\n",
       "      <td>4807.963642</td>\n",
       "      <td>0.468504</td>\n",
       "      <td>5.231607</td>\n",
       "      <td>5.032342</td>\n",
       "      <td>5.108823</td>\n",
       "    </tr>\n",
       "    <tr>\n",
       "      <th>min</th>\n",
       "      <td>19332.000000</td>\n",
       "      <td>1.000000</td>\n",
       "      <td>-12.000000</td>\n",
       "      <td>-1.000000</td>\n",
       "      <td>-1.000000</td>\n",
       "      <td>0.047081</td>\n",
       "      <td>0.000000</td>\n",
       "      <td>0.0</td>\n",
       "      <td>0.000000</td>\n",
       "      <td>8.000000</td>\n",
       "      <td>...</td>\n",
       "      <td>9.300000</td>\n",
       "      <td>0.000000</td>\n",
       "      <td>15.100000</td>\n",
       "      <td>0.000000</td>\n",
       "      <td>2004.000000</td>\n",
       "      <td>-29500.000000</td>\n",
       "      <td>0.000000</td>\n",
       "      <td>0.000000</td>\n",
       "      <td>0.000000</td>\n",
       "      <td>0.000000</td>\n",
       "    </tr>\n",
       "    <tr>\n",
       "      <th>25%</th>\n",
       "      <td>25431.500000</td>\n",
       "      <td>3.000000</td>\n",
       "      <td>5.000000</td>\n",
       "      <td>-1.000000</td>\n",
       "      <td>-1.000000</td>\n",
       "      <td>11.900400</td>\n",
       "      <td>0.000000</td>\n",
       "      <td>0.0</td>\n",
       "      <td>0.000000</td>\n",
       "      <td>16.000000</td>\n",
       "      <td>...</td>\n",
       "      <td>19.300000</td>\n",
       "      <td>0.000000</td>\n",
       "      <td>30.500000</td>\n",
       "      <td>0.000000</td>\n",
       "      <td>2009.000000</td>\n",
       "      <td>-7750.000000</td>\n",
       "      <td>0.000000</td>\n",
       "      <td>0.000000</td>\n",
       "      <td>0.000000</td>\n",
       "      <td>0.000000</td>\n",
       "    </tr>\n",
       "    <tr>\n",
       "      <th>50%</th>\n",
       "      <td>33824.500000</td>\n",
       "      <td>7.000000</td>\n",
       "      <td>5.000000</td>\n",
       "      <td>-1.000000</td>\n",
       "      <td>-1.000000</td>\n",
       "      <td>14.167143</td>\n",
       "      <td>0.000000</td>\n",
       "      <td>0.0</td>\n",
       "      <td>0.000000</td>\n",
       "      <td>18.000000</td>\n",
       "      <td>...</td>\n",
       "      <td>23.100000</td>\n",
       "      <td>0.000000</td>\n",
       "      <td>35.980550</td>\n",
       "      <td>0.000000</td>\n",
       "      <td>2014.000000</td>\n",
       "      <td>-4250.000000</td>\n",
       "      <td>0.000000</td>\n",
       "      <td>0.000000</td>\n",
       "      <td>0.000000</td>\n",
       "      <td>0.000000</td>\n",
       "    </tr>\n",
       "    <tr>\n",
       "      <th>75%</th>\n",
       "      <td>39443.750000</td>\n",
       "      <td>7.000000</td>\n",
       "      <td>6.000000</td>\n",
       "      <td>-1.000000</td>\n",
       "      <td>-1.000000</td>\n",
       "      <td>16.528333</td>\n",
       "      <td>0.000000</td>\n",
       "      <td>0.0</td>\n",
       "      <td>0.000000</td>\n",
       "      <td>22.000000</td>\n",
       "      <td>...</td>\n",
       "      <td>28.000000</td>\n",
       "      <td>0.000000</td>\n",
       "      <td>42.378500</td>\n",
       "      <td>0.000000</td>\n",
       "      <td>2018.000000</td>\n",
       "      <td>-1750.000000</td>\n",
       "      <td>0.000000</td>\n",
       "      <td>0.000000</td>\n",
       "      <td>0.000000</td>\n",
       "      <td>0.000000</td>\n",
       "    </tr>\n",
       "    <tr>\n",
       "      <th>max</th>\n",
       "      <td>45092.000000</td>\n",
       "      <td>9.000000</td>\n",
       "      <td>10.000000</td>\n",
       "      <td>6.000000</td>\n",
       "      <td>2.000000</td>\n",
       "      <td>33.056667</td>\n",
       "      <td>16.528333</td>\n",
       "      <td>0.0</td>\n",
       "      <td>15.300000</td>\n",
       "      <td>150.000000</td>\n",
       "      <td>...</td>\n",
       "      <td>224.800000</td>\n",
       "      <td>207.262200</td>\n",
       "      <td>187.100000</td>\n",
       "      <td>173.143600</td>\n",
       "      <td>2022.000000</td>\n",
       "      <td>9750.000000</td>\n",
       "      <td>9.600000</td>\n",
       "      <td>97.000000</td>\n",
       "      <td>81.000000</td>\n",
       "      <td>88.000000</td>\n",
       "    </tr>\n",
       "  </tbody>\n",
       "</table>\n",
       "<p>8 rows × 63 columns</p>\n",
       "</div>"
      ],
      "text/plain": [
       "                 id     salesArea         score      scoreAlt  smartwayScore  \\\n",
       "count  21950.000000  21950.000000  21950.000000  21950.000000   21950.000000   \n",
       "mean   32950.602961      5.353121      5.033075     -0.925194      -0.578132   \n",
       "std     7622.982502      2.165905      1.929742      0.651950       0.857135   \n",
       "min    19332.000000      1.000000    -12.000000     -1.000000      -1.000000   \n",
       "25%    25431.500000      3.000000      5.000000     -1.000000      -1.000000   \n",
       "50%    33824.500000      7.000000      5.000000     -1.000000      -1.000000   \n",
       "75%    39443.750000      7.000000      6.000000     -1.000000      -1.000000   \n",
       "max    45092.000000      9.000000     10.000000      6.000000       2.000000   \n",
       "\n",
       "          barrels08    barrelsA08  charge120     charge240        city08  ...  \\\n",
       "count  21950.000000  21950.000000    21950.0  21950.000000  21950.000000  ...   \n",
       "mean      14.322039      0.338052        0.0      0.168935     20.527335  ...   \n",
       "std        4.048618      1.280617        0.0      1.202342     12.221939  ...   \n",
       "min        0.047081      0.000000        0.0      0.000000      8.000000  ...   \n",
       "25%       11.900400      0.000000        0.0      0.000000     16.000000  ...   \n",
       "50%       14.167143      0.000000        0.0      0.000000     18.000000  ...   \n",
       "75%       16.528333      0.000000        0.0      0.000000     22.000000  ...   \n",
       "max       33.056667     16.528333        0.0     15.300000    150.000000  ...   \n",
       "\n",
       "              UCity        UCityA      UHighway     UHighwayA          year  \\\n",
       "count  21950.000000  21950.000000  21950.000000  21950.000000  21950.000000   \n",
       "mean      26.277834      2.082464     38.250700      1.591420   2013.437585   \n",
       "std       17.467813     12.530751     15.057325      7.435685      5.431032   \n",
       "min        9.300000      0.000000     15.100000      0.000000   2004.000000   \n",
       "25%       19.300000      0.000000     30.500000      0.000000   2009.000000   \n",
       "50%       23.100000      0.000000     35.980550      0.000000   2014.000000   \n",
       "75%       28.000000      0.000000     42.378500      0.000000   2018.000000   \n",
       "max      224.800000    207.262200    187.100000    173.143600   2022.000000   \n",
       "\n",
       "       youSaveSpend    charge240b      phevCity       phevHwy      phevComb  \n",
       "count  21950.000000  21950.000000  21950.000000  21950.000000  21950.000000  \n",
       "mean   -4824.054670      0.032768      0.513075      0.514806      0.511617  \n",
       "std     4807.963642      0.468504      5.231607      5.032342      5.108823  \n",
       "min   -29500.000000      0.000000      0.000000      0.000000      0.000000  \n",
       "25%    -7750.000000      0.000000      0.000000      0.000000      0.000000  \n",
       "50%    -4250.000000      0.000000      0.000000      0.000000      0.000000  \n",
       "75%    -1750.000000      0.000000      0.000000      0.000000      0.000000  \n",
       "max     9750.000000      9.600000     97.000000     81.000000     88.000000  \n",
       "\n",
       "[8 rows x 63 columns]"
      ]
     },
     "execution_count": 14,
     "metadata": {},
     "output_type": "execute_result"
    }
   ],
   "source": [
    "df_raw.describe()"
   ]
  },
  {
   "cell_type": "code",
   "execution_count": 15,
   "id": "cc50fb9e",
   "metadata": {
    "scrolled": true
   },
   "outputs": [
    {
     "data": {
      "text/plain": [
       "-1     9444\n",
       " 5     3185\n",
       " 4     2516\n",
       " 6     1665\n",
       " 3     1624\n",
       " 7     1265\n",
       " 2      653\n",
       " 8      604\n",
       " 10     540\n",
       " 1      259\n",
       " 9      195\n",
       "Name: ghgScore, dtype: int64"
      ]
     },
     "execution_count": 15,
     "metadata": {},
     "output_type": "execute_result"
    }
   ],
   "source": [
    "df_raw[\"ghgScore\"].value_counts()"
   ]
  },
  {
   "cell_type": "markdown",
   "id": "38a2e682",
   "metadata": {},
   "source": [
    "# Data Inspection"
   ]
  },
  {
   "cell_type": "markdown",
   "id": "9b1666ee",
   "metadata": {},
   "source": [
    "As the dataset is very technical and has a lot of column, in the data inspection we are trying to understand the relevance of each column and which one to delete. \n",
    "\n",
    "#### GENERAL CHARACTERISTICS: \n",
    "'make': manufacturer brand <br> \n",
    "'model': model name <br> \n",
    "'year': production year, from 2009-2018 <br> \n",
    "\n",
    "#### ENGINE CHARACTERISTICS: \n",
    "'fuelType' <br>\n",
    "'cylinders': engine cylinders <br>\n",
    "'displ': engine displacement in liters<br>\n",
    "'eng_dscr': <br> \n",
    "'phevBlended: if true, this vehicle operates on a blend of gasoline and electricity in charge depleting mode'<br>\n",
    "'atvType': type of alternative fuel or advanced technology vehicle <br>\n",
    "\n",
    "#### POLLUTION: \n",
    "'co2TailpipeAGpm', 'co2TailpipeGpm' <br>\n",
    "'co2', 'co2A'<br>\n",
    "'ghgScore' <br>\n",
    "'ghgScoreA' <br>\n",
    "\n",
    "#### DRIVETRAIN: \n",
    "'drive': <br>\n",
    "'trany': <br>\n",
    "'trans_dscr',<br>\n",
    "\n",
    "#### CHASSIS: \n",
    "'VClass': EPA vehicle size class <br>\n",
    "'pv2': 2-door passenger volume <br>\n",
    "'pv4': 4-door passenger volume <br>\n",
    "'lv2': 2 door luggage volume (cubic feet) <br>\n",
    "'lv4': 4 door luggage volume (cubic feet) <br>\n",
    "'hlv': hatchback luggage volume (cubic feet) <br>\n",
    "'hpv': hatchback passenger volume (cubic feet) <br>\n",
    "\n",
    "#### ELECTRONICS: \n",
    "'tCharger':\n",
    "'sCharger': \n",
    "'startStop': \n",
    "\n",
    "#### FUEL CONSUMPTION: \n",
    "'city08': city MPG for fuelType1 and 2 <br>\n",
    "'highway08': highway MPG for fuelType1 and 2 <br>\n",
    "\n",
    "\n",
    "\n",
    "### Columns to be deleted:\n",
    "#### All the different variable that distinuish between fuelType1 and fuelType2 can be summed up\n",
    "'fuelType1': For single fuel vehicles, this will be the only fuel. For dual fuel vehicles, this will be the conventional fuel.<br>\n",
    "'fuelType2': For dual fuel vehicles, this will be the alternative fuel (e.g. E85, Electricity, CNG, LPG). For single fuel vehicles, this field is not used\n",
    "\n",
    "'barrels08', 'barrelsA08': annual petroleum consumption in barrels<br>\n",
    "'fuelCost08', 'fuelCostA08'<br>\n",
    "'comb08',  'combA08'<br>\n",
    "'city08', 'cityA08'<br>\n",
    "'highway08', 'highwayA08'<br>\n",
    "'city08U', 'cityA08U': unrounded city MPG for fuelType1 <br> \n",
    "'highway08U', 'highwayA08U'<br>\n",
    "'highwayCD','highwayE','highwayUF' <br>\n",
    "'combinedCD','combE','combinedUF' <br>\n",
    "'standard'<br>\n",
    "'stdText'<br>\n",
    "'trans_dscr'<br>\n",
    "'efid',<br>\n",
    "'id'<br>\n",
    "\n",
    "\n",
    "### Columns to be deleted becasue not relevant for the research:\n",
    "'createdOn' - date the vehicle record was created (ISO 8601 format)<br>\n",
    "'modifiedOn' - date the vehicle record was last modified (ISO 8601 format)<br>\n",
    "'salesArea' - The area of the country where the vehicle can legally be sold.<br>\n",
    "'youSaveSpend' - you save/spend over 5 years compared to an average car <br>\n",
    "'guzzler' - if G or T, this vehicle is subject to the gas guzzler tax <br>\n",
    "'c240Dscr' - electric vehicle charger description <br>\n",
    "'charge240b' - time to charge an electric vehicle in hours at 240 V using the alternate charger <br> \n",
    "'c240bDscr' - <br>\n",
    "'mfrCode' - 3-character manufacturer code <br>\n",
    "'mpgData' - has My MPG data <br>\n",
    "'phevBlended'  <br>\n",
    "'range', 'rangeA', 'rangeCity', 'rangeCityA', 'rangeHwy', 'rangeHwyA' - <br>\n",
    "'score', 'scoreAlt' - <br>\n",
    "'UCity', 'UCityA', 'UHighway', 'UHighwayA'- <br>\n",
    "'phevCity', 'phevHwy', 'phevComb' - <br>\n",
    "'smartwayScore' - <br>\n",
    "'charge120' - time to charge an electric vehicle in hours at 120 V <br>\n",
    "'charge240' - time to charge an electric vehicle in hours at 240 V <br>\n",
    "'evMotor' - <br>\n",
    "'feScore' - <br>"
   ]
  },
  {
   "cell_type": "code",
   "execution_count": 16,
   "id": "46c2a9dc",
   "metadata": {},
   "outputs": [
    {
     "data": {
      "text/plain": [
       "Index(['efid', 'id', 'salesArea', 'score', 'scoreAlt', 'smartwayScore',\n",
       "       'standard', 'stdText', 'barrels08', 'barrelsA08', 'charge120',\n",
       "       'charge240', 'city08', 'city08U', 'cityA08', 'cityA08U', 'cityCD',\n",
       "       'cityE', 'cityUF', 'co2', 'co2A', 'co2TailpipeAGpm', 'co2TailpipeGpm',\n",
       "       'comb08', 'comb08U', 'combA08', 'combA08U', 'combE', 'combinedCD',\n",
       "       'combinedUF', 'cylinders', 'displ', 'drive', 'engId', 'eng_dscr',\n",
       "       'feScore', 'fuelCost08', 'fuelCostA08', 'fuelType', 'fuelType1',\n",
       "       'ghgScore', 'ghgScoreA', 'highway08', 'highway08U', 'highwayA08',\n",
       "       'highwayA08U', 'highwayCD', 'highwayE', 'highwayUF', 'hlv', 'hpv',\n",
       "       'lv2', 'lv4', 'make', 'model', 'mpgData', 'phevBlended', 'pv2', 'pv4',\n",
       "       'range', 'rangeCity', 'rangeCityA', 'rangeHwy', 'rangeHwyA', 'trany',\n",
       "       'UCity', 'UCityA', 'UHighway', 'UHighwayA', 'VClass', 'year',\n",
       "       'youSaveSpend', 'guzzler', 'trans_dscr', 'tCharger', 'sCharger',\n",
       "       'atvType', 'fuelType2', 'rangeA', 'evMotor', 'mfrCode', 'c240Dscr',\n",
       "       'charge240b', 'c240bDscr', 'createdOn', 'modifiedOn', 'startStop',\n",
       "       'phevCity', 'phevHwy', 'phevComb'],\n",
       "      dtype='object')"
      ]
     },
     "execution_count": 16,
     "metadata": {},
     "output_type": "execute_result"
    }
   ],
   "source": [
    "#show all columns indeces \n",
    "df_raw.columns"
   ]
  },
  {
   "cell_type": "code",
   "execution_count": 17,
   "id": "b17c349a",
   "metadata": {},
   "outputs": [],
   "source": [
    "def display_all(df):\n",
    "    with pd.option_context(\"display.max_rows\", 1000, \"display.max_columns\", 1000): \n",
    "        display(df)"
   ]
  },
  {
   "cell_type": "code",
   "execution_count": 18,
   "id": "05d64485",
   "metadata": {},
   "outputs": [
    {
     "data": {
      "text/html": [
       "<div>\n",
       "<style scoped>\n",
       "    .dataframe tbody tr th:only-of-type {\n",
       "        vertical-align: middle;\n",
       "    }\n",
       "\n",
       "    .dataframe tbody tr th {\n",
       "        vertical-align: top;\n",
       "    }\n",
       "\n",
       "    .dataframe thead th {\n",
       "        text-align: right;\n",
       "    }\n",
       "</style>\n",
       "<table border=\"1\" class=\"dataframe\">\n",
       "  <thead>\n",
       "    <tr style=\"text-align: right;\">\n",
       "      <th></th>\n",
       "      <th>count</th>\n",
       "      <th>unique</th>\n",
       "      <th>top</th>\n",
       "      <th>freq</th>\n",
       "      <th>mean</th>\n",
       "      <th>std</th>\n",
       "      <th>min</th>\n",
       "      <th>25%</th>\n",
       "      <th>50%</th>\n",
       "      <th>75%</th>\n",
       "      <th>max</th>\n",
       "    </tr>\n",
       "  </thead>\n",
       "  <tbody>\n",
       "    <tr>\n",
       "      <th>efid</th>\n",
       "      <td>21950</td>\n",
       "      <td>6529</td>\n",
       "      <td>GPRXV04.0C91</td>\n",
       "      <td>39</td>\n",
       "      <td>NaN</td>\n",
       "      <td>NaN</td>\n",
       "      <td>NaN</td>\n",
       "      <td>NaN</td>\n",
       "      <td>NaN</td>\n",
       "      <td>NaN</td>\n",
       "      <td>NaN</td>\n",
       "    </tr>\n",
       "    <tr>\n",
       "      <th>id</th>\n",
       "      <td>21950.0</td>\n",
       "      <td>NaN</td>\n",
       "      <td>NaN</td>\n",
       "      <td>NaN</td>\n",
       "      <td>32950.602961</td>\n",
       "      <td>7622.982502</td>\n",
       "      <td>19332.0</td>\n",
       "      <td>25431.5</td>\n",
       "      <td>33824.5</td>\n",
       "      <td>39443.75</td>\n",
       "      <td>45092.0</td>\n",
       "    </tr>\n",
       "    <tr>\n",
       "      <th>salesArea</th>\n",
       "      <td>21950.0</td>\n",
       "      <td>NaN</td>\n",
       "      <td>NaN</td>\n",
       "      <td>NaN</td>\n",
       "      <td>5.353121</td>\n",
       "      <td>2.165905</td>\n",
       "      <td>1.0</td>\n",
       "      <td>3.0</td>\n",
       "      <td>7.0</td>\n",
       "      <td>7.0</td>\n",
       "      <td>9.0</td>\n",
       "    </tr>\n",
       "    <tr>\n",
       "      <th>score</th>\n",
       "      <td>21950.0</td>\n",
       "      <td>NaN</td>\n",
       "      <td>NaN</td>\n",
       "      <td>NaN</td>\n",
       "      <td>5.033075</td>\n",
       "      <td>1.929742</td>\n",
       "      <td>-12.0</td>\n",
       "      <td>5.0</td>\n",
       "      <td>5.0</td>\n",
       "      <td>6.0</td>\n",
       "      <td>10.0</td>\n",
       "    </tr>\n",
       "    <tr>\n",
       "      <th>scoreAlt</th>\n",
       "      <td>21950.0</td>\n",
       "      <td>NaN</td>\n",
       "      <td>NaN</td>\n",
       "      <td>NaN</td>\n",
       "      <td>-0.925194</td>\n",
       "      <td>0.65195</td>\n",
       "      <td>-1.0</td>\n",
       "      <td>-1.0</td>\n",
       "      <td>-1.0</td>\n",
       "      <td>-1.0</td>\n",
       "      <td>6.0</td>\n",
       "    </tr>\n",
       "    <tr>\n",
       "      <th>smartwayScore</th>\n",
       "      <td>21950.0</td>\n",
       "      <td>NaN</td>\n",
       "      <td>NaN</td>\n",
       "      <td>NaN</td>\n",
       "      <td>-0.578132</td>\n",
       "      <td>0.857135</td>\n",
       "      <td>-1.0</td>\n",
       "      <td>-1.0</td>\n",
       "      <td>-1.0</td>\n",
       "      <td>-1.0</td>\n",
       "      <td>2.0</td>\n",
       "    </tr>\n",
       "    <tr>\n",
       "      <th>standard</th>\n",
       "      <td>21950</td>\n",
       "      <td>48</td>\n",
       "      <td>U2</td>\n",
       "      <td>4066</td>\n",
       "      <td>NaN</td>\n",
       "      <td>NaN</td>\n",
       "      <td>NaN</td>\n",
       "      <td>NaN</td>\n",
       "      <td>NaN</td>\n",
       "      <td>NaN</td>\n",
       "      <td>NaN</td>\n",
       "    </tr>\n",
       "    <tr>\n",
       "      <th>stdText</th>\n",
       "      <td>21941</td>\n",
       "      <td>64</td>\n",
       "      <td>LEV-II ULEV</td>\n",
       "      <td>2232</td>\n",
       "      <td>NaN</td>\n",
       "      <td>NaN</td>\n",
       "      <td>NaN</td>\n",
       "      <td>NaN</td>\n",
       "      <td>NaN</td>\n",
       "      <td>NaN</td>\n",
       "      <td>NaN</td>\n",
       "    </tr>\n",
       "    <tr>\n",
       "      <th>barrels08</th>\n",
       "      <td>21950.0</td>\n",
       "      <td>NaN</td>\n",
       "      <td>NaN</td>\n",
       "      <td>NaN</td>\n",
       "      <td>14.322039</td>\n",
       "      <td>4.048618</td>\n",
       "      <td>0.047081</td>\n",
       "      <td>11.9004</td>\n",
       "      <td>14.167143</td>\n",
       "      <td>16.528333</td>\n",
       "      <td>33.056667</td>\n",
       "    </tr>\n",
       "    <tr>\n",
       "      <th>barrelsA08</th>\n",
       "      <td>21950.0</td>\n",
       "      <td>NaN</td>\n",
       "      <td>NaN</td>\n",
       "      <td>NaN</td>\n",
       "      <td>0.338052</td>\n",
       "      <td>1.280617</td>\n",
       "      <td>0.0</td>\n",
       "      <td>0.0</td>\n",
       "      <td>0.0</td>\n",
       "      <td>0.0</td>\n",
       "      <td>16.528333</td>\n",
       "    </tr>\n",
       "    <tr>\n",
       "      <th>charge120</th>\n",
       "      <td>21950.0</td>\n",
       "      <td>NaN</td>\n",
       "      <td>NaN</td>\n",
       "      <td>NaN</td>\n",
       "      <td>0.0</td>\n",
       "      <td>0.0</td>\n",
       "      <td>0.0</td>\n",
       "      <td>0.0</td>\n",
       "      <td>0.0</td>\n",
       "      <td>0.0</td>\n",
       "      <td>0.0</td>\n",
       "    </tr>\n",
       "    <tr>\n",
       "      <th>charge240</th>\n",
       "      <td>21950.0</td>\n",
       "      <td>NaN</td>\n",
       "      <td>NaN</td>\n",
       "      <td>NaN</td>\n",
       "      <td>0.168935</td>\n",
       "      <td>1.202342</td>\n",
       "      <td>0.0</td>\n",
       "      <td>0.0</td>\n",
       "      <td>0.0</td>\n",
       "      <td>0.0</td>\n",
       "      <td>15.3</td>\n",
       "    </tr>\n",
       "    <tr>\n",
       "      <th>city08</th>\n",
       "      <td>21950.0</td>\n",
       "      <td>NaN</td>\n",
       "      <td>NaN</td>\n",
       "      <td>NaN</td>\n",
       "      <td>20.527335</td>\n",
       "      <td>12.221939</td>\n",
       "      <td>8.0</td>\n",
       "      <td>16.0</td>\n",
       "      <td>18.0</td>\n",
       "      <td>22.0</td>\n",
       "      <td>150.0</td>\n",
       "    </tr>\n",
       "    <tr>\n",
       "      <th>city08U</th>\n",
       "      <td>21950.0</td>\n",
       "      <td>NaN</td>\n",
       "      <td>NaN</td>\n",
       "      <td>NaN</td>\n",
       "      <td>14.920588</td>\n",
       "      <td>15.657806</td>\n",
       "      <td>0.0</td>\n",
       "      <td>0.0</td>\n",
       "      <td>16.49565</td>\n",
       "      <td>21.2505</td>\n",
       "      <td>150.1958</td>\n",
       "    </tr>\n",
       "    <tr>\n",
       "      <th>cityA08</th>\n",
       "      <td>21950.0</td>\n",
       "      <td>NaN</td>\n",
       "      <td>NaN</td>\n",
       "      <td>NaN</td>\n",
       "      <td>1.545194</td>\n",
       "      <td>8.845768</td>\n",
       "      <td>0.0</td>\n",
       "      <td>0.0</td>\n",
       "      <td>0.0</td>\n",
       "      <td>0.0</td>\n",
       "      <td>145.0</td>\n",
       "    </tr>\n",
       "    <tr>\n",
       "      <th>cityA08U</th>\n",
       "      <td>21950.0</td>\n",
       "      <td>NaN</td>\n",
       "      <td>NaN</td>\n",
       "      <td>NaN</td>\n",
       "      <td>1.380218</td>\n",
       "      <td>8.776311</td>\n",
       "      <td>0.0</td>\n",
       "      <td>0.0</td>\n",
       "      <td>0.0</td>\n",
       "      <td>0.0</td>\n",
       "      <td>145.0835</td>\n",
       "    </tr>\n",
       "    <tr>\n",
       "      <th>cityCD</th>\n",
       "      <td>21950.0</td>\n",
       "      <td>NaN</td>\n",
       "      <td>NaN</td>\n",
       "      <td>NaN</td>\n",
       "      <td>0.001006</td>\n",
       "      <td>0.053784</td>\n",
       "      <td>0.0</td>\n",
       "      <td>0.0</td>\n",
       "      <td>0.0</td>\n",
       "      <td>0.0</td>\n",
       "      <td>5.35</td>\n",
       "    </tr>\n",
       "    <tr>\n",
       "      <th>cityE</th>\n",
       "      <td>21950.0</td>\n",
       "      <td>NaN</td>\n",
       "      <td>NaN</td>\n",
       "      <td>NaN</td>\n",
       "      <td>1.057131</td>\n",
       "      <td>6.849565</td>\n",
       "      <td>0.0</td>\n",
       "      <td>0.0</td>\n",
       "      <td>0.0</td>\n",
       "      <td>0.0</td>\n",
       "      <td>87.0</td>\n",
       "    </tr>\n",
       "    <tr>\n",
       "      <th>cityUF</th>\n",
       "      <td>21950.0</td>\n",
       "      <td>NaN</td>\n",
       "      <td>NaN</td>\n",
       "      <td>NaN</td>\n",
       "      <td>0.005766</td>\n",
       "      <td>0.055633</td>\n",
       "      <td>0.0</td>\n",
       "      <td>0.0</td>\n",
       "      <td>0.0</td>\n",
       "      <td>0.0</td>\n",
       "      <td>0.927</td>\n",
       "    </tr>\n",
       "    <tr>\n",
       "      <th>co2</th>\n",
       "      <td>21950.0</td>\n",
       "      <td>NaN</td>\n",
       "      <td>NaN</td>\n",
       "      <td>NaN</td>\n",
       "      <td>225.349385</td>\n",
       "      <td>216.300821</td>\n",
       "      <td>-1.0</td>\n",
       "      <td>-1.0</td>\n",
       "      <td>291.0</td>\n",
       "      <td>410.0</td>\n",
       "      <td>979.0</td>\n",
       "    </tr>\n",
       "    <tr>\n",
       "      <th>co2A</th>\n",
       "      <td>21950.0</td>\n",
       "      <td>NaN</td>\n",
       "      <td>NaN</td>\n",
       "      <td>NaN</td>\n",
       "      <td>12.994533</td>\n",
       "      <td>80.987262</td>\n",
       "      <td>-1.0</td>\n",
       "      <td>-1.0</td>\n",
       "      <td>-1.0</td>\n",
       "      <td>-1.0</td>\n",
       "      <td>713.0</td>\n",
       "    </tr>\n",
       "    <tr>\n",
       "      <th>co2TailpipeAGpm</th>\n",
       "      <td>21950.0</td>\n",
       "      <td>NaN</td>\n",
       "      <td>NaN</td>\n",
       "      <td>NaN</td>\n",
       "      <td>29.277358</td>\n",
       "      <td>118.73002</td>\n",
       "      <td>0.0</td>\n",
       "      <td>0.0</td>\n",
       "      <td>0.0</td>\n",
       "      <td>0.0</td>\n",
       "      <td>713.0</td>\n",
       "    </tr>\n",
       "    <tr>\n",
       "      <th>co2TailpipeGpm</th>\n",
       "      <td>21950.0</td>\n",
       "      <td>NaN</td>\n",
       "      <td>NaN</td>\n",
       "      <td>NaN</td>\n",
       "      <td>427.53509</td>\n",
       "      <td>120.408199</td>\n",
       "      <td>0.0</td>\n",
       "      <td>355.48</td>\n",
       "      <td>423.190476</td>\n",
       "      <td>493.722222</td>\n",
       "      <td>987.444444</td>\n",
       "    </tr>\n",
       "    <tr>\n",
       "      <th>comb08</th>\n",
       "      <td>21950.0</td>\n",
       "      <td>NaN</td>\n",
       "      <td>NaN</td>\n",
       "      <td>NaN</td>\n",
       "      <td>22.894806</td>\n",
       "      <td>11.368432</td>\n",
       "      <td>9.0</td>\n",
       "      <td>18.0</td>\n",
       "      <td>21.0</td>\n",
       "      <td>25.0</td>\n",
       "      <td>142.0</td>\n",
       "    </tr>\n",
       "    <tr>\n",
       "      <th>comb08U</th>\n",
       "      <td>21950.0</td>\n",
       "      <td>NaN</td>\n",
       "      <td>NaN</td>\n",
       "      <td>NaN</td>\n",
       "      <td>16.523263</td>\n",
       "      <td>15.778079</td>\n",
       "      <td>0.0</td>\n",
       "      <td>0.0</td>\n",
       "      <td>18.9326</td>\n",
       "      <td>24.1303</td>\n",
       "      <td>141.9512</td>\n",
       "    </tr>\n",
       "    <tr>\n",
       "      <th>combA08</th>\n",
       "      <td>21950.0</td>\n",
       "      <td>NaN</td>\n",
       "      <td>NaN</td>\n",
       "      <td>NaN</td>\n",
       "      <td>1.638815</td>\n",
       "      <td>8.756106</td>\n",
       "      <td>0.0</td>\n",
       "      <td>0.0</td>\n",
       "      <td>0.0</td>\n",
       "      <td>0.0</td>\n",
       "      <td>133.0</td>\n",
       "    </tr>\n",
       "    <tr>\n",
       "      <th>combA08U</th>\n",
       "      <td>21950.0</td>\n",
       "      <td>NaN</td>\n",
       "      <td>NaN</td>\n",
       "      <td>NaN</td>\n",
       "      <td>1.446863</td>\n",
       "      <td>8.655259</td>\n",
       "      <td>0.0</td>\n",
       "      <td>0.0</td>\n",
       "      <td>0.0</td>\n",
       "      <td>0.0</td>\n",
       "      <td>133.2662</td>\n",
       "    </tr>\n",
       "    <tr>\n",
       "      <th>combE</th>\n",
       "      <td>21950.0</td>\n",
       "      <td>NaN</td>\n",
       "      <td>NaN</td>\n",
       "      <td>NaN</td>\n",
       "      <td>1.072432</td>\n",
       "      <td>6.858613</td>\n",
       "      <td>0.0</td>\n",
       "      <td>0.0</td>\n",
       "      <td>0.0</td>\n",
       "      <td>0.0</td>\n",
       "      <td>82.0</td>\n",
       "    </tr>\n",
       "    <tr>\n",
       "      <th>combinedCD</th>\n",
       "      <td>21950.0</td>\n",
       "      <td>NaN</td>\n",
       "      <td>NaN</td>\n",
       "      <td>NaN</td>\n",
       "      <td>0.000782</td>\n",
       "      <td>0.046838</td>\n",
       "      <td>0.0</td>\n",
       "      <td>0.0</td>\n",
       "      <td>0.0</td>\n",
       "      <td>0.0</td>\n",
       "      <td>4.8</td>\n",
       "    </tr>\n",
       "    <tr>\n",
       "      <th>combinedUF</th>\n",
       "      <td>21950.0</td>\n",
       "      <td>NaN</td>\n",
       "      <td>NaN</td>\n",
       "      <td>NaN</td>\n",
       "      <td>0.005706</td>\n",
       "      <td>0.054959</td>\n",
       "      <td>0.0</td>\n",
       "      <td>0.0</td>\n",
       "      <td>0.0</td>\n",
       "      <td>0.0</td>\n",
       "      <td>0.92</td>\n",
       "    </tr>\n",
       "    <tr>\n",
       "      <th>cylinders</th>\n",
       "      <td>21627.0</td>\n",
       "      <td>NaN</td>\n",
       "      <td>NaN</td>\n",
       "      <td>NaN</td>\n",
       "      <td>5.795718</td>\n",
       "      <td>1.857639</td>\n",
       "      <td>2.0</td>\n",
       "      <td>4.0</td>\n",
       "      <td>6.0</td>\n",
       "      <td>6.0</td>\n",
       "      <td>16.0</td>\n",
       "    </tr>\n",
       "    <tr>\n",
       "      <th>displ</th>\n",
       "      <td>21628.0</td>\n",
       "      <td>NaN</td>\n",
       "      <td>NaN</td>\n",
       "      <td>NaN</td>\n",
       "      <td>3.311309</td>\n",
       "      <td>1.337093</td>\n",
       "      <td>0.0</td>\n",
       "      <td>2.0</td>\n",
       "      <td>3.0</td>\n",
       "      <td>4.0</td>\n",
       "      <td>8.4</td>\n",
       "    </tr>\n",
       "    <tr>\n",
       "      <th>drive</th>\n",
       "      <td>21950</td>\n",
       "      <td>6</td>\n",
       "      <td>Front-Wheel Drive</td>\n",
       "      <td>6879</td>\n",
       "      <td>NaN</td>\n",
       "      <td>NaN</td>\n",
       "      <td>NaN</td>\n",
       "      <td>NaN</td>\n",
       "      <td>NaN</td>\n",
       "      <td>NaN</td>\n",
       "      <td>NaN</td>\n",
       "    </tr>\n",
       "    <tr>\n",
       "      <th>engId</th>\n",
       "      <td>21950.0</td>\n",
       "      <td>NaN</td>\n",
       "      <td>NaN</td>\n",
       "      <td>NaN</td>\n",
       "      <td>155.997677</td>\n",
       "      <td>224.172696</td>\n",
       "      <td>0.0</td>\n",
       "      <td>0.0</td>\n",
       "      <td>44.0</td>\n",
       "      <td>213.75</td>\n",
       "      <td>999.0</td>\n",
       "    </tr>\n",
       "    <tr>\n",
       "      <th>eng_dscr</th>\n",
       "      <td>10785</td>\n",
       "      <td>189</td>\n",
       "      <td>SIDI</td>\n",
       "      <td>7335</td>\n",
       "      <td>NaN</td>\n",
       "      <td>NaN</td>\n",
       "      <td>NaN</td>\n",
       "      <td>NaN</td>\n",
       "      <td>NaN</td>\n",
       "      <td>NaN</td>\n",
       "      <td>NaN</td>\n",
       "    </tr>\n",
       "    <tr>\n",
       "      <th>feScore</th>\n",
       "      <td>21950.0</td>\n",
       "      <td>NaN</td>\n",
       "      <td>NaN</td>\n",
       "      <td>NaN</td>\n",
       "      <td>2.449795</td>\n",
       "      <td>3.333951</td>\n",
       "      <td>-1.0</td>\n",
       "      <td>-1.0</td>\n",
       "      <td>3.0</td>\n",
       "      <td>5.0</td>\n",
       "      <td>10.0</td>\n",
       "    </tr>\n",
       "    <tr>\n",
       "      <th>fuelCost08</th>\n",
       "      <td>21950.0</td>\n",
       "      <td>NaN</td>\n",
       "      <td>NaN</td>\n",
       "      <td>NaN</td>\n",
       "      <td>3373.70615</td>\n",
       "      <td>951.830582</td>\n",
       "      <td>450.0</td>\n",
       "      <td>2750.0</td>\n",
       "      <td>3350.0</td>\n",
       "      <td>3950.0</td>\n",
       "      <td>8300.0</td>\n",
       "    </tr>\n",
       "    <tr>\n",
       "      <th>fuelCostA08</th>\n",
       "      <td>21950.0</td>\n",
       "      <td>NaN</td>\n",
       "      <td>NaN</td>\n",
       "      <td>NaN</td>\n",
       "      <td>192.749431</td>\n",
       "      <td>772.393557</td>\n",
       "      <td>0.0</td>\n",
       "      <td>0.0</td>\n",
       "      <td>0.0</td>\n",
       "      <td>0.0</td>\n",
       "      <td>4550.0</td>\n",
       "    </tr>\n",
       "    <tr>\n",
       "      <th>fuelType</th>\n",
       "      <td>21950</td>\n",
       "      <td>13</td>\n",
       "      <td>Regular</td>\n",
       "      <td>10338</td>\n",
       "      <td>NaN</td>\n",
       "      <td>NaN</td>\n",
       "      <td>NaN</td>\n",
       "      <td>NaN</td>\n",
       "      <td>NaN</td>\n",
       "      <td>NaN</td>\n",
       "      <td>NaN</td>\n",
       "    </tr>\n",
       "    <tr>\n",
       "      <th>fuelType1</th>\n",
       "      <td>21950</td>\n",
       "      <td>6</td>\n",
       "      <td>Regular Gasoline</td>\n",
       "      <td>11610</td>\n",
       "      <td>NaN</td>\n",
       "      <td>NaN</td>\n",
       "      <td>NaN</td>\n",
       "      <td>NaN</td>\n",
       "      <td>NaN</td>\n",
       "      <td>NaN</td>\n",
       "      <td>NaN</td>\n",
       "    </tr>\n",
       "    <tr>\n",
       "      <th>ghgScore</th>\n",
       "      <td>21950.0</td>\n",
       "      <td>NaN</td>\n",
       "      <td>NaN</td>\n",
       "      <td>NaN</td>\n",
       "      <td>2.451663</td>\n",
       "      <td>3.342727</td>\n",
       "      <td>-1.0</td>\n",
       "      <td>-1.0</td>\n",
       "      <td>3.0</td>\n",
       "      <td>5.0</td>\n",
       "      <td>10.0</td>\n",
       "    </tr>\n",
       "    <tr>\n",
       "      <th>ghgScoreA</th>\n",
       "      <td>21950.0</td>\n",
       "      <td>NaN</td>\n",
       "      <td>NaN</td>\n",
       "      <td>NaN</td>\n",
       "      <td>-0.841595</td>\n",
       "      <td>0.920807</td>\n",
       "      <td>-1.0</td>\n",
       "      <td>-1.0</td>\n",
       "      <td>-1.0</td>\n",
       "      <td>-1.0</td>\n",
       "      <td>8.0</td>\n",
       "    </tr>\n",
       "    <tr>\n",
       "      <th>highway08</th>\n",
       "      <td>21950.0</td>\n",
       "      <td>NaN</td>\n",
       "      <td>NaN</td>\n",
       "      <td>NaN</td>\n",
       "      <td>27.035444</td>\n",
       "      <td>10.511456</td>\n",
       "      <td>11.0</td>\n",
       "      <td>22.0</td>\n",
       "      <td>26.0</td>\n",
       "      <td>30.0</td>\n",
       "      <td>133.0</td>\n",
       "    </tr>\n",
       "    <tr>\n",
       "      <th>highway08U</th>\n",
       "      <td>21950.0</td>\n",
       "      <td>NaN</td>\n",
       "      <td>NaN</td>\n",
       "      <td>NaN</td>\n",
       "      <td>19.299956</td>\n",
       "      <td>16.65352</td>\n",
       "      <td>0.0</td>\n",
       "      <td>0.0</td>\n",
       "      <td>23.0453</td>\n",
       "      <td>28.8888</td>\n",
       "      <td>133.0263</td>\n",
       "    </tr>\n",
       "    <tr>\n",
       "      <th>highwayA08</th>\n",
       "      <td>21950.0</td>\n",
       "      <td>NaN</td>\n",
       "      <td>NaN</td>\n",
       "      <td>NaN</td>\n",
       "      <td>1.807836</td>\n",
       "      <td>8.870678</td>\n",
       "      <td>0.0</td>\n",
       "      <td>0.0</td>\n",
       "      <td>0.0</td>\n",
       "      <td>0.0</td>\n",
       "      <td>121.0</td>\n",
       "    </tr>\n",
       "    <tr>\n",
       "      <th>highwayA08U</th>\n",
       "      <td>21950.0</td>\n",
       "      <td>NaN</td>\n",
       "      <td>NaN</td>\n",
       "      <td>NaN</td>\n",
       "      <td>1.579943</td>\n",
       "      <td>8.72928</td>\n",
       "      <td>0.0</td>\n",
       "      <td>0.0</td>\n",
       "      <td>0.0</td>\n",
       "      <td>0.0</td>\n",
       "      <td>121.2005</td>\n",
       "    </tr>\n",
       "    <tr>\n",
       "      <th>highwayCD</th>\n",
       "      <td>21950.0</td>\n",
       "      <td>NaN</td>\n",
       "      <td>NaN</td>\n",
       "      <td>NaN</td>\n",
       "      <td>0.000502</td>\n",
       "      <td>0.038961</td>\n",
       "      <td>0.0</td>\n",
       "      <td>0.0</td>\n",
       "      <td>0.0</td>\n",
       "      <td>0.0</td>\n",
       "      <td>4.06</td>\n",
       "    </tr>\n",
       "    <tr>\n",
       "      <th>highwayE</th>\n",
       "      <td>21950.0</td>\n",
       "      <td>NaN</td>\n",
       "      <td>NaN</td>\n",
       "      <td>NaN</td>\n",
       "      <td>1.091979</td>\n",
       "      <td>6.898766</td>\n",
       "      <td>0.0</td>\n",
       "      <td>0.0</td>\n",
       "      <td>0.0</td>\n",
       "      <td>0.0</td>\n",
       "      <td>79.0</td>\n",
       "    </tr>\n",
       "    <tr>\n",
       "      <th>highwayUF</th>\n",
       "      <td>21950.0</td>\n",
       "      <td>NaN</td>\n",
       "      <td>NaN</td>\n",
       "      <td>NaN</td>\n",
       "      <td>0.005622</td>\n",
       "      <td>0.054097</td>\n",
       "      <td>0.0</td>\n",
       "      <td>0.0</td>\n",
       "      <td>0.0</td>\n",
       "      <td>0.0</td>\n",
       "      <td>0.91</td>\n",
       "    </tr>\n",
       "    <tr>\n",
       "      <th>hlv</th>\n",
       "      <td>21950.0</td>\n",
       "      <td>NaN</td>\n",
       "      <td>NaN</td>\n",
       "      <td>NaN</td>\n",
       "      <td>1.45836</td>\n",
       "      <td>5.252152</td>\n",
       "      <td>0.0</td>\n",
       "      <td>0.0</td>\n",
       "      <td>0.0</td>\n",
       "      <td>0.0</td>\n",
       "      <td>42.0</td>\n",
       "    </tr>\n",
       "    <tr>\n",
       "      <th>hpv</th>\n",
       "      <td>21950.0</td>\n",
       "      <td>NaN</td>\n",
       "      <td>NaN</td>\n",
       "      <td>NaN</td>\n",
       "      <td>7.191344</td>\n",
       "      <td>24.519948</td>\n",
       "      <td>0.0</td>\n",
       "      <td>0.0</td>\n",
       "      <td>0.0</td>\n",
       "      <td>0.0</td>\n",
       "      <td>108.0</td>\n",
       "    </tr>\n",
       "    <tr>\n",
       "      <th>lv2</th>\n",
       "      <td>21950.0</td>\n",
       "      <td>NaN</td>\n",
       "      <td>NaN</td>\n",
       "      <td>NaN</td>\n",
       "      <td>1.344556</td>\n",
       "      <td>3.585163</td>\n",
       "      <td>0.0</td>\n",
       "      <td>0.0</td>\n",
       "      <td>0.0</td>\n",
       "      <td>0.0</td>\n",
       "      <td>22.0</td>\n",
       "    </tr>\n",
       "    <tr>\n",
       "      <th>lv4</th>\n",
       "      <td>21950.0</td>\n",
       "      <td>NaN</td>\n",
       "      <td>NaN</td>\n",
       "      <td>NaN</td>\n",
       "      <td>5.708155</td>\n",
       "      <td>8.567124</td>\n",
       "      <td>0.0</td>\n",
       "      <td>0.0</td>\n",
       "      <td>0.0</td>\n",
       "      <td>13.0</td>\n",
       "      <td>49.0</td>\n",
       "    </tr>\n",
       "    <tr>\n",
       "      <th>make</th>\n",
       "      <td>21950</td>\n",
       "      <td>76</td>\n",
       "      <td>Chevrolet</td>\n",
       "      <td>1746</td>\n",
       "      <td>NaN</td>\n",
       "      <td>NaN</td>\n",
       "      <td>NaN</td>\n",
       "      <td>NaN</td>\n",
       "      <td>NaN</td>\n",
       "      <td>NaN</td>\n",
       "      <td>NaN</td>\n",
       "    </tr>\n",
       "    <tr>\n",
       "      <th>model</th>\n",
       "      <td>21950</td>\n",
       "      <td>3146</td>\n",
       "      <td>Jetta</td>\n",
       "      <td>105</td>\n",
       "      <td>NaN</td>\n",
       "      <td>NaN</td>\n",
       "      <td>NaN</td>\n",
       "      <td>NaN</td>\n",
       "      <td>NaN</td>\n",
       "      <td>NaN</td>\n",
       "      <td>NaN</td>\n",
       "    </tr>\n",
       "    <tr>\n",
       "      <th>mpgData</th>\n",
       "      <td>21950</td>\n",
       "      <td>2</td>\n",
       "      <td>N</td>\n",
       "      <td>15039</td>\n",
       "      <td>NaN</td>\n",
       "      <td>NaN</td>\n",
       "      <td>NaN</td>\n",
       "      <td>NaN</td>\n",
       "      <td>NaN</td>\n",
       "      <td>NaN</td>\n",
       "      <td>NaN</td>\n",
       "    </tr>\n",
       "    <tr>\n",
       "      <th>phevBlended</th>\n",
       "      <td>21950</td>\n",
       "      <td>2</td>\n",
       "      <td>False</td>\n",
       "      <td>21752</td>\n",
       "      <td>NaN</td>\n",
       "      <td>NaN</td>\n",
       "      <td>NaN</td>\n",
       "      <td>NaN</td>\n",
       "      <td>NaN</td>\n",
       "      <td>NaN</td>\n",
       "      <td>NaN</td>\n",
       "    </tr>\n",
       "    <tr>\n",
       "      <th>pv2</th>\n",
       "      <td>21950.0</td>\n",
       "      <td>NaN</td>\n",
       "      <td>NaN</td>\n",
       "      <td>NaN</td>\n",
       "      <td>11.283144</td>\n",
       "      <td>28.350429</td>\n",
       "      <td>0.0</td>\n",
       "      <td>0.0</td>\n",
       "      <td>0.0</td>\n",
       "      <td>0.0</td>\n",
       "      <td>118.0</td>\n",
       "    </tr>\n",
       "    <tr>\n",
       "      <th>pv4</th>\n",
       "      <td>21950.0</td>\n",
       "      <td>NaN</td>\n",
       "      <td>NaN</td>\n",
       "      <td>NaN</td>\n",
       "      <td>34.561139</td>\n",
       "      <td>47.000574</td>\n",
       "      <td>0.0</td>\n",
       "      <td>0.0</td>\n",
       "      <td>0.0</td>\n",
       "      <td>93.0</td>\n",
       "      <td>157.0</td>\n",
       "    </tr>\n",
       "    <tr>\n",
       "      <th>range</th>\n",
       "      <td>21950.0</td>\n",
       "      <td>NaN</td>\n",
       "      <td>NaN</td>\n",
       "      <td>NaN</td>\n",
       "      <td>3.166925</td>\n",
       "      <td>28.487235</td>\n",
       "      <td>0.0</td>\n",
       "      <td>0.0</td>\n",
       "      <td>0.0</td>\n",
       "      <td>0.0</td>\n",
       "      <td>520.0</td>\n",
       "    </tr>\n",
       "    <tr>\n",
       "      <th>rangeCity</th>\n",
       "      <td>21950.0</td>\n",
       "      <td>NaN</td>\n",
       "      <td>NaN</td>\n",
       "      <td>NaN</td>\n",
       "      <td>2.676362</td>\n",
       "      <td>26.58555</td>\n",
       "      <td>0.0</td>\n",
       "      <td>0.0</td>\n",
       "      <td>0.0</td>\n",
       "      <td>0.0</td>\n",
       "      <td>520.8</td>\n",
       "    </tr>\n",
       "    <tr>\n",
       "      <th>rangeCityA</th>\n",
       "      <td>21950.0</td>\n",
       "      <td>NaN</td>\n",
       "      <td>NaN</td>\n",
       "      <td>NaN</td>\n",
       "      <td>0.314485</td>\n",
       "      <td>3.776385</td>\n",
       "      <td>0.0</td>\n",
       "      <td>0.0</td>\n",
       "      <td>0.0</td>\n",
       "      <td>0.0</td>\n",
       "      <td>135.28</td>\n",
       "    </tr>\n",
       "    <tr>\n",
       "      <th>rangeHwy</th>\n",
       "      <td>21950.0</td>\n",
       "      <td>NaN</td>\n",
       "      <td>NaN</td>\n",
       "      <td>NaN</td>\n",
       "      <td>2.516584</td>\n",
       "      <td>25.362442</td>\n",
       "      <td>0.0</td>\n",
       "      <td>0.0</td>\n",
       "      <td>0.0</td>\n",
       "      <td>0.0</td>\n",
       "      <td>520.5</td>\n",
       "    </tr>\n",
       "    <tr>\n",
       "      <th>rangeHwyA</th>\n",
       "      <td>21950.0</td>\n",
       "      <td>NaN</td>\n",
       "      <td>NaN</td>\n",
       "      <td>NaN</td>\n",
       "      <td>0.292203</td>\n",
       "      <td>3.377412</td>\n",
       "      <td>0.0</td>\n",
       "      <td>0.0</td>\n",
       "      <td>0.0</td>\n",
       "      <td>0.0</td>\n",
       "      <td>114.76</td>\n",
       "    </tr>\n",
       "    <tr>\n",
       "      <th>trany</th>\n",
       "      <td>21950</td>\n",
       "      <td>34</td>\n",
       "      <td>Automatic (S6)</td>\n",
       "      <td>3144</td>\n",
       "      <td>NaN</td>\n",
       "      <td>NaN</td>\n",
       "      <td>NaN</td>\n",
       "      <td>NaN</td>\n",
       "      <td>NaN</td>\n",
       "      <td>NaN</td>\n",
       "      <td>NaN</td>\n",
       "    </tr>\n",
       "    <tr>\n",
       "      <th>UCity</th>\n",
       "      <td>21950.0</td>\n",
       "      <td>NaN</td>\n",
       "      <td>NaN</td>\n",
       "      <td>NaN</td>\n",
       "      <td>26.277834</td>\n",
       "      <td>17.467813</td>\n",
       "      <td>9.3</td>\n",
       "      <td>19.3</td>\n",
       "      <td>23.1</td>\n",
       "      <td>28.0</td>\n",
       "      <td>224.8</td>\n",
       "    </tr>\n",
       "    <tr>\n",
       "      <th>UCityA</th>\n",
       "      <td>21950.0</td>\n",
       "      <td>NaN</td>\n",
       "      <td>NaN</td>\n",
       "      <td>NaN</td>\n",
       "      <td>2.082464</td>\n",
       "      <td>12.530751</td>\n",
       "      <td>0.0</td>\n",
       "      <td>0.0</td>\n",
       "      <td>0.0</td>\n",
       "      <td>0.0</td>\n",
       "      <td>207.2622</td>\n",
       "    </tr>\n",
       "    <tr>\n",
       "      <th>UHighway</th>\n",
       "      <td>21950.0</td>\n",
       "      <td>NaN</td>\n",
       "      <td>NaN</td>\n",
       "      <td>NaN</td>\n",
       "      <td>38.2507</td>\n",
       "      <td>15.057325</td>\n",
       "      <td>15.1</td>\n",
       "      <td>30.5</td>\n",
       "      <td>35.98055</td>\n",
       "      <td>42.3785</td>\n",
       "      <td>187.1</td>\n",
       "    </tr>\n",
       "    <tr>\n",
       "      <th>UHighwayA</th>\n",
       "      <td>21950.0</td>\n",
       "      <td>NaN</td>\n",
       "      <td>NaN</td>\n",
       "      <td>NaN</td>\n",
       "      <td>1.59142</td>\n",
       "      <td>7.435685</td>\n",
       "      <td>0.0</td>\n",
       "      <td>0.0</td>\n",
       "      <td>0.0</td>\n",
       "      <td>0.0</td>\n",
       "      <td>173.1436</td>\n",
       "    </tr>\n",
       "    <tr>\n",
       "      <th>VClass</th>\n",
       "      <td>21950</td>\n",
       "      <td>24</td>\n",
       "      <td>Midsize Cars</td>\n",
       "      <td>2991</td>\n",
       "      <td>NaN</td>\n",
       "      <td>NaN</td>\n",
       "      <td>NaN</td>\n",
       "      <td>NaN</td>\n",
       "      <td>NaN</td>\n",
       "      <td>NaN</td>\n",
       "      <td>NaN</td>\n",
       "    </tr>\n",
       "    <tr>\n",
       "      <th>year</th>\n",
       "      <td>21950.0</td>\n",
       "      <td>NaN</td>\n",
       "      <td>NaN</td>\n",
       "      <td>NaN</td>\n",
       "      <td>2013.437585</td>\n",
       "      <td>5.431032</td>\n",
       "      <td>2004.0</td>\n",
       "      <td>2009.0</td>\n",
       "      <td>2014.0</td>\n",
       "      <td>2018.0</td>\n",
       "      <td>2022.0</td>\n",
       "    </tr>\n",
       "    <tr>\n",
       "      <th>youSaveSpend</th>\n",
       "      <td>21950.0</td>\n",
       "      <td>NaN</td>\n",
       "      <td>NaN</td>\n",
       "      <td>NaN</td>\n",
       "      <td>-4824.05467</td>\n",
       "      <td>4807.963642</td>\n",
       "      <td>-29500.0</td>\n",
       "      <td>-7750.0</td>\n",
       "      <td>-4250.0</td>\n",
       "      <td>-1750.0</td>\n",
       "      <td>9750.0</td>\n",
       "    </tr>\n",
       "    <tr>\n",
       "      <th>guzzler</th>\n",
       "      <td>1437</td>\n",
       "      <td>1</td>\n",
       "      <td>G</td>\n",
       "      <td>1437</td>\n",
       "      <td>NaN</td>\n",
       "      <td>NaN</td>\n",
       "      <td>NaN</td>\n",
       "      <td>NaN</td>\n",
       "      <td>NaN</td>\n",
       "      <td>NaN</td>\n",
       "      <td>NaN</td>\n",
       "    </tr>\n",
       "    <tr>\n",
       "      <th>trans_dscr</th>\n",
       "      <td>4671</td>\n",
       "      <td>29</td>\n",
       "      <td>CLKUP</td>\n",
       "      <td>2521</td>\n",
       "      <td>NaN</td>\n",
       "      <td>NaN</td>\n",
       "      <td>NaN</td>\n",
       "      <td>NaN</td>\n",
       "      <td>NaN</td>\n",
       "      <td>NaN</td>\n",
       "      <td>NaN</td>\n",
       "    </tr>\n",
       "    <tr>\n",
       "      <th>tCharger</th>\n",
       "      <td>6925</td>\n",
       "      <td>1</td>\n",
       "      <td>T</td>\n",
       "      <td>6925</td>\n",
       "      <td>NaN</td>\n",
       "      <td>NaN</td>\n",
       "      <td>NaN</td>\n",
       "      <td>NaN</td>\n",
       "      <td>NaN</td>\n",
       "      <td>NaN</td>\n",
       "      <td>NaN</td>\n",
       "    </tr>\n",
       "    <tr>\n",
       "      <th>sCharger</th>\n",
       "      <td>757</td>\n",
       "      <td>1</td>\n",
       "      <td>S</td>\n",
       "      <td>757</td>\n",
       "      <td>NaN</td>\n",
       "      <td>NaN</td>\n",
       "      <td>NaN</td>\n",
       "      <td>NaN</td>\n",
       "      <td>NaN</td>\n",
       "      <td>NaN</td>\n",
       "      <td>NaN</td>\n",
       "    </tr>\n",
       "    <tr>\n",
       "      <th>atvType</th>\n",
       "      <td>3157</td>\n",
       "      <td>7</td>\n",
       "      <td>FFV</td>\n",
       "      <td>1303</td>\n",
       "      <td>NaN</td>\n",
       "      <td>NaN</td>\n",
       "      <td>NaN</td>\n",
       "      <td>NaN</td>\n",
       "      <td>NaN</td>\n",
       "      <td>NaN</td>\n",
       "      <td>NaN</td>\n",
       "    </tr>\n",
       "    <tr>\n",
       "      <th>fuelType2</th>\n",
       "      <td>1562</td>\n",
       "      <td>3</td>\n",
       "      <td>E85</td>\n",
       "      <td>1303</td>\n",
       "      <td>NaN</td>\n",
       "      <td>NaN</td>\n",
       "      <td>NaN</td>\n",
       "      <td>NaN</td>\n",
       "      <td>NaN</td>\n",
       "      <td>NaN</td>\n",
       "      <td>NaN</td>\n",
       "    </tr>\n",
       "    <tr>\n",
       "      <th>rangeA</th>\n",
       "      <td>1562</td>\n",
       "      <td>218</td>\n",
       "      <td>280</td>\n",
       "      <td>45</td>\n",
       "      <td>NaN</td>\n",
       "      <td>NaN</td>\n",
       "      <td>NaN</td>\n",
       "      <td>NaN</td>\n",
       "      <td>NaN</td>\n",
       "      <td>NaN</td>\n",
       "      <td>NaN</td>\n",
       "    </tr>\n",
       "    <tr>\n",
       "      <th>evMotor</th>\n",
       "      <td>1423</td>\n",
       "      <td>238</td>\n",
       "      <td>48V Li-Ion</td>\n",
       "      <td>169</td>\n",
       "      <td>NaN</td>\n",
       "      <td>NaN</td>\n",
       "      <td>NaN</td>\n",
       "      <td>NaN</td>\n",
       "      <td>NaN</td>\n",
       "      <td>NaN</td>\n",
       "      <td>NaN</td>\n",
       "    </tr>\n",
       "    <tr>\n",
       "      <th>mfrCode</th>\n",
       "      <td>13635</td>\n",
       "      <td>49</td>\n",
       "      <td>GMX</td>\n",
       "      <td>1996</td>\n",
       "      <td>NaN</td>\n",
       "      <td>NaN</td>\n",
       "      <td>NaN</td>\n",
       "      <td>NaN</td>\n",
       "      <td>NaN</td>\n",
       "      <td>NaN</td>\n",
       "      <td>NaN</td>\n",
       "    </tr>\n",
       "    <tr>\n",
       "      <th>c240Dscr</th>\n",
       "      <td>127</td>\n",
       "      <td>5</td>\n",
       "      <td>standard charger</td>\n",
       "      <td>116</td>\n",
       "      <td>NaN</td>\n",
       "      <td>NaN</td>\n",
       "      <td>NaN</td>\n",
       "      <td>NaN</td>\n",
       "      <td>NaN</td>\n",
       "      <td>NaN</td>\n",
       "      <td>NaN</td>\n",
       "    </tr>\n",
       "    <tr>\n",
       "      <th>charge240b</th>\n",
       "      <td>21950.0</td>\n",
       "      <td>NaN</td>\n",
       "      <td>NaN</td>\n",
       "      <td>NaN</td>\n",
       "      <td>0.032768</td>\n",
       "      <td>0.468504</td>\n",
       "      <td>0.0</td>\n",
       "      <td>0.0</td>\n",
       "      <td>0.0</td>\n",
       "      <td>0.0</td>\n",
       "      <td>9.6</td>\n",
       "    </tr>\n",
       "    <tr>\n",
       "      <th>c240bDscr</th>\n",
       "      <td>121</td>\n",
       "      <td>7</td>\n",
       "      <td>80 amp dual charger</td>\n",
       "      <td>52</td>\n",
       "      <td>NaN</td>\n",
       "      <td>NaN</td>\n",
       "      <td>NaN</td>\n",
       "      <td>NaN</td>\n",
       "      <td>NaN</td>\n",
       "      <td>NaN</td>\n",
       "      <td>NaN</td>\n",
       "    </tr>\n",
       "    <tr>\n",
       "      <th>createdOn</th>\n",
       "      <td>21950</td>\n",
       "      <td>392</td>\n",
       "      <td>Tue Jan 01 00:00:00 EST 2013</td>\n",
       "      <td>11646</td>\n",
       "      <td>NaN</td>\n",
       "      <td>NaN</td>\n",
       "      <td>NaN</td>\n",
       "      <td>NaN</td>\n",
       "      <td>NaN</td>\n",
       "      <td>NaN</td>\n",
       "      <td>NaN</td>\n",
       "    </tr>\n",
       "    <tr>\n",
       "      <th>modifiedOn</th>\n",
       "      <td>21950</td>\n",
       "      <td>232</td>\n",
       "      <td>Tue Jan 01 00:00:00 EST 2013</td>\n",
       "      <td>6861</td>\n",
       "      <td>NaN</td>\n",
       "      <td>NaN</td>\n",
       "      <td>NaN</td>\n",
       "      <td>NaN</td>\n",
       "      <td>NaN</td>\n",
       "      <td>NaN</td>\n",
       "      <td>NaN</td>\n",
       "    </tr>\n",
       "    <tr>\n",
       "      <th>startStop</th>\n",
       "      <td>12747</td>\n",
       "      <td>2</td>\n",
       "      <td>N</td>\n",
       "      <td>7476</td>\n",
       "      <td>NaN</td>\n",
       "      <td>NaN</td>\n",
       "      <td>NaN</td>\n",
       "      <td>NaN</td>\n",
       "      <td>NaN</td>\n",
       "      <td>NaN</td>\n",
       "      <td>NaN</td>\n",
       "    </tr>\n",
       "    <tr>\n",
       "      <th>phevCity</th>\n",
       "      <td>21950.0</td>\n",
       "      <td>NaN</td>\n",
       "      <td>NaN</td>\n",
       "      <td>NaN</td>\n",
       "      <td>0.513075</td>\n",
       "      <td>5.231607</td>\n",
       "      <td>0.0</td>\n",
       "      <td>0.0</td>\n",
       "      <td>0.0</td>\n",
       "      <td>0.0</td>\n",
       "      <td>97.0</td>\n",
       "    </tr>\n",
       "    <tr>\n",
       "      <th>phevHwy</th>\n",
       "      <td>21950.0</td>\n",
       "      <td>NaN</td>\n",
       "      <td>NaN</td>\n",
       "      <td>NaN</td>\n",
       "      <td>0.514806</td>\n",
       "      <td>5.032342</td>\n",
       "      <td>0.0</td>\n",
       "      <td>0.0</td>\n",
       "      <td>0.0</td>\n",
       "      <td>0.0</td>\n",
       "      <td>81.0</td>\n",
       "    </tr>\n",
       "    <tr>\n",
       "      <th>phevComb</th>\n",
       "      <td>21950.0</td>\n",
       "      <td>NaN</td>\n",
       "      <td>NaN</td>\n",
       "      <td>NaN</td>\n",
       "      <td>0.511617</td>\n",
       "      <td>5.108823</td>\n",
       "      <td>0.0</td>\n",
       "      <td>0.0</td>\n",
       "      <td>0.0</td>\n",
       "      <td>0.0</td>\n",
       "      <td>88.0</td>\n",
       "    </tr>\n",
       "  </tbody>\n",
       "</table>\n",
       "</div>"
      ],
      "text/plain": [
       "                   count unique                           top   freq  \\\n",
       "efid               21950   6529                  GPRXV04.0C91     39   \n",
       "id               21950.0    NaN                           NaN    NaN   \n",
       "salesArea        21950.0    NaN                           NaN    NaN   \n",
       "score            21950.0    NaN                           NaN    NaN   \n",
       "scoreAlt         21950.0    NaN                           NaN    NaN   \n",
       "smartwayScore    21950.0    NaN                           NaN    NaN   \n",
       "standard           21950     48                            U2   4066   \n",
       "stdText            21941     64                   LEV-II ULEV   2232   \n",
       "barrels08        21950.0    NaN                           NaN    NaN   \n",
       "barrelsA08       21950.0    NaN                           NaN    NaN   \n",
       "charge120        21950.0    NaN                           NaN    NaN   \n",
       "charge240        21950.0    NaN                           NaN    NaN   \n",
       "city08           21950.0    NaN                           NaN    NaN   \n",
       "city08U          21950.0    NaN                           NaN    NaN   \n",
       "cityA08          21950.0    NaN                           NaN    NaN   \n",
       "cityA08U         21950.0    NaN                           NaN    NaN   \n",
       "cityCD           21950.0    NaN                           NaN    NaN   \n",
       "cityE            21950.0    NaN                           NaN    NaN   \n",
       "cityUF           21950.0    NaN                           NaN    NaN   \n",
       "co2              21950.0    NaN                           NaN    NaN   \n",
       "co2A             21950.0    NaN                           NaN    NaN   \n",
       "co2TailpipeAGpm  21950.0    NaN                           NaN    NaN   \n",
       "co2TailpipeGpm   21950.0    NaN                           NaN    NaN   \n",
       "comb08           21950.0    NaN                           NaN    NaN   \n",
       "comb08U          21950.0    NaN                           NaN    NaN   \n",
       "combA08          21950.0    NaN                           NaN    NaN   \n",
       "combA08U         21950.0    NaN                           NaN    NaN   \n",
       "combE            21950.0    NaN                           NaN    NaN   \n",
       "combinedCD       21950.0    NaN                           NaN    NaN   \n",
       "combinedUF       21950.0    NaN                           NaN    NaN   \n",
       "cylinders        21627.0    NaN                           NaN    NaN   \n",
       "displ            21628.0    NaN                           NaN    NaN   \n",
       "drive              21950      6             Front-Wheel Drive   6879   \n",
       "engId            21950.0    NaN                           NaN    NaN   \n",
       "eng_dscr           10785    189                          SIDI   7335   \n",
       "feScore          21950.0    NaN                           NaN    NaN   \n",
       "fuelCost08       21950.0    NaN                           NaN    NaN   \n",
       "fuelCostA08      21950.0    NaN                           NaN    NaN   \n",
       "fuelType           21950     13                       Regular  10338   \n",
       "fuelType1          21950      6              Regular Gasoline  11610   \n",
       "ghgScore         21950.0    NaN                           NaN    NaN   \n",
       "ghgScoreA        21950.0    NaN                           NaN    NaN   \n",
       "highway08        21950.0    NaN                           NaN    NaN   \n",
       "highway08U       21950.0    NaN                           NaN    NaN   \n",
       "highwayA08       21950.0    NaN                           NaN    NaN   \n",
       "highwayA08U      21950.0    NaN                           NaN    NaN   \n",
       "highwayCD        21950.0    NaN                           NaN    NaN   \n",
       "highwayE         21950.0    NaN                           NaN    NaN   \n",
       "highwayUF        21950.0    NaN                           NaN    NaN   \n",
       "hlv              21950.0    NaN                           NaN    NaN   \n",
       "hpv              21950.0    NaN                           NaN    NaN   \n",
       "lv2              21950.0    NaN                           NaN    NaN   \n",
       "lv4              21950.0    NaN                           NaN    NaN   \n",
       "make               21950     76                     Chevrolet   1746   \n",
       "model              21950   3146                         Jetta    105   \n",
       "mpgData            21950      2                             N  15039   \n",
       "phevBlended        21950      2                         False  21752   \n",
       "pv2              21950.0    NaN                           NaN    NaN   \n",
       "pv4              21950.0    NaN                           NaN    NaN   \n",
       "range            21950.0    NaN                           NaN    NaN   \n",
       "rangeCity        21950.0    NaN                           NaN    NaN   \n",
       "rangeCityA       21950.0    NaN                           NaN    NaN   \n",
       "rangeHwy         21950.0    NaN                           NaN    NaN   \n",
       "rangeHwyA        21950.0    NaN                           NaN    NaN   \n",
       "trany              21950     34                Automatic (S6)   3144   \n",
       "UCity            21950.0    NaN                           NaN    NaN   \n",
       "UCityA           21950.0    NaN                           NaN    NaN   \n",
       "UHighway         21950.0    NaN                           NaN    NaN   \n",
       "UHighwayA        21950.0    NaN                           NaN    NaN   \n",
       "VClass             21950     24                  Midsize Cars   2991   \n",
       "year             21950.0    NaN                           NaN    NaN   \n",
       "youSaveSpend     21950.0    NaN                           NaN    NaN   \n",
       "guzzler             1437      1                             G   1437   \n",
       "trans_dscr          4671     29                         CLKUP   2521   \n",
       "tCharger            6925      1                             T   6925   \n",
       "sCharger             757      1                             S    757   \n",
       "atvType             3157      7                           FFV   1303   \n",
       "fuelType2           1562      3                           E85   1303   \n",
       "rangeA              1562    218                           280     45   \n",
       "evMotor             1423    238                    48V Li-Ion    169   \n",
       "mfrCode            13635     49                           GMX   1996   \n",
       "c240Dscr             127      5              standard charger    116   \n",
       "charge240b       21950.0    NaN                           NaN    NaN   \n",
       "c240bDscr            121      7           80 amp dual charger     52   \n",
       "createdOn          21950    392  Tue Jan 01 00:00:00 EST 2013  11646   \n",
       "modifiedOn         21950    232  Tue Jan 01 00:00:00 EST 2013   6861   \n",
       "startStop          12747      2                             N   7476   \n",
       "phevCity         21950.0    NaN                           NaN    NaN   \n",
       "phevHwy          21950.0    NaN                           NaN    NaN   \n",
       "phevComb         21950.0    NaN                           NaN    NaN   \n",
       "\n",
       "                         mean          std       min      25%         50%  \\\n",
       "efid                      NaN          NaN       NaN      NaN         NaN   \n",
       "id               32950.602961  7622.982502   19332.0  25431.5     33824.5   \n",
       "salesArea            5.353121     2.165905       1.0      3.0         7.0   \n",
       "score                5.033075     1.929742     -12.0      5.0         5.0   \n",
       "scoreAlt            -0.925194      0.65195      -1.0     -1.0        -1.0   \n",
       "smartwayScore       -0.578132     0.857135      -1.0     -1.0        -1.0   \n",
       "standard                  NaN          NaN       NaN      NaN         NaN   \n",
       "stdText                   NaN          NaN       NaN      NaN         NaN   \n",
       "barrels08           14.322039     4.048618  0.047081  11.9004   14.167143   \n",
       "barrelsA08           0.338052     1.280617       0.0      0.0         0.0   \n",
       "charge120                 0.0          0.0       0.0      0.0         0.0   \n",
       "charge240            0.168935     1.202342       0.0      0.0         0.0   \n",
       "city08              20.527335    12.221939       8.0     16.0        18.0   \n",
       "city08U             14.920588    15.657806       0.0      0.0    16.49565   \n",
       "cityA08              1.545194     8.845768       0.0      0.0         0.0   \n",
       "cityA08U             1.380218     8.776311       0.0      0.0         0.0   \n",
       "cityCD               0.001006     0.053784       0.0      0.0         0.0   \n",
       "cityE                1.057131     6.849565       0.0      0.0         0.0   \n",
       "cityUF               0.005766     0.055633       0.0      0.0         0.0   \n",
       "co2                225.349385   216.300821      -1.0     -1.0       291.0   \n",
       "co2A                12.994533    80.987262      -1.0     -1.0        -1.0   \n",
       "co2TailpipeAGpm     29.277358    118.73002       0.0      0.0         0.0   \n",
       "co2TailpipeGpm      427.53509   120.408199       0.0   355.48  423.190476   \n",
       "comb08              22.894806    11.368432       9.0     18.0        21.0   \n",
       "comb08U             16.523263    15.778079       0.0      0.0     18.9326   \n",
       "combA08              1.638815     8.756106       0.0      0.0         0.0   \n",
       "combA08U             1.446863     8.655259       0.0      0.0         0.0   \n",
       "combE                1.072432     6.858613       0.0      0.0         0.0   \n",
       "combinedCD           0.000782     0.046838       0.0      0.0         0.0   \n",
       "combinedUF           0.005706     0.054959       0.0      0.0         0.0   \n",
       "cylinders            5.795718     1.857639       2.0      4.0         6.0   \n",
       "displ                3.311309     1.337093       0.0      2.0         3.0   \n",
       "drive                     NaN          NaN       NaN      NaN         NaN   \n",
       "engId              155.997677   224.172696       0.0      0.0        44.0   \n",
       "eng_dscr                  NaN          NaN       NaN      NaN         NaN   \n",
       "feScore              2.449795     3.333951      -1.0     -1.0         3.0   \n",
       "fuelCost08         3373.70615   951.830582     450.0   2750.0      3350.0   \n",
       "fuelCostA08        192.749431   772.393557       0.0      0.0         0.0   \n",
       "fuelType                  NaN          NaN       NaN      NaN         NaN   \n",
       "fuelType1                 NaN          NaN       NaN      NaN         NaN   \n",
       "ghgScore             2.451663     3.342727      -1.0     -1.0         3.0   \n",
       "ghgScoreA           -0.841595     0.920807      -1.0     -1.0        -1.0   \n",
       "highway08           27.035444    10.511456      11.0     22.0        26.0   \n",
       "highway08U          19.299956     16.65352       0.0      0.0     23.0453   \n",
       "highwayA08           1.807836     8.870678       0.0      0.0         0.0   \n",
       "highwayA08U          1.579943      8.72928       0.0      0.0         0.0   \n",
       "highwayCD            0.000502     0.038961       0.0      0.0         0.0   \n",
       "highwayE             1.091979     6.898766       0.0      0.0         0.0   \n",
       "highwayUF            0.005622     0.054097       0.0      0.0         0.0   \n",
       "hlv                   1.45836     5.252152       0.0      0.0         0.0   \n",
       "hpv                  7.191344    24.519948       0.0      0.0         0.0   \n",
       "lv2                  1.344556     3.585163       0.0      0.0         0.0   \n",
       "lv4                  5.708155     8.567124       0.0      0.0         0.0   \n",
       "make                      NaN          NaN       NaN      NaN         NaN   \n",
       "model                     NaN          NaN       NaN      NaN         NaN   \n",
       "mpgData                   NaN          NaN       NaN      NaN         NaN   \n",
       "phevBlended               NaN          NaN       NaN      NaN         NaN   \n",
       "pv2                 11.283144    28.350429       0.0      0.0         0.0   \n",
       "pv4                 34.561139    47.000574       0.0      0.0         0.0   \n",
       "range                3.166925    28.487235       0.0      0.0         0.0   \n",
       "rangeCity            2.676362     26.58555       0.0      0.0         0.0   \n",
       "rangeCityA           0.314485     3.776385       0.0      0.0         0.0   \n",
       "rangeHwy             2.516584    25.362442       0.0      0.0         0.0   \n",
       "rangeHwyA            0.292203     3.377412       0.0      0.0         0.0   \n",
       "trany                     NaN          NaN       NaN      NaN         NaN   \n",
       "UCity               26.277834    17.467813       9.3     19.3        23.1   \n",
       "UCityA               2.082464    12.530751       0.0      0.0         0.0   \n",
       "UHighway              38.2507    15.057325      15.1     30.5    35.98055   \n",
       "UHighwayA             1.59142     7.435685       0.0      0.0         0.0   \n",
       "VClass                    NaN          NaN       NaN      NaN         NaN   \n",
       "year              2013.437585     5.431032    2004.0   2009.0      2014.0   \n",
       "youSaveSpend      -4824.05467  4807.963642  -29500.0  -7750.0     -4250.0   \n",
       "guzzler                   NaN          NaN       NaN      NaN         NaN   \n",
       "trans_dscr                NaN          NaN       NaN      NaN         NaN   \n",
       "tCharger                  NaN          NaN       NaN      NaN         NaN   \n",
       "sCharger                  NaN          NaN       NaN      NaN         NaN   \n",
       "atvType                   NaN          NaN       NaN      NaN         NaN   \n",
       "fuelType2                 NaN          NaN       NaN      NaN         NaN   \n",
       "rangeA                    NaN          NaN       NaN      NaN         NaN   \n",
       "evMotor                   NaN          NaN       NaN      NaN         NaN   \n",
       "mfrCode                   NaN          NaN       NaN      NaN         NaN   \n",
       "c240Dscr                  NaN          NaN       NaN      NaN         NaN   \n",
       "charge240b           0.032768     0.468504       0.0      0.0         0.0   \n",
       "c240bDscr                 NaN          NaN       NaN      NaN         NaN   \n",
       "createdOn                 NaN          NaN       NaN      NaN         NaN   \n",
       "modifiedOn                NaN          NaN       NaN      NaN         NaN   \n",
       "startStop                 NaN          NaN       NaN      NaN         NaN   \n",
       "phevCity             0.513075     5.231607       0.0      0.0         0.0   \n",
       "phevHwy              0.514806     5.032342       0.0      0.0         0.0   \n",
       "phevComb             0.511617     5.108823       0.0      0.0         0.0   \n",
       "\n",
       "                        75%         max  \n",
       "efid                    NaN         NaN  \n",
       "id                 39443.75     45092.0  \n",
       "salesArea               7.0         9.0  \n",
       "score                   6.0        10.0  \n",
       "scoreAlt               -1.0         6.0  \n",
       "smartwayScore          -1.0         2.0  \n",
       "standard                NaN         NaN  \n",
       "stdText                 NaN         NaN  \n",
       "barrels08         16.528333   33.056667  \n",
       "barrelsA08              0.0   16.528333  \n",
       "charge120               0.0         0.0  \n",
       "charge240               0.0        15.3  \n",
       "city08                 22.0       150.0  \n",
       "city08U             21.2505    150.1958  \n",
       "cityA08                 0.0       145.0  \n",
       "cityA08U                0.0    145.0835  \n",
       "cityCD                  0.0        5.35  \n",
       "cityE                   0.0        87.0  \n",
       "cityUF                  0.0       0.927  \n",
       "co2                   410.0       979.0  \n",
       "co2A                   -1.0       713.0  \n",
       "co2TailpipeAGpm         0.0       713.0  \n",
       "co2TailpipeGpm   493.722222  987.444444  \n",
       "comb08                 25.0       142.0  \n",
       "comb08U             24.1303    141.9512  \n",
       "combA08                 0.0       133.0  \n",
       "combA08U                0.0    133.2662  \n",
       "combE                   0.0        82.0  \n",
       "combinedCD              0.0         4.8  \n",
       "combinedUF              0.0        0.92  \n",
       "cylinders               6.0        16.0  \n",
       "displ                   4.0         8.4  \n",
       "drive                   NaN         NaN  \n",
       "engId                213.75       999.0  \n",
       "eng_dscr                NaN         NaN  \n",
       "feScore                 5.0        10.0  \n",
       "fuelCost08           3950.0      8300.0  \n",
       "fuelCostA08             0.0      4550.0  \n",
       "fuelType                NaN         NaN  \n",
       "fuelType1               NaN         NaN  \n",
       "ghgScore                5.0        10.0  \n",
       "ghgScoreA              -1.0         8.0  \n",
       "highway08              30.0       133.0  \n",
       "highway08U          28.8888    133.0263  \n",
       "highwayA08              0.0       121.0  \n",
       "highwayA08U             0.0    121.2005  \n",
       "highwayCD               0.0        4.06  \n",
       "highwayE                0.0        79.0  \n",
       "highwayUF               0.0        0.91  \n",
       "hlv                     0.0        42.0  \n",
       "hpv                     0.0       108.0  \n",
       "lv2                     0.0        22.0  \n",
       "lv4                    13.0        49.0  \n",
       "make                    NaN         NaN  \n",
       "model                   NaN         NaN  \n",
       "mpgData                 NaN         NaN  \n",
       "phevBlended             NaN         NaN  \n",
       "pv2                     0.0       118.0  \n",
       "pv4                    93.0       157.0  \n",
       "range                   0.0       520.0  \n",
       "rangeCity               0.0       520.8  \n",
       "rangeCityA              0.0      135.28  \n",
       "rangeHwy                0.0       520.5  \n",
       "rangeHwyA               0.0      114.76  \n",
       "trany                   NaN         NaN  \n",
       "UCity                  28.0       224.8  \n",
       "UCityA                  0.0    207.2622  \n",
       "UHighway            42.3785       187.1  \n",
       "UHighwayA               0.0    173.1436  \n",
       "VClass                  NaN         NaN  \n",
       "year                 2018.0      2022.0  \n",
       "youSaveSpend        -1750.0      9750.0  \n",
       "guzzler                 NaN         NaN  \n",
       "trans_dscr              NaN         NaN  \n",
       "tCharger                NaN         NaN  \n",
       "sCharger                NaN         NaN  \n",
       "atvType                 NaN         NaN  \n",
       "fuelType2               NaN         NaN  \n",
       "rangeA                  NaN         NaN  \n",
       "evMotor                 NaN         NaN  \n",
       "mfrCode                 NaN         NaN  \n",
       "c240Dscr                NaN         NaN  \n",
       "charge240b              0.0         9.6  \n",
       "c240bDscr               NaN         NaN  \n",
       "createdOn               NaN         NaN  \n",
       "modifiedOn              NaN         NaN  \n",
       "startStop               NaN         NaN  \n",
       "phevCity                0.0        97.0  \n",
       "phevHwy                 0.0        81.0  \n",
       "phevComb                0.0        88.0  "
      ]
     },
     "metadata": {},
     "output_type": "display_data"
    }
   ],
   "source": [
    "display_all(df_raw.describe(include = 'all').T)"
   ]
  },
  {
   "cell_type": "code",
   "execution_count": 19,
   "id": "61d09383",
   "metadata": {},
   "outputs": [
    {
     "data": {
      "text/plain": [
       "Regular                        10338\n",
       "Premium                         9223\n",
       "Gasoline or E85                 1188\n",
       "Diesel                           346\n",
       "Electricity                      323\n",
       "Midgrade                         138\n",
       "Premium and Electricity          122\n",
       "Premium or E85                   115\n",
       "Regular Gas and Electricity       76\n",
       "Premium Gas or Electricity        53\n",
       "CNG                               20\n",
       "Regular Gas or Electricity         4\n",
       "Gasoline or natural gas            4\n",
       "Name: fuelType, dtype: int64"
      ]
     },
     "execution_count": 19,
     "metadata": {},
     "output_type": "execute_result"
    }
   ],
   "source": [
    "#fuelType = fuelType1 + fuelType2 \n",
    "#fuelType can be deleted \n",
    "\n",
    "df_raw[\"fuelType\"].value_counts()"
   ]
  },
  {
   "cell_type": "code",
   "execution_count": 20,
   "id": "df249ff9",
   "metadata": {},
   "outputs": [
    {
     "data": {
      "text/plain": [
       "Regular Gasoline     11610\n",
       "Premium Gasoline      9513\n",
       "Diesel                 346\n",
       "Electricity            323\n",
       "Midgrade Gasoline      138\n",
       "Natural Gas             20\n",
       "Name: fuelType1, dtype: int64"
      ]
     },
     "execution_count": 20,
     "metadata": {},
     "output_type": "execute_result"
    }
   ],
   "source": [
    "#For single fuel vehicles, this will be the only fuel. For dual fuel vehicles, this will be the conventional fuel.\n",
    "df_raw[\"fuelType1\"].value_counts()"
   ]
  },
  {
   "cell_type": "code",
   "execution_count": 21,
   "id": "efff649b",
   "metadata": {},
   "outputs": [
    {
     "data": {
      "text/plain": [
       "Chevrolet        1746\n",
       "BMW              1620\n",
       "Ford             1449\n",
       "Mercedes-Benz    1224\n",
       "Toyota           1065\n",
       "                 ... \n",
       "Rivian              2\n",
       "Fisker              1\n",
       "Mahindra            1\n",
       "Shelby              1\n",
       "Kandi               1\n",
       "Name: make, Length: 76, dtype: int64"
      ]
     },
     "execution_count": 21,
     "metadata": {},
     "output_type": "execute_result"
    }
   ],
   "source": [
    "df_raw[\"make\"].value_counts()"
   ]
  },
  {
   "cell_type": "code",
   "execution_count": 22,
   "id": "ad1cc122",
   "metadata": {},
   "outputs": [
    {
     "data": {
      "text/plain": [
       "Jetta                    105\n",
       "Mustang                   98\n",
       "Camaro                    92\n",
       "Accord                    78\n",
       "Tacoma 4WD                65\n",
       "                        ... \n",
       "Titan 4WD PRO-4X           1\n",
       "RAV4 Hybrid  AWD           1\n",
       "RS4 Cabriolet              1\n",
       "AMG GLS63 4matic Plus      1\n",
       "I-Pace EV400               1\n",
       "Name: model, Length: 3146, dtype: int64"
      ]
     },
     "execution_count": 22,
     "metadata": {},
     "output_type": "execute_result"
    }
   ],
   "source": [
    "df_raw[\"model\"].value_counts()"
   ]
  },
  {
   "cell_type": "code",
   "execution_count": 23,
   "id": "00f1c4dd",
   "metadata": {},
   "outputs": [
    {
     "data": {
      "text/plain": [
       "2018    1340\n",
       "2019    1315\n",
       "2017    1281\n",
       "2021    1275\n",
       "2015    1268\n",
       "2016    1246\n",
       "2020    1245\n",
       "2014    1213\n",
       "2013    1170\n",
       "2022    1153\n",
       "2008    1129\n",
       "2012    1120\n",
       "2010    1071\n",
       "2011    1065\n",
       "2006    1056\n",
       "2005    1048\n",
       "2004    1040\n",
       "2007     992\n",
       "2009     923\n",
       "Name: year, dtype: int64"
      ]
     },
     "execution_count": 23,
     "metadata": {},
     "output_type": "execute_result"
    }
   ],
   "source": [
    "df_raw[\"year\"].value_counts()"
   ]
  },
  {
   "cell_type": "code",
   "execution_count": 24,
   "id": "d819a2cc",
   "metadata": {},
   "outputs": [
    {
     "data": {
      "text/plain": [
       "4.0     8143\n",
       "6.0     7521\n",
       "8.0     4640\n",
       "12.0     488\n",
       "5.0      440\n",
       "3.0      194\n",
       "10.0     156\n",
       "2.0       28\n",
       "16.0      17\n",
       "Name: cylinders, dtype: int64"
      ]
     },
     "execution_count": 24,
     "metadata": {},
     "output_type": "execute_result"
    }
   ],
   "source": [
    "df_raw[\"cylinders\"].value_counts()"
   ]
  },
  {
   "cell_type": "code",
   "execution_count": 25,
   "id": "bb333da3",
   "metadata": {},
   "outputs": [
    {
     "data": {
      "text/plain": [
       "2.0    3264\n",
       "3.0    2149\n",
       "3.5    1678\n",
       "2.5    1378\n",
       "2.4    1242\n",
       "       ... \n",
       "0.9       6\n",
       "8.3       6\n",
       "2.1       5\n",
       "5.8       2\n",
       "0.0       1\n",
       "Name: displ, Length: 62, dtype: int64"
      ]
     },
     "execution_count": 25,
     "metadata": {},
     "output_type": "execute_result"
    }
   ],
   "source": [
    "df_raw[\"displ\"].value_counts()"
   ]
  },
  {
   "cell_type": "code",
   "execution_count": 26,
   "id": "2b961a35",
   "metadata": {},
   "outputs": [
    {
     "data": {
      "text/plain": [
       "False    21752\n",
       "True       198\n",
       "Name: phevBlended, dtype: int64"
      ]
     },
     "execution_count": 26,
     "metadata": {},
     "output_type": "execute_result"
    }
   ],
   "source": [
    "df_raw[\"phevBlended\"].value_counts()"
   ]
  },
  {
   "cell_type": "code",
   "execution_count": 27,
   "id": "4574eb31",
   "metadata": {},
   "outputs": [
    {
     "data": {
      "text/plain": [
       "Front-Wheel Drive             6879\n",
       "Rear-Wheel Drive              6545\n",
       "All-Wheel Drive               4154\n",
       "4-Wheel or All-Wheel Drive    2040\n",
       "4-Wheel Drive                 1942\n",
       "Part-time 4-Wheel Drive        390\n",
       "Name: drive, dtype: int64"
      ]
     },
     "execution_count": 27,
     "metadata": {},
     "output_type": "execute_result"
    }
   ],
   "source": [
    "df_raw[\"drive\"].value_counts()"
   ]
  },
  {
   "cell_type": "code",
   "execution_count": 28,
   "id": "19a7e727",
   "metadata": {},
   "outputs": [
    {
     "data": {
      "text/plain": [
       "FFV               1303\n",
       "Hybrid             906\n",
       "Diesel             346\n",
       "EV                 323\n",
       "Plug-in Hybrid     255\n",
       "CNG                 20\n",
       "Bifuel (CNG)         4\n",
       "Name: atvType, dtype: int64"
      ]
     },
     "execution_count": 28,
     "metadata": {},
     "output_type": "execute_result"
    }
   ],
   "source": [
    "df_raw[\"atvType\"].value_counts()"
   ]
  },
  {
   "cell_type": "code",
   "execution_count": 29,
   "id": "789ca505",
   "metadata": {},
   "outputs": [
    {
     "data": {
      "text/plain": [
       "11165"
      ]
     },
     "execution_count": 29,
     "metadata": {},
     "output_type": "execute_result"
    }
   ],
   "source": [
    "df_raw[\"eng_dscr\"].isnull().sum()"
   ]
  },
  {
   "cell_type": "code",
   "execution_count": 30,
   "id": "03ae1b02",
   "metadata": {},
   "outputs": [
    {
     "data": {
      "text/plain": [
       "CLKUP              2521\n",
       "2MODE CLKUP         555\n",
       "3MODE CLKUP         414\n",
       "EMS 2MODE CLKUP     293\n",
       "SIL                 149\n",
       "EMS                 129\n",
       "CMODE               115\n",
       "3MODE                80\n",
       "2MODE                71\n",
       "VMODE CLKUP          50\n",
       "CMODE CLKUP          47\n",
       "DC/FW                44\n",
       "6MODE CLKUP          31\n",
       "4MODE                28\n",
       "2MODE 2LKUP          27\n",
       "EMS CLKUP            24\n",
       "VMODE VLKUP          24\n",
       "VLKUP                21\n",
       "CMODE VLKUP          14\n",
       "SIL EMS               7\n",
       "6MODE                 6\n",
       "4MODE CLKUP           6\n",
       "SIL 2MODE CLKUP       4\n",
       "SIL 3MODE             3\n",
       "3MODE VLKUP           2\n",
       "LONG RATIO            2\n",
       "EMS 3MODE CLKUP       2\n",
       "3MODE CLKUP FW        1\n",
       "SIL 3MODE CLKUP       1\n",
       "Name: trans_dscr, dtype: int64"
      ]
     },
     "execution_count": 30,
     "metadata": {},
     "output_type": "execute_result"
    }
   ],
   "source": [
    "df_raw[\"trans_dscr\"].value_counts()"
   ]
  },
  {
   "cell_type": "code",
   "execution_count": 31,
   "id": "09292121",
   "metadata": {},
   "outputs": [
    {
     "data": {
      "text/plain": [
       "E85            1303\n",
       "Electricity     255\n",
       "Natural Gas       4\n",
       "Name: fuelType2, dtype: int64"
      ]
     },
     "execution_count": 31,
     "metadata": {},
     "output_type": "execute_result"
    }
   ],
   "source": [
    "#For dual fuel vehicles, this will be the alternative fuel (e.g. E85, Electricity, CNG, LPG).\n",
    "df_raw[\"fuelType2\"].value_counts()"
   ]
  },
  {
   "cell_type": "code",
   "execution_count": 32,
   "id": "d61e2758",
   "metadata": {},
   "outputs": [
    {
     "data": {
      "text/plain": [
       "20388"
      ]
     },
     "execution_count": 32,
     "metadata": {},
     "output_type": "execute_result"
    }
   ],
   "source": [
    "#the empty value mean the vehicle only have one type of fuel \n",
    "df_raw['fuelType2'].isna().sum()"
   ]
  },
  {
   "cell_type": "code",
   "execution_count": 33,
   "id": "3f9c1bb3",
   "metadata": {},
   "outputs": [
    {
     "data": {
      "text/plain": [
       "standard charger    116\n",
       "3.6 kW charger        4\n",
       "single charger        3\n",
       "7.2 kW charger        2\n",
       "6.6 kW charger        2\n",
       "Name: c240Dscr, dtype: int64"
      ]
     },
     "execution_count": 33,
     "metadata": {},
     "output_type": "execute_result"
    }
   ],
   "source": [
    "#electric vehicle charger description\n",
    "df_raw[\"c240Dscr\"].value_counts()"
   ]
  },
  {
   "cell_type": "code",
   "execution_count": 34,
   "id": "2f3a6c84",
   "metadata": {},
   "outputs": [
    {
     "data": {
      "text/plain": [
       "0.00    21833\n",
       "4.75       46\n",
       "8.00       18\n",
       "8.50       15\n",
       "3.75        9\n",
       "8.30        5\n",
       "6.20        4\n",
       "9.60        4\n",
       "5.00        3\n",
       "8.20        2\n",
       "4.40        2\n",
       "6.60        2\n",
       "6.50        1\n",
       "5.80        1\n",
       "9.30        1\n",
       "2.30        1\n",
       "7.00        1\n",
       "2.50        1\n",
       "4.00        1\n",
       "Name: charge240b, dtype: int64"
      ]
     },
     "execution_count": 34,
     "metadata": {},
     "output_type": "execute_result"
    }
   ],
   "source": [
    "#time to charge an electric vehicle in hours at 240 V using the alternate charger\n",
    "df_raw[\"charge240b\"].value_counts()"
   ]
  },
  {
   "cell_type": "code",
   "execution_count": 35,
   "id": "dc8e1424",
   "metadata": {},
   "outputs": [
    {
     "data": {
      "text/plain": [
       "18     1956\n",
       "17     1953\n",
       "16     1911\n",
       "19     1731\n",
       "15     1702\n",
       "       ... \n",
       "61        1\n",
       "93        1\n",
       "60        1\n",
       "67        1\n",
       "148       1\n",
       "Name: city08, Length: 124, dtype: int64"
      ]
     },
     "execution_count": 35,
     "metadata": {},
     "output_type": "execute_result"
    }
   ],
   "source": [
    "df_raw[\"city08\"].value_counts()"
   ]
  },
  {
   "cell_type": "code",
   "execution_count": 36,
   "id": "635187bb",
   "metadata": {},
   "outputs": [
    {
     "data": {
      "text/plain": [
       "18     1956\n",
       "17     1953\n",
       "16     1911\n",
       "19     1731\n",
       "15     1702\n",
       "       ... \n",
       "61        1\n",
       "93        1\n",
       "60        1\n",
       "67        1\n",
       "148       1\n",
       "Name: city08, Length: 124, dtype: int64"
      ]
     },
     "execution_count": 36,
     "metadata": {},
     "output_type": "execute_result"
    }
   ],
   "source": [
    "#the fuel consumption in the city for fuelType2 is mainly 0 - therefore we are adding up the column 'city08' and 'cityA08'\n",
    "df_raw[\"city08\"].value_counts()"
   ]
  },
  {
   "cell_type": "code",
   "execution_count": 37,
   "id": "8e31ffbf",
   "metadata": {},
   "outputs": [
    {
     "data": {
      "text/plain": [
       " 5.0     7491\n",
       " 6.0     6889\n",
       " 3.0     2071\n",
       " 1.0     1732\n",
       " 7.0     1566\n",
       " 2.0      974\n",
       " 9.0      646\n",
       " 10.0     320\n",
       " 8.0      242\n",
       "-12.0      11\n",
       " 4.0        5\n",
       "-2.0        3\n",
       "Name: score, dtype: int64"
      ]
     },
     "execution_count": 37,
     "metadata": {},
     "output_type": "execute_result"
    }
   ],
   "source": [
    "#EPA 1-10 smog rating for fuelType1\n",
    "#-12 and -3 are wrong values becasue the rating goes from 1 to 10 \n",
    "df_raw[\"score\"].value_counts()"
   ]
  },
  {
   "cell_type": "code",
   "execution_count": 38,
   "id": "39a25cc8",
   "metadata": {},
   "outputs": [
    {
     "data": {
      "text/plain": [
       "-1.0    21623\n",
       " 5.0      117\n",
       " 6.0       90\n",
       " 2.0       70\n",
       " 1.0       50\n",
       "Name: scoreAlt, dtype: int64"
      ]
     },
     "execution_count": 38,
     "metadata": {},
     "output_type": "execute_result"
    }
   ],
   "source": [
    "#EPA 1-10 smog rating for fuelType2\n",
    "df_raw[\"scoreAlt\"].value_counts()"
   ]
  },
  {
   "cell_type": "code",
   "execution_count": 39,
   "id": "9f811b95",
   "metadata": {},
   "outputs": [
    {
     "data": {
      "text/plain": [
       "-1     9444\n",
       " 5     3185\n",
       " 4     2516\n",
       " 6     1665\n",
       " 3     1624\n",
       " 7     1265\n",
       " 2      653\n",
       " 8      604\n",
       " 10     540\n",
       " 1      259\n",
       " 9      195\n",
       "Name: ghgScore, dtype: int64"
      ]
     },
     "execution_count": 39,
     "metadata": {},
     "output_type": "execute_result"
    }
   ],
   "source": [
    "#the ghgScore reflects vehicle tailpipe emissions of carbon dioxide (CO2), the most prevalent greenhouse gas (GHG).\n",
    "df_raw[\"ghgScore\"].value_counts()"
   ]
  },
  {
   "cell_type": "code",
   "execution_count": 40,
   "id": "df23805e",
   "metadata": {},
   "outputs": [
    {
     "data": {
      "text/plain": [
       "Midsize Cars                          2991\n",
       "Compact Cars                          2880\n",
       "Subcompact Cars                       2000\n",
       "Large Cars                            1653\n",
       "Sport Utility Vehicle - 4WD           1413\n",
       "Two Seaters                           1348\n",
       "Small Sport Utility Vehicle 4WD       1331\n",
       "Sport Utility Vehicle - 2WD           1111\n",
       "Standard Sport Utility Vehicle 4WD    1054\n",
       "Minicompact Cars                       892\n",
       "Small Station Wagons                   850\n",
       "Standard Pickup Trucks 4WD             825\n",
       "Small Sport Utility Vehicle 2WD        823\n",
       "Standard Pickup Trucks 2WD             797\n",
       "Standard Sport Utility Vehicle 2WD     391\n",
       "Small Pickup Trucks 2WD                282\n",
       "Midsize Station Wagons                 245\n",
       "Minivan - 2WD                          244\n",
       "Small Pickup Trucks 4WD                229\n",
       "Vans, Cargo Type                       192\n",
       "Special Purpose Vehicle 2WD            170\n",
       "Vans, Passenger Type                   159\n",
       "Special Purpose Vehicle 4WD             37\n",
       "Minivan - 4WD                           33\n",
       "Name: VClass, dtype: int64"
      ]
     },
     "execution_count": 40,
     "metadata": {},
     "output_type": "execute_result"
    }
   ],
   "source": [
    "df_raw[\"VClass\"].value_counts()"
   ]
  },
  {
   "cell_type": "markdown",
   "id": "d18af072",
   "metadata": {},
   "source": [
    "# Data Cleaning\n",
    "\n",
    "Based on the data inspection part we are going to eliminate ...... "
   ]
  },
  {
   "cell_type": "code",
   "execution_count": 41,
   "id": "2347e9ea",
   "metadata": {},
   "outputs": [],
   "source": [
    "df = df_raw"
   ]
  },
  {
   "cell_type": "code",
   "execution_count": 42,
   "id": "aec7fd17",
   "metadata": {},
   "outputs": [],
   "source": [
    "# Removed the column previously cited in the data inspection \n",
    "\n",
    "df = df.drop([\"createdOn\", \n",
    "              \"efid\",\"id\", \n",
    "              \"fuelType1\", \"fuelType2\", \n",
    "              \"createdOn\", \n",
    "              \"modifiedOn\", \n",
    "              \"salesArea\", \n",
    "              \"youSaveSpend\", \n",
    "              \"guzzler\", \n",
    "              \"city08U\", \"cityA08U\", \"cityCD\", \"cityE\", \"cityUF\",\n",
    "              \"highway08U\", \"highwayA08U\", \"highwayCD\", \"highwayE\", \"highwayUF\", \n",
    "              \"comb08U\", \"combA08U\", \"combinedCD\", \"combE\", \"combinedUF\", \n",
    "              \"c240Dscr\", \"charge240b\", \"charge120\", \"c240bDscr\", \n",
    "              \"mfrCode\", \n",
    "              \"mpgData\", \n",
    "              \"phevBlended\", \n",
    "              \"range\", \"rangeA\", \"rangeCity\", \"rangeCityA\", \"rangeHwy\", \"rangeHwyA\", \n",
    "              \"UCity\", \"UCityA\", \"UHighway\", \"UHighwayA\", \n",
    "              \"phevCity\", \"phevHwy\", \"phevComb\", \n",
    "              \"smartwayScore\", \n",
    "              \"evMotor\",  \n",
    "              \"fuelCost08\", \"fuelCostA08\"\n",
    "             ], axis = 1)"
   ]
  },
  {
   "cell_type": "code",
   "execution_count": 43,
   "id": "86fbb0da",
   "metadata": {},
   "outputs": [
    {
     "data": {
      "text/plain": [
       "(21950, 42)"
      ]
     },
     "execution_count": 43,
     "metadata": {},
     "output_type": "execute_result"
    }
   ],
   "source": [
    "df.shape"
   ]
  },
  {
   "cell_type": "code",
   "execution_count": 44,
   "id": "0fff3be5",
   "metadata": {},
   "outputs": [
    {
     "data": {
      "text/plain": [
       "Index(['score', 'scoreAlt', 'standard', 'stdText', 'barrels08', 'barrelsA08',\n",
       "       'charge240', 'city08', 'cityA08', 'co2', 'co2A', 'co2TailpipeAGpm',\n",
       "       'co2TailpipeGpm', 'comb08', 'combA08', 'cylinders', 'displ', 'drive',\n",
       "       'engId', 'eng_dscr', 'feScore', 'fuelType', 'ghgScore', 'ghgScoreA',\n",
       "       'highway08', 'highwayA08', 'hlv', 'hpv', 'lv2', 'lv4', 'make', 'model',\n",
       "       'pv2', 'pv4', 'trany', 'VClass', 'year', 'trans_dscr', 'tCharger',\n",
       "       'sCharger', 'atvType', 'startStop'],\n",
       "      dtype='object')"
      ]
     },
     "execution_count": 44,
     "metadata": {},
     "output_type": "execute_result"
    }
   ],
   "source": [
    "df.columns"
   ]
  },
  {
   "cell_type": "code",
   "execution_count": 45,
   "id": "2263a663",
   "metadata": {},
   "outputs": [],
   "source": [
    "# Create a new column \" Barrels \" with the sum of \"barrels08\" and \"barrelsA08\"\n",
    "df['Barrels'] = df['barrels08'] + df['barrelsA08'] "
   ]
  },
  {
   "cell_type": "code",
   "execution_count": 46,
   "id": "0260054a",
   "metadata": {},
   "outputs": [],
   "source": [
    "# Create a new column \" City \" with the sum of \"city08\" and \"cityA08\"\n",
    "df['City'] = df['city08'] + df['cityA08']"
   ]
  },
  {
   "cell_type": "code",
   "execution_count": 47,
   "id": "561c6b4d",
   "metadata": {},
   "outputs": [],
   "source": [
    "# Create a new column \" Co2 \" with the sum of \"co2\" and \"co2A\"\n",
    "df['Co2'] = df['co2'] + df['co2A']"
   ]
  },
  {
   "cell_type": "code",
   "execution_count": 48,
   "id": "c56b557f",
   "metadata": {},
   "outputs": [],
   "source": [
    "# Create a new column \" co2TailpipeGpm \" with the sum of \"co2TailpipeAGpm\" and \"co2TailpipeGpm\"\n",
    "df['co2TailpipeGpm'] = df['co2TailpipeAGpm'] + df['co2TailpipeGpm']"
   ]
  },
  {
   "cell_type": "code",
   "execution_count": 49,
   "id": "b03c10ed",
   "metadata": {},
   "outputs": [],
   "source": [
    "# Create a new column \" Comb08 \" with the sum of \"comb08\" and \"combA08\"\n",
    "df['comb'] = df['comb08'] + df['combA08']"
   ]
  },
  {
   "cell_type": "code",
   "execution_count": 50,
   "id": "56f3225e",
   "metadata": {},
   "outputs": [],
   "source": [
    "# Create a new column \" Highway \" with the sum of \"highway08\" and \"highwayA08\"\n",
    "df['Highway'] = df[\"highway08\"] + df['highwayA08'] "
   ]
  },
  {
   "cell_type": "code",
   "execution_count": 51,
   "id": "f40a3a33",
   "metadata": {},
   "outputs": [],
   "source": [
    "# Removed all the columns summed and left the aggregate ones \n",
    "\n",
    "df = df.drop([\"barrels08\", \"barrelsA08\", \"city08\",\"cityA08\", \"co2\", \"co2A\", \"co2TailpipeAGpm\", \"co2TailpipeGpm\", \"comb08\", \"combA08\", \"highway08\", \"highwayA08\"], axis = 1)"
   ]
  },
  {
   "cell_type": "code",
   "execution_count": 52,
   "id": "ab88069f",
   "metadata": {},
   "outputs": [],
   "source": [
    "# Merge the columns \"tCharger\" and \"sCharger\"\n",
    "\n",
    "df['Charger']= df['tCharger'].fillna('0') + ' ' + df['sCharger'].fillna('0')"
   ]
  },
  {
   "cell_type": "code",
   "execution_count": 53,
   "id": "fcf4e922",
   "metadata": {},
   "outputs": [
    {
     "data": {
      "text/html": [
       "<div>\n",
       "<style scoped>\n",
       "    .dataframe tbody tr th:only-of-type {\n",
       "        vertical-align: middle;\n",
       "    }\n",
       "\n",
       "    .dataframe tbody tr th {\n",
       "        vertical-align: top;\n",
       "    }\n",
       "\n",
       "    .dataframe thead th {\n",
       "        text-align: right;\n",
       "    }\n",
       "</style>\n",
       "<table border=\"1\" class=\"dataframe\">\n",
       "  <thead>\n",
       "    <tr style=\"text-align: right;\">\n",
       "      <th></th>\n",
       "      <th>score</th>\n",
       "      <th>scoreAlt</th>\n",
       "      <th>standard</th>\n",
       "      <th>stdText</th>\n",
       "      <th>charge240</th>\n",
       "      <th>cylinders</th>\n",
       "      <th>displ</th>\n",
       "      <th>drive</th>\n",
       "      <th>engId</th>\n",
       "      <th>eng_dscr</th>\n",
       "      <th>...</th>\n",
       "      <th>tCharger</th>\n",
       "      <th>sCharger</th>\n",
       "      <th>atvType</th>\n",
       "      <th>startStop</th>\n",
       "      <th>Barrels</th>\n",
       "      <th>City</th>\n",
       "      <th>Co2</th>\n",
       "      <th>comb</th>\n",
       "      <th>Highway</th>\n",
       "      <th>Charger</th>\n",
       "    </tr>\n",
       "  </thead>\n",
       "  <tbody>\n",
       "    <tr>\n",
       "      <th>0</th>\n",
       "      <td>7.0</td>\n",
       "      <td>-1.0</td>\n",
       "      <td>T3B30</td>\n",
       "      <td>Federal Tier 3 Bin 30</td>\n",
       "      <td>0.0</td>\n",
       "      <td>6.0</td>\n",
       "      <td>3.0</td>\n",
       "      <td>4-Wheel Drive</td>\n",
       "      <td>774</td>\n",
       "      <td>SIDI; Mild Hybrid</td>\n",
       "      <td>...</td>\n",
       "      <td>NaN</td>\n",
       "      <td>NaN</td>\n",
       "      <td>Hybrid</td>\n",
       "      <td>Y</td>\n",
       "      <td>13.523182</td>\n",
       "      <td>19</td>\n",
       "      <td>407</td>\n",
       "      <td>22</td>\n",
       "      <td>26</td>\n",
       "      <td>0 0</td>\n",
       "    </tr>\n",
       "    <tr>\n",
       "      <th>1</th>\n",
       "      <td>1.0</td>\n",
       "      <td>-1.0</td>\n",
       "      <td>T3B160</td>\n",
       "      <td>Federal Tier 3 Bin 160</td>\n",
       "      <td>0.0</td>\n",
       "      <td>6.0</td>\n",
       "      <td>3.5</td>\n",
       "      <td>Rear-Wheel Drive</td>\n",
       "      <td>65</td>\n",
       "      <td>SIDI &amp; PFI; FFV</td>\n",
       "      <td>...</td>\n",
       "      <td>NaN</td>\n",
       "      <td>NaN</td>\n",
       "      <td>FFV</td>\n",
       "      <td>N</td>\n",
       "      <td>22.823088</td>\n",
       "      <td>26</td>\n",
       "      <td>1046</td>\n",
       "      <td>29</td>\n",
       "      <td>34</td>\n",
       "      <td>0 0</td>\n",
       "    </tr>\n",
       "    <tr>\n",
       "      <th>2</th>\n",
       "      <td>1.0</td>\n",
       "      <td>-1.0</td>\n",
       "      <td>T3B160</td>\n",
       "      <td>Federal Tier 3 Bin 160</td>\n",
       "      <td>0.0</td>\n",
       "      <td>6.0</td>\n",
       "      <td>3.5</td>\n",
       "      <td>All-Wheel Drive</td>\n",
       "      <td>64</td>\n",
       "      <td>SIDI &amp; PFI; FFV</td>\n",
       "      <td>...</td>\n",
       "      <td>NaN</td>\n",
       "      <td>NaN</td>\n",
       "      <td>FFV</td>\n",
       "      <td>N</td>\n",
       "      <td>23.916875</td>\n",
       "      <td>25</td>\n",
       "      <td>1089</td>\n",
       "      <td>28</td>\n",
       "      <td>32</td>\n",
       "      <td>0 0</td>\n",
       "    </tr>\n",
       "    <tr>\n",
       "      <th>3</th>\n",
       "      <td>3.0</td>\n",
       "      <td>-1.0</td>\n",
       "      <td>T3B125</td>\n",
       "      <td>Federal Tier 3 Bin 125</td>\n",
       "      <td>0.0</td>\n",
       "      <td>4.0</td>\n",
       "      <td>2.0</td>\n",
       "      <td>All-Wheel Drive</td>\n",
       "      <td>245</td>\n",
       "      <td>SIDI</td>\n",
       "      <td>...</td>\n",
       "      <td>T</td>\n",
       "      <td>NaN</td>\n",
       "      <td>NaN</td>\n",
       "      <td>Y</td>\n",
       "      <td>13.523182</td>\n",
       "      <td>19</td>\n",
       "      <td>408</td>\n",
       "      <td>22</td>\n",
       "      <td>25</td>\n",
       "      <td>T 0</td>\n",
       "    </tr>\n",
       "    <tr>\n",
       "      <th>4</th>\n",
       "      <td>3.0</td>\n",
       "      <td>-1.0</td>\n",
       "      <td>T3B125</td>\n",
       "      <td>Federal Tier 3 Bin 125</td>\n",
       "      <td>0.0</td>\n",
       "      <td>4.0</td>\n",
       "      <td>2.0</td>\n",
       "      <td>All-Wheel Drive</td>\n",
       "      <td>210</td>\n",
       "      <td>SIDI</td>\n",
       "      <td>...</td>\n",
       "      <td>T</td>\n",
       "      <td>NaN</td>\n",
       "      <td>NaN</td>\n",
       "      <td>Y</td>\n",
       "      <td>12.935217</td>\n",
       "      <td>20</td>\n",
       "      <td>391</td>\n",
       "      <td>23</td>\n",
       "      <td>28</td>\n",
       "      <td>T 0</td>\n",
       "    </tr>\n",
       "  </tbody>\n",
       "</table>\n",
       "<p>5 rows × 36 columns</p>\n",
       "</div>"
      ],
      "text/plain": [
       "   score  scoreAlt standard                 stdText  charge240  cylinders  \\\n",
       "0    7.0      -1.0    T3B30   Federal Tier 3 Bin 30        0.0        6.0   \n",
       "1    1.0      -1.0   T3B160  Federal Tier 3 Bin 160        0.0        6.0   \n",
       "2    1.0      -1.0   T3B160  Federal Tier 3 Bin 160        0.0        6.0   \n",
       "3    3.0      -1.0   T3B125  Federal Tier 3 Bin 125        0.0        4.0   \n",
       "4    3.0      -1.0   T3B125  Federal Tier 3 Bin 125        0.0        4.0   \n",
       "\n",
       "   displ             drive  engId           eng_dscr  ...  tCharger sCharger  \\\n",
       "0    3.0     4-Wheel Drive    774  SIDI; Mild Hybrid  ...       NaN      NaN   \n",
       "1    3.5  Rear-Wheel Drive     65    SIDI & PFI; FFV  ...       NaN      NaN   \n",
       "2    3.5   All-Wheel Drive     64    SIDI & PFI; FFV  ...       NaN      NaN   \n",
       "3    2.0   All-Wheel Drive    245               SIDI  ...         T      NaN   \n",
       "4    2.0   All-Wheel Drive    210               SIDI  ...         T      NaN   \n",
       "\n",
       "   atvType  startStop    Barrels  City   Co2  comb Highway Charger  \n",
       "0   Hybrid          Y  13.523182    19   407    22      26     0 0  \n",
       "1      FFV          N  22.823088    26  1046    29      34     0 0  \n",
       "2      FFV          N  23.916875    25  1089    28      32     0 0  \n",
       "3      NaN          Y  13.523182    19   408    22      25     T 0  \n",
       "4      NaN          Y  12.935217    20   391    23      28     T 0  \n",
       "\n",
       "[5 rows x 36 columns]"
      ]
     },
     "execution_count": 53,
     "metadata": {},
     "output_type": "execute_result"
    }
   ],
   "source": [
    "df.head()"
   ]
  },
  {
   "cell_type": "code",
   "execution_count": 54,
   "id": "d0aa75f7",
   "metadata": {},
   "outputs": [],
   "source": [
    "# Removed the columns summed \n",
    "\n",
    "df = df.drop([\"tCharger\", \"sCharger\"], axis = 1)"
   ]
  },
  {
   "cell_type": "code",
   "execution_count": 55,
   "id": "2ae72510",
   "metadata": {},
   "outputs": [],
   "source": [
    "# Rewrite the string in a better format \n",
    "\n",
    "df[\"Charger\"] = df[\"Charger\"].apply({'0 0':0, 'T 0': \"T\",'0 S': \"S\",'T S': \"TS\"  }.get)"
   ]
  },
  {
   "cell_type": "code",
   "execution_count": 56,
   "id": "ed627bf2",
   "metadata": {},
   "outputs": [
    {
     "data": {
      "text/plain": [
       "0     14351\n",
       "T      6842\n",
       "S       674\n",
       "TS       83\n",
       "Name: Charger, dtype: int64"
      ]
     },
     "execution_count": 56,
     "metadata": {},
     "output_type": "execute_result"
    }
   ],
   "source": [
    "df['Charger'].value_counts() "
   ]
  },
  {
   "cell_type": "code",
   "execution_count": 57,
   "id": "9d81d163",
   "metadata": {},
   "outputs": [],
   "source": [
    "#eliminate the rows where ghgScore is -1 = not available \n",
    "df.drop(df[df['ghgScore'] == -1].index, inplace = True)"
   ]
  },
  {
   "cell_type": "code",
   "execution_count": 58,
   "id": "ca155247",
   "metadata": {},
   "outputs": [
    {
     "data": {
      "text/plain": [
       "(12506, 34)"
      ]
     },
     "execution_count": 58,
     "metadata": {},
     "output_type": "execute_result"
    }
   ],
   "source": [
    "df.shape"
   ]
  },
  {
   "cell_type": "code",
   "execution_count": 59,
   "id": "ed290720",
   "metadata": {},
   "outputs": [],
   "source": [
    "#eliminate the rows where ghgScoreA is 0 = not available \n",
    "df.drop(df[df['ghgScoreA'] == 0].index, inplace = True)"
   ]
  },
  {
   "cell_type": "code",
   "execution_count": 60,
   "id": "77901577",
   "metadata": {},
   "outputs": [
    {
     "data": {
      "text/plain": [
       "-1    11815\n",
       " 4      174\n",
       " 3      150\n",
       " 5      144\n",
       " 6       90\n",
       " 2       72\n",
       " 1       20\n",
       " 7       16\n",
       " 8       13\n",
       "Name: ghgScoreA, dtype: int64"
      ]
     },
     "execution_count": 60,
     "metadata": {},
     "output_type": "execute_result"
    }
   ],
   "source": [
    "df['ghgScoreA'].value_counts() "
   ]
  },
  {
   "cell_type": "code",
   "execution_count": 61,
   "id": "4be8c887",
   "metadata": {},
   "outputs": [],
   "source": [
    "#for FuelType1 only keep the ghgScore rating\n",
    "#for FuelType2 compute the rating as the mean between ghgScore and ghgScoreA\n",
    "ghgScoreonly = df[df['ghgScoreA'] == -1].index\n",
    "ghgScoremean = df[df['ghgScoreA'] != -1].index "
   ]
  },
  {
   "cell_type": "code",
   "execution_count": 62,
   "id": "44456037",
   "metadata": {},
   "outputs": [],
   "source": [
    "df.loc[ghgScoreonly, 'ghgScoreavg'] = df.loc[ghgScoreonly,'ghgScore']\n",
    "df.loc[ghgScoremean, 'ghgScoreavg'] = df.loc[ghgScoremean,['ghgScore', 'ghgScoreA']].mean(axis=1)"
   ]
  },
  {
   "cell_type": "code",
   "execution_count": 63,
   "id": "c63ff75b",
   "metadata": {},
   "outputs": [
    {
     "data": {
      "text/html": [
       "<div>\n",
       "<style scoped>\n",
       "    .dataframe tbody tr th:only-of-type {\n",
       "        vertical-align: middle;\n",
       "    }\n",
       "\n",
       "    .dataframe tbody tr th {\n",
       "        vertical-align: top;\n",
       "    }\n",
       "\n",
       "    .dataframe thead th {\n",
       "        text-align: right;\n",
       "    }\n",
       "</style>\n",
       "<table border=\"1\" class=\"dataframe\">\n",
       "  <thead>\n",
       "    <tr style=\"text-align: right;\">\n",
       "      <th></th>\n",
       "      <th>ghgScoreavg</th>\n",
       "      <th>ghgScore</th>\n",
       "      <th>ghgScoreA</th>\n",
       "    </tr>\n",
       "  </thead>\n",
       "  <tbody>\n",
       "    <tr>\n",
       "      <th>1</th>\n",
       "      <td>3.0</td>\n",
       "      <td>3</td>\n",
       "      <td>3</td>\n",
       "    </tr>\n",
       "    <tr>\n",
       "      <th>2</th>\n",
       "      <td>3.0</td>\n",
       "      <td>3</td>\n",
       "      <td>3</td>\n",
       "    </tr>\n",
       "    <tr>\n",
       "      <th>183</th>\n",
       "      <td>3.5</td>\n",
       "      <td>3</td>\n",
       "      <td>4</td>\n",
       "    </tr>\n",
       "    <tr>\n",
       "      <th>192</th>\n",
       "      <td>4.0</td>\n",
       "      <td>4</td>\n",
       "      <td>4</td>\n",
       "    </tr>\n",
       "    <tr>\n",
       "      <th>194</th>\n",
       "      <td>4.5</td>\n",
       "      <td>4</td>\n",
       "      <td>5</td>\n",
       "    </tr>\n",
       "    <tr>\n",
       "      <th>...</th>\n",
       "      <td>...</td>\n",
       "      <td>...</td>\n",
       "      <td>...</td>\n",
       "    </tr>\n",
       "    <tr>\n",
       "      <th>12420</th>\n",
       "      <td>2.0</td>\n",
       "      <td>2</td>\n",
       "      <td>2</td>\n",
       "    </tr>\n",
       "    <tr>\n",
       "      <th>12507</th>\n",
       "      <td>5.0</td>\n",
       "      <td>5</td>\n",
       "      <td>5</td>\n",
       "    </tr>\n",
       "    <tr>\n",
       "      <th>12510</th>\n",
       "      <td>5.5</td>\n",
       "      <td>6</td>\n",
       "      <td>5</td>\n",
       "    </tr>\n",
       "    <tr>\n",
       "      <th>12527</th>\n",
       "      <td>4.0</td>\n",
       "      <td>4</td>\n",
       "      <td>4</td>\n",
       "    </tr>\n",
       "    <tr>\n",
       "      <th>12535</th>\n",
       "      <td>5.0</td>\n",
       "      <td>5</td>\n",
       "      <td>5</td>\n",
       "    </tr>\n",
       "  </tbody>\n",
       "</table>\n",
       "<p>679 rows × 3 columns</p>\n",
       "</div>"
      ],
      "text/plain": [
       "       ghgScoreavg  ghgScore  ghgScoreA\n",
       "1              3.0         3          3\n",
       "2              3.0         3          3\n",
       "183            3.5         3          4\n",
       "192            4.0         4          4\n",
       "194            4.5         4          5\n",
       "...            ...       ...        ...\n",
       "12420          2.0         2          2\n",
       "12507          5.0         5          5\n",
       "12510          5.5         6          5\n",
       "12527          4.0         4          4\n",
       "12535          5.0         5          5\n",
       "\n",
       "[679 rows x 3 columns]"
      ]
     },
     "execution_count": 63,
     "metadata": {},
     "output_type": "execute_result"
    }
   ],
   "source": [
    "df.loc[ghgScoremean,['ghgScoreavg','ghgScore','ghgScoreA']]"
   ]
  },
  {
   "cell_type": "code",
   "execution_count": 64,
   "id": "238b1e4c",
   "metadata": {},
   "outputs": [],
   "source": [
    "df = df.drop([\"ghgScore\", \"ghgScoreA\"], axis = 1)"
   ]
  },
  {
   "cell_type": "code",
   "execution_count": 65,
   "id": "4943fbec",
   "metadata": {
    "scrolled": true
   },
   "outputs": [
    {
     "data": {
      "text/html": [
       "<div>\n",
       "<style scoped>\n",
       "    .dataframe tbody tr th:only-of-type {\n",
       "        vertical-align: middle;\n",
       "    }\n",
       "\n",
       "    .dataframe tbody tr th {\n",
       "        vertical-align: top;\n",
       "    }\n",
       "\n",
       "    .dataframe thead th {\n",
       "        text-align: right;\n",
       "    }\n",
       "</style>\n",
       "<table border=\"1\" class=\"dataframe\">\n",
       "  <thead>\n",
       "    <tr style=\"text-align: right;\">\n",
       "      <th></th>\n",
       "      <th>score</th>\n",
       "      <th>scoreAlt</th>\n",
       "      <th>standard</th>\n",
       "      <th>stdText</th>\n",
       "      <th>charge240</th>\n",
       "      <th>cylinders</th>\n",
       "      <th>displ</th>\n",
       "      <th>drive</th>\n",
       "      <th>engId</th>\n",
       "      <th>eng_dscr</th>\n",
       "      <th>...</th>\n",
       "      <th>trans_dscr</th>\n",
       "      <th>atvType</th>\n",
       "      <th>startStop</th>\n",
       "      <th>Barrels</th>\n",
       "      <th>City</th>\n",
       "      <th>Co2</th>\n",
       "      <th>comb</th>\n",
       "      <th>Highway</th>\n",
       "      <th>Charger</th>\n",
       "      <th>ghgScoreavg</th>\n",
       "    </tr>\n",
       "  </thead>\n",
       "  <tbody>\n",
       "    <tr>\n",
       "      <th>0</th>\n",
       "      <td>7.0</td>\n",
       "      <td>-1.0</td>\n",
       "      <td>T3B30</td>\n",
       "      <td>Federal Tier 3 Bin 30</td>\n",
       "      <td>0.0</td>\n",
       "      <td>6.0</td>\n",
       "      <td>3.0</td>\n",
       "      <td>4-Wheel Drive</td>\n",
       "      <td>774</td>\n",
       "      <td>SIDI; Mild Hybrid</td>\n",
       "      <td>...</td>\n",
       "      <td>NaN</td>\n",
       "      <td>Hybrid</td>\n",
       "      <td>Y</td>\n",
       "      <td>13.523182</td>\n",
       "      <td>19</td>\n",
       "      <td>407</td>\n",
       "      <td>22</td>\n",
       "      <td>26</td>\n",
       "      <td>0</td>\n",
       "      <td>5.0</td>\n",
       "    </tr>\n",
       "    <tr>\n",
       "      <th>1</th>\n",
       "      <td>1.0</td>\n",
       "      <td>-1.0</td>\n",
       "      <td>T3B160</td>\n",
       "      <td>Federal Tier 3 Bin 160</td>\n",
       "      <td>0.0</td>\n",
       "      <td>6.0</td>\n",
       "      <td>3.5</td>\n",
       "      <td>Rear-Wheel Drive</td>\n",
       "      <td>65</td>\n",
       "      <td>SIDI &amp; PFI; FFV</td>\n",
       "      <td>...</td>\n",
       "      <td>NaN</td>\n",
       "      <td>FFV</td>\n",
       "      <td>N</td>\n",
       "      <td>22.823088</td>\n",
       "      <td>26</td>\n",
       "      <td>1046</td>\n",
       "      <td>29</td>\n",
       "      <td>34</td>\n",
       "      <td>0</td>\n",
       "      <td>3.0</td>\n",
       "    </tr>\n",
       "    <tr>\n",
       "      <th>2</th>\n",
       "      <td>1.0</td>\n",
       "      <td>-1.0</td>\n",
       "      <td>T3B160</td>\n",
       "      <td>Federal Tier 3 Bin 160</td>\n",
       "      <td>0.0</td>\n",
       "      <td>6.0</td>\n",
       "      <td>3.5</td>\n",
       "      <td>All-Wheel Drive</td>\n",
       "      <td>64</td>\n",
       "      <td>SIDI &amp; PFI; FFV</td>\n",
       "      <td>...</td>\n",
       "      <td>NaN</td>\n",
       "      <td>FFV</td>\n",
       "      <td>N</td>\n",
       "      <td>23.916875</td>\n",
       "      <td>25</td>\n",
       "      <td>1089</td>\n",
       "      <td>28</td>\n",
       "      <td>32</td>\n",
       "      <td>0</td>\n",
       "      <td>3.0</td>\n",
       "    </tr>\n",
       "    <tr>\n",
       "      <th>3</th>\n",
       "      <td>3.0</td>\n",
       "      <td>-1.0</td>\n",
       "      <td>T3B125</td>\n",
       "      <td>Federal Tier 3 Bin 125</td>\n",
       "      <td>0.0</td>\n",
       "      <td>4.0</td>\n",
       "      <td>2.0</td>\n",
       "      <td>All-Wheel Drive</td>\n",
       "      <td>245</td>\n",
       "      <td>SIDI</td>\n",
       "      <td>...</td>\n",
       "      <td>NaN</td>\n",
       "      <td>NaN</td>\n",
       "      <td>Y</td>\n",
       "      <td>13.523182</td>\n",
       "      <td>19</td>\n",
       "      <td>408</td>\n",
       "      <td>22</td>\n",
       "      <td>25</td>\n",
       "      <td>T</td>\n",
       "      <td>5.0</td>\n",
       "    </tr>\n",
       "    <tr>\n",
       "      <th>4</th>\n",
       "      <td>3.0</td>\n",
       "      <td>-1.0</td>\n",
       "      <td>T3B125</td>\n",
       "      <td>Federal Tier 3 Bin 125</td>\n",
       "      <td>0.0</td>\n",
       "      <td>4.0</td>\n",
       "      <td>2.0</td>\n",
       "      <td>All-Wheel Drive</td>\n",
       "      <td>210</td>\n",
       "      <td>SIDI</td>\n",
       "      <td>...</td>\n",
       "      <td>NaN</td>\n",
       "      <td>NaN</td>\n",
       "      <td>Y</td>\n",
       "      <td>12.935217</td>\n",
       "      <td>20</td>\n",
       "      <td>391</td>\n",
       "      <td>23</td>\n",
       "      <td>28</td>\n",
       "      <td>T</td>\n",
       "      <td>5.0</td>\n",
       "    </tr>\n",
       "  </tbody>\n",
       "</table>\n",
       "<p>5 rows × 33 columns</p>\n",
       "</div>"
      ],
      "text/plain": [
       "   score  scoreAlt standard                 stdText  charge240  cylinders  \\\n",
       "0    7.0      -1.0    T3B30   Federal Tier 3 Bin 30        0.0        6.0   \n",
       "1    1.0      -1.0   T3B160  Federal Tier 3 Bin 160        0.0        6.0   \n",
       "2    1.0      -1.0   T3B160  Federal Tier 3 Bin 160        0.0        6.0   \n",
       "3    3.0      -1.0   T3B125  Federal Tier 3 Bin 125        0.0        4.0   \n",
       "4    3.0      -1.0   T3B125  Federal Tier 3 Bin 125        0.0        4.0   \n",
       "\n",
       "   displ             drive  engId           eng_dscr  ...  trans_dscr atvType  \\\n",
       "0    3.0     4-Wheel Drive    774  SIDI; Mild Hybrid  ...         NaN  Hybrid   \n",
       "1    3.5  Rear-Wheel Drive     65    SIDI & PFI; FFV  ...         NaN     FFV   \n",
       "2    3.5   All-Wheel Drive     64    SIDI & PFI; FFV  ...         NaN     FFV   \n",
       "3    2.0   All-Wheel Drive    245               SIDI  ...         NaN     NaN   \n",
       "4    2.0   All-Wheel Drive    210               SIDI  ...         NaN     NaN   \n",
       "\n",
       "   startStop    Barrels  City   Co2 comb Highway  Charger  ghgScoreavg  \n",
       "0          Y  13.523182    19   407   22      26        0          5.0  \n",
       "1          N  22.823088    26  1046   29      34        0          3.0  \n",
       "2          N  23.916875    25  1089   28      32        0          3.0  \n",
       "3          Y  13.523182    19   408   22      25        T          5.0  \n",
       "4          Y  12.935217    20   391   23      28        T          5.0  \n",
       "\n",
       "[5 rows x 33 columns]"
      ]
     },
     "execution_count": 65,
     "metadata": {},
     "output_type": "execute_result"
    }
   ],
   "source": [
    "df.head()"
   ]
  },
  {
   "cell_type": "markdown",
   "id": "78c8bdd7",
   "metadata": {},
   "source": [
    "# Save preprocessing data"
   ]
  },
  {
   "cell_type": "code",
   "execution_count": 103,
   "id": "0e3a533a",
   "metadata": {},
   "outputs": [],
   "source": [
    "path_to_tmp = os.path.join(path_to_repo, \"Project\", \"Vheicle_final_data\")"
   ]
  },
  {
   "cell_type": "code",
   "execution_count": 104,
   "id": "d7008938",
   "metadata": {},
   "outputs": [
    {
     "data": {
      "text/plain": [
       "'/Users/filippoceccarani/Desktop/EMLyon-ML-course-2022-T1/Project/Vheicle_final_data'"
      ]
     },
     "execution_count": 104,
     "metadata": {},
     "output_type": "execute_result"
    }
   ],
   "source": [
    "path_to_tmp"
   ]
  },
  {
   "cell_type": "code",
   "execution_count": 105,
   "id": "de7283f1",
   "metadata": {},
   "outputs": [],
   "source": [
    "os.makedirs(path_to_tmp, exist_ok = True)"
   ]
  },
  {
   "cell_type": "code",
   "execution_count": 106,
   "id": "62313112",
   "metadata": {},
   "outputs": [],
   "source": [
    "path_to_Vheicle_final_data = os.path.join(path_to_tmp, 'Vheicle_final_data')"
   ]
  },
  {
   "cell_type": "code",
   "execution_count": 107,
   "id": "955fa407",
   "metadata": {},
   "outputs": [],
   "source": [
    "df.to_csv(path_to_Vheicle_final_data + '.csv', index = False)"
   ]
  },
  {
   "cell_type": "markdown",
   "id": "1f171cea",
   "metadata": {},
   "source": [
    "# Data Visualization\n",
    "\n",
    "SEABORN: \n",
    "replot, scatterplot <br>\n",
    "\n",
    "boxplot <br>\n",
    "countplot <br>\n",
    "\n",
    "https://seaborn.pydata.org/tutorial/function_overview.html "
   ]
  },
  {
   "cell_type": "code",
   "execution_count": 66,
   "id": "6cc2b294",
   "metadata": {},
   "outputs": [
    {
     "data": {
      "text/plain": [
       "Index(['score', 'scoreAlt', 'standard', 'stdText', 'charge240', 'cylinders',\n",
       "       'displ', 'drive', 'engId', 'eng_dscr', 'feScore', 'fuelType', 'hlv',\n",
       "       'hpv', 'lv2', 'lv4', 'make', 'model', 'pv2', 'pv4', 'trany', 'VClass',\n",
       "       'year', 'trans_dscr', 'atvType', 'startStop', 'Barrels', 'City', 'Co2',\n",
       "       'comb', 'Highway', 'Charger', 'ghgScoreavg'],\n",
       "      dtype='object')"
      ]
     },
     "execution_count": 66,
     "metadata": {},
     "output_type": "execute_result"
    }
   ],
   "source": [
    "df.columns"
   ]
  },
  {
   "cell_type": "code",
   "execution_count": 96,
   "id": "2cc34364",
   "metadata": {},
   "outputs": [
    {
     "data": {
      "text/plain": [
       "Text(0.5, 1.0, 'Co2 emission per greenhouse gas rating score')"
      ]
     },
     "execution_count": 96,
     "metadata": {},
     "output_type": "execute_result"
    },
    {
     "data": {
      "image/png": "[encoded data removed]",
      "text/plain": [
       "<Figure size 432x288 with 1 Axes>"
      ]
     },
     "metadata": {
      "needs_background": "light"
     },
     "output_type": "display_data"
    }
   ],
   "source": [
    "sns.lineplot(data=df, x=\"Co2\", y=\"ghgScoreavg\")\n",
    "\n",
    "plt.title('Co2 emission per greenhouse gas rating score')\n"
   ]
  },
  {
   "cell_type": "code",
   "execution_count": 97,
   "id": "6fb0e549",
   "metadata": {},
   "outputs": [
    {
     "data": {
      "text/plain": [
       "Text(0.5, 1.0, 'Co2 emission per cylinders')"
      ]
     },
     "execution_count": 97,
     "metadata": {},
     "output_type": "execute_result"
    },
    {
     "data": {
      "text/plain": [
       "<Figure size 2160x2160 with 0 Axes>"
      ]
     },
     "metadata": {},
     "output_type": "display_data"
    },
    {
     "data": {
      "image/png": "[encoded data removed]",
      "text/plain": [
       "<Figure size 515.625x360 with 1 Axes>"
      ]
     },
     "metadata": {
      "needs_background": "light"
     },
     "output_type": "display_data"
    }
   ],
   "source": [
    "#from this graph we can see that as the number of cylinder increases the co2 emissions are also increasing \n",
    "#the type of drive is also influencing thsns.lineplot(data=flights, x=\"year\", y=\"passengers\", hue=\"month\")e emissions \n",
    "plt.figure(figsize=(30,30))\n",
    "sns.relplot(data=df, x=\"Co2\", y=\"cylinders\", hue='drive')\n",
    "\n",
    "plt.title('Co2 emission per cylinders')"
   ]
  },
  {
   "cell_type": "code",
   "execution_count": 69,
   "id": "fc6f13a3",
   "metadata": {},
   "outputs": [
    {
     "name": "stderr",
     "output_type": "stream",
     "text": [
      "/var/folders/x7/tm9d29mx1lv2zl6slvnz5xvw0000gn/T/ipykernel_17497/2902534495.py:3: DeprecationWarning: `np.bool` is a deprecated alias for the builtin `bool`. To silence this warning, use `bool` by itself. Doing this will not modify any behavior and is safe. If you specifically wanted the numpy scalar type, use `np.bool_` here.\n",
      "Deprecated in NumPy 1.20; for more details and guidance: https://numpy.org/devdocs/release/1.20.0-notes.html#deprecations\n",
      "  sns.heatmap(corr, mask=np.zeros_like(corr, dtype=np.bool),\n"
     ]
    },
    {
     "data": {
      "image/png": "[encoded data removed]",
      "text/plain": [
       "<Figure size 720x720 with 2 Axes>"
      ]
     },
     "metadata": {
      "needs_background": "light"
     },
     "output_type": "display_data"
    }
   ],
   "source": [
    "plt.figure(figsize=(10,10))\n",
    "corr = df.corr()\n",
    "sns.heatmap(corr, mask=np.zeros_like(corr, dtype=np.bool), \n",
    "            cmap=sns.diverging_palette(220, 10, as_cmap=True), square=True)\n",
    "plt.show()"
   ]
  },
  {
   "cell_type": "code",
   "execution_count": 98,
   "id": "5a16f883",
   "metadata": {},
   "outputs": [
    {
     "data": {
      "image/png": "[encoded data removed]",
      "text/plain": [
       "<Figure size 1440x720 with 1 Axes>"
      ]
     },
     "metadata": {
      "needs_background": "light"
     },
     "output_type": "display_data"
    }
   ],
   "source": [
    "plt.figure(figsize=(20,10))\n",
    "sns.countplot(data = df_raw, x = \"VClass\")\n",
    "plt.xticks(rotation=90)\n",
    "plt.title('Amount of vehicles per class')\n",
    "plt.show()"
   ]
  },
  {
   "cell_type": "code",
   "execution_count": 71,
   "id": "f4b3bb6e",
   "metadata": {},
   "outputs": [],
   "source": [
    "Score_1_df = df.loc[df[\"ghgScoreavg\"] == 1]"
   ]
  },
  {
   "cell_type": "code",
   "execution_count": 72,
   "id": "6e02cf45",
   "metadata": {},
   "outputs": [
    {
     "data": {
      "text/plain": [
       "Index(['score', 'scoreAlt', 'standard', 'stdText', 'charge240', 'cylinders',\n",
       "       'displ', 'drive', 'engId', 'eng_dscr', 'feScore', 'fuelType', 'hlv',\n",
       "       'hpv', 'lv2', 'lv4', 'make', 'model', 'pv2', 'pv4', 'trany', 'VClass',\n",
       "       'year', 'trans_dscr', 'atvType', 'startStop', 'Barrels', 'City', 'Co2',\n",
       "       'comb', 'Highway', 'Charger', 'ghgScoreavg'],\n",
       "      dtype='object')"
      ]
     },
     "execution_count": 72,
     "metadata": {},
     "output_type": "execute_result"
    }
   ],
   "source": [
    "df.columns"
   ]
  },
  {
   "cell_type": "code",
   "execution_count": 74,
   "id": "7d0fa65a",
   "metadata": {},
   "outputs": [],
   "source": [
    "Score_10_df = df.loc[df[\"ghgScoreavg\"] == 10]"
   ]
  },
  {
   "cell_type": "code",
   "execution_count": 99,
   "id": "5cedb2ce",
   "metadata": {},
   "outputs": [
    {
     "data": {
      "text/plain": [
       "Text(0.5, 1.0, 'Amount of vehicles per cylinders in GHG SCORE 1')"
      ]
     },
     "execution_count": 99,
     "metadata": {},
     "output_type": "execute_result"
    },
    {
     "data": {
      "image/png": "[encoded data removed]",
      "text/plain": [
       "<Figure size 432x288 with 1 Axes>"
      ]
     },
     "metadata": {
      "needs_background": "light"
     },
     "output_type": "display_data"
    }
   ],
   "source": [
    "# Most of the veichle with a score of 10 have 8.0 cylinders or 12.0 cylinders \n",
    "sns.countplot(x = \"cylinders\", data = Score_1_df )\n",
    "\n",
    "plt.title('Amount of vehicles per cylinders in GHG SCORE 1')"
   ]
  },
  {
   "cell_type": "code",
   "execution_count": 100,
   "id": "bf18eb83",
   "metadata": {
    "scrolled": true
   },
   "outputs": [
    {
     "data": {
      "text/plain": [
       "Text(0.5, 1.0, 'Amount of vehicles per cylinders in GHG SCORE 10')"
      ]
     },
     "execution_count": 100,
     "metadata": {},
     "output_type": "execute_result"
    },
    {
     "data": {
      "image/png": "[encoded data removed]",
      "text/plain": [
       "<Figure size 432x288 with 1 Axes>"
      ]
     },
     "metadata": {
      "needs_background": "light"
     },
     "output_type": "display_data"
    }
   ],
   "source": [
    "# Most of the veichle with a score of 10 has 4.0 cylinders \n",
    "sns.countplot(x = \"cylinders\", data = Score_10_df )\n",
    "\n",
    "plt.title('Amount of vehicles per cylinders in GHG SCORE 10')"
   ]
  },
  {
   "cell_type": "code",
   "execution_count": 81,
   "id": "1b0d14fb",
   "metadata": {
    "scrolled": true
   },
   "outputs": [
    {
     "data": {
      "image/png": "[encoded data removed]",
      "text/plain": [
       "<Figure size 1080x1080 with 20 Axes>"
      ]
     },
     "metadata": {
      "needs_background": "light"
     },
     "output_type": "display_data"
    }
   ],
   "source": [
    "df.hist(figsize=(15,15))\n",
    "plt.show()"
   ]
  },
  {
   "cell_type": "code",
   "execution_count": 76,
   "id": "ffbeb280",
   "metadata": {},
   "outputs": [
    {
     "data": {
      "image/png": "[encoded data removed]",
      "text/plain": [
       "<Figure size 432x288 with 2 Axes>"
      ]
     },
     "metadata": {
      "needs_background": "light"
     },
     "output_type": "display_data"
    }
   ],
   "source": [
    "# The veichle with score 10 have a range between 2.0 and 6.0 cylindric  \n",
    "Score_10_df.plot.scatter(x=\"Barrels\", y=\"Co2\", c = \"cylinders\", cmap=\"viridis\", s=50);"
   ]
  },
  {
   "cell_type": "code",
   "execution_count": 77,
   "id": "f6cf54ed",
   "metadata": {},
   "outputs": [
    {
     "data": {
      "text/plain": [
       "<AxesSubplot:xlabel='Barrels', ylabel='Co2'>"
      ]
     },
     "execution_count": 77,
     "metadata": {},
     "output_type": "execute_result"
    },
    {
     "data": {
      "image/png": "[encoded data removed]",
      "text/plain": [
       "<Figure size 432x288 with 2 Axes>"
      ]
     },
     "metadata": {
      "needs_background": "light"
     },
     "output_type": "display_data"
    }
   ],
   "source": [
    "Score_1_df.plot.scatter(x=\"Barrels\", y=\"Co2\", c = \"cylinders\", cmap=\"viridis\", s=50)\n",
    "\n"
   ]
  },
  {
   "cell_type": "code",
   "execution_count": 95,
   "id": "16006450",
   "metadata": {},
   "outputs": [
    {
     "data": {
      "text/plain": [
       "Text(0, 0.5, 'Annual petroleum consuption')"
      ]
     },
     "execution_count": 95,
     "metadata": {},
     "output_type": "execute_result"
    },
    {
     "data": {
      "image/png": "[encoded data removed]",
      "text/plain": [
       "<Figure size 432x288 with 1 Axes>"
      ]
     },
     "metadata": {
      "needs_background": "light"
     },
     "output_type": "display_data"
    }
   ],
   "source": [
    "import matplotlib.pyplot as plt\n",
    "plt.scatter(df.Co2, df.Barrels, c=df.ghgScoreavg, alpha = 0.6)\n",
    "\n",
    "plt.title('Annual petroleum consuption per C02')\n",
    "plt.xlabel('Co2')\n",
    "plt.ylabel('Annual petroleum consuption')"
   ]
  },
  {
   "cell_type": "code",
   "execution_count": 94,
   "id": "588b88aa",
   "metadata": {
    "scrolled": true
   },
   "outputs": [
    {
     "data": {
      "text/plain": [
       "Text(0, 0.5, 'City gasoline consuption')"
      ]
     },
     "execution_count": 94,
     "metadata": {},
     "output_type": "execute_result"
    },
    {
     "data": {
      "image/png": "[encoded data removed]",
      "text/plain": [
       "<Figure size 432x288 with 1 Axes>"
      ]
     },
     "metadata": {
      "needs_background": "light"
     },
     "output_type": "display_data"
    }
   ],
   "source": [
    "\n",
    "plt.scatter(df.Co2, df.City, c=df.ghgScoreavg, alpha = 0.6,)\n",
    "\n",
    "plt.title('City gasoline consuption per C02')\n",
    "plt.xlabel('Co2')\n",
    "plt.ylabel('City gasoline consuption')"
   ]
  },
  {
   "cell_type": "code",
   "execution_count": 93,
   "id": "15eb0cc2",
   "metadata": {
    "scrolled": true
   },
   "outputs": [
    {
     "data": {
      "text/plain": [
       "Text(0, 0.5, 'Highway gasoline consuption')"
      ]
     },
     "execution_count": 93,
     "metadata": {},
     "output_type": "execute_result"
    },
    {
     "data": {
      "image/png": "[encoded data removed]",
      "text/plain": [
       "<Figure size 432x288 with 1 Axes>"
      ]
     },
     "metadata": {
      "needs_background": "light"
     },
     "output_type": "display_data"
    }
   ],
   "source": [
    "plt.scatter(df.Co2, df.Highway, c=df.ghgScoreavg, alpha = 0.6)\n",
    "\n",
    "plt.title('Highway gasoline consuption per C02')\n",
    "plt.xlabel('Co2')\n",
    "plt.ylabel('Highway gasoline consuption')"
   ]
  },
  {
   "cell_type": "code",
   "execution_count": 118,
   "id": "71f9f0ff",
   "metadata": {},
   "outputs": [
    {
     "data": {
      "text/plain": [
       "BMW                      1025\n",
       "Ford                      896\n",
       "Chevrolet                 862\n",
       "Mercedes-Benz             800\n",
       "Porsche                   664\n",
       "Toyota                    598\n",
       "GMC                       494\n",
       "Audi                      448\n",
       "Nissan                    437\n",
       "Hyundai                   419\n",
       "Kia                       396\n",
       "Honda                     353\n",
       "Jeep                      350\n",
       "MINI                      347\n",
       "Lexus                     331\n",
       "Volkswagen                330\n",
       "Cadillac                  282\n",
       "Dodge                     274\n",
       "Jaguar                    261\n",
       "Mazda                     232\n",
       "Infiniti                  230\n",
       "Subaru                    224\n",
       "Volvo                     214\n",
       "Lincoln                   201\n",
       "Land Rover                171\n",
       "Mitsubishi                159\n",
       "Buick                     153\n",
       "Acura                     145\n",
       "Ram                       124\n",
       "Tesla                     119\n",
       "Ferrari                   104\n",
       "Chrysler                   97\n",
       "Maserati                   88\n",
       "Genesis                    80\n",
       "Bentley                    76\n",
       "Rolls-Royce                74\n",
       "Fiat                       71\n",
       "Lamborghini                70\n",
       "Aston Martin               61\n",
       "Alfa Romeo                 38\n",
       "Scion                      34\n",
       "McLaren Automotive         29\n",
       "Roush Performance          28\n",
       "smart                      25\n",
       "Lotus                      18\n",
       "Suzuki                     16\n",
       "Bugatti                    12\n",
       "Lucid                       6\n",
       "Polestar                    5\n",
       "BYD                         5\n",
       "Karma                       4\n",
       "Pagani                      3\n",
       "Mobility Ventures LLC       2\n",
       "SRT                         2\n",
       "Rivian                      2\n",
       "RUF Automobile              2\n",
       "Kandi                       1\n",
       "VPG                         1\n",
       "CODA Automotive             1\n",
       "Name: make, dtype: int64"
      ]
     },
     "execution_count": 118,
     "metadata": {},
     "output_type": "execute_result"
    }
   ],
   "source": [
    "df[\"make\"].value_counts()"
   ]
  },
  {
   "cell_type": "markdown",
   "id": "c01cf87a",
   "metadata": {},
   "source": [
    "### Transform the categorical features into Numerical\n",
    "\n",
    "We are going to transform the categorical features (object) into numericalwith the function 'proc_df'.\n",
    "It takes a data frame df and splits off the response variable, and changes the df into an entirely numeric dataframe. \n",
    "\n",
    "df: The data frame you wish to process\n",
    "y: The name of the response variable\n",
    "nas: returns a dictionary of which nas it created, and the associated median."
   ]
  },
  {
   "cell_type": "code",
   "execution_count": null,
   "id": "8c1c11da",
   "metadata": {},
   "outputs": [],
   "source": [
    "df.dtypes"
   ]
  },
  {
   "cell_type": "code",
   "execution_count": null,
   "id": "9d873716",
   "metadata": {},
   "outputs": [],
   "source": [
    "df_backup = copy.deepcopy(df)"
   ]
  },
  {
   "cell_type": "code",
   "execution_count": null,
   "id": "3588a824",
   "metadata": {},
   "outputs": [],
   "source": [
    "train_cats(df)"
   ]
  },
  {
   "cell_type": "code",
   "execution_count": null,
   "id": "2d752b9c",
   "metadata": {},
   "outputs": [],
   "source": [
    "df.fuelType.cat.categories.tolist()"
   ]
  },
  {
   "cell_type": "code",
   "execution_count": null,
   "id": "fbfb494d",
   "metadata": {},
   "outputs": [],
   "source": [
    "df.fuelType.cat.categories"
   ]
  },
  {
   "cell_type": "code",
   "execution_count": null,
   "id": "959e80f6",
   "metadata": {},
   "outputs": [],
   "source": [
    "df.fuelType.cat.codes"
   ]
  },
  {
   "cell_type": "code",
   "execution_count": null,
   "id": "43169882",
   "metadata": {},
   "outputs": [],
   "source": [
    "#those will be the classes we are going to predict in the classification model \n",
    "\n",
    "df['ghgScoreavg'].value_counts()"
   ]
  },
  {
   "cell_type": "code",
   "execution_count": null,
   "id": "0b77c709",
   "metadata": {},
   "outputs": [],
   "source": [
    "df, y, nas = proc_df(df, y_fld='ghgScoreavg')"
   ]
  },
  {
   "cell_type": "code",
   "execution_count": null,
   "id": "2be04491",
   "metadata": {
    "scrolled": true
   },
   "outputs": [],
   "source": [
    "df"
   ]
  },
  {
   "cell_type": "code",
   "execution_count": null,
   "id": "07e6ca9b",
   "metadata": {},
   "outputs": [],
   "source": [
    "df.dtypes"
   ]
  },
  {
   "cell_type": "markdown",
   "id": "4cf934ff",
   "metadata": {},
   "source": [
    "In order to apply a classification model we need to transform the ghgScore variable from float into integer. "
   ]
  },
  {
   "cell_type": "code",
   "execution_count": null,
   "id": "f8d71dc2",
   "metadata": {},
   "outputs": [],
   "source": [
    "y = [int(val) for val in y]\n",
    "y"
   ]
  },
  {
   "cell_type": "code",
   "execution_count": null,
   "id": "b18c39cc",
   "metadata": {},
   "outputs": [],
   "source": [
    "y.count(2.5)"
   ]
  },
  {
   "cell_type": "code",
   "execution_count": null,
   "id": "68176592",
   "metadata": {},
   "outputs": [],
   "source": [
    "#now all the variables are transformed into numerical \n",
    "df.dtypes"
   ]
  },
  {
   "cell_type": "code",
   "execution_count": null,
   "id": "59197380",
   "metadata": {
    "scrolled": true
   },
   "outputs": [],
   "source": [
    "print(df.shape)"
   ]
  },
  {
   "cell_type": "markdown",
   "id": "e5b7ea1c",
   "metadata": {},
   "source": [
    "# Classification "
   ]
  },
  {
   "cell_type": "markdown",
   "id": "fddbbaa3",
   "metadata": {},
   "source": [
    "The variable we want to predict is the ghgScore, which is categorical and have 10 possible outputs, therefore it is a multi-class classification. \n",
    "\n",
    "\n",
    "Popular algorithms that can be used for multi-class classification include:<br>\n",
    "k-Nearest Neighbors <br>\n",
    "Decision Trees.<br>\n",
    "Naive Bayes.<br>\n",
    "Random Forest.<br>\n",
    "Gradient Boosting.\n",
    "\n",
    "We are going to use the random forest classifier. "
   ]
  },
  {
   "cell_type": "code",
   "execution_count": null,
   "id": "c8e9a182",
   "metadata": {
    "scrolled": true
   },
   "outputs": [],
   "source": [
    "x = df\n",
    "y"
   ]
  },
  {
   "cell_type": "markdown",
   "id": "57887d29",
   "metadata": {},
   "source": [
    "We split X and y into train (80%) and test (20%) and then X_train and Y_train into train (80%) and validation (20%)."
   ]
  },
  {
   "cell_type": "code",
   "execution_count": null,
   "id": "a4ffa649",
   "metadata": {},
   "outputs": [],
   "source": [
    "x_train, x_test, y_train, y_test = train_test_split(x, y,\\\n",
    "                                    test_size=0.3, random_state=42)\n",
    "x_test, x_val, y_test, y_val = train_test_split(x_test, y_test,\\\n",
    "                                    test_size=0.2, random_state=42)"
   ]
  },
  {
   "cell_type": "code",
   "execution_count": null,
   "id": "32fd7e4d",
   "metadata": {},
   "outputs": [],
   "source": [
    "x_train.shape, len(y_train), x_test.shape, len(y_test), x_val.shape, len(y_val)"
   ]
  },
  {
   "cell_type": "markdown",
   "id": "0efb62e9",
   "metadata": {},
   "source": [
    "## Decision Tree Classifier"
   ]
  },
  {
   "cell_type": "code",
   "execution_count": null,
   "id": "e5cf7e45",
   "metadata": {},
   "outputs": [],
   "source": [
    "tree_classifier = DecisionTreeClassifier(\n",
    "    class_weight = None, # specific to classifiers\n",
    "    criterion = 'gini',  # specific to classifiers\n",
    "    splitter = 'best', \n",
    "    max_depth = None, \n",
    "    min_samples_split = 2, \n",
    "    min_samples_leaf = 1, \n",
    "    min_weight_fraction_leaf = 0.0, \n",
    "    max_features = None, \n",
    "    max_leaf_nodes = None, \n",
    "    min_impurity_decrease = 0.0, \n",
    "    ccp_alpha = 0.0,\n",
    "    random_state = None, \n",
    ")"
   ]
  },
  {
   "cell_type": "code",
   "execution_count": null,
   "id": "a864f0d2",
   "metadata": {},
   "outputs": [],
   "source": [
    "%time tree_classifier.fit(x_train, y_train)"
   ]
  },
  {
   "cell_type": "code",
   "execution_count": null,
   "id": "013d56ae",
   "metadata": {
    "scrolled": false
   },
   "outputs": [],
   "source": [
    "fig, axes = plt.subplots(nrows = 1, ncols = 1, figsize = (20, 15), dpi = 400)\n",
    "plot_tree(tree_classifier, filled = True)"
   ]
  },
  {
   "cell_type": "markdown",
   "id": "bd60d5f2",
   "metadata": {},
   "source": [
    "Check the accuracy of the decision tree classifier.\n",
    "\n",
    "The accuracy is the percentage of well-predicted classes among an evaluation dataset, although it could be a missleading metric if we have an imblanced dataset.\n"
   ]
  },
  {
   "cell_type": "code",
   "execution_count": null,
   "id": "97ef6339",
   "metadata": {},
   "outputs": [],
   "source": [
    "print(tree_classifier.score(x_train, y_train)) \n",
    "print(tree_classifier.score(x_val, y_val))"
   ]
  },
  {
   "cell_type": "markdown",
   "id": "4aebac3d",
   "metadata": {},
   "source": [
    "## Random Forest Classifier\n",
    "\n",
    "To solve the imbalance problem we are going to run a random forest classifier algorithm, which is creating a several decision tress (like the n_estimators), it gets a prediction from each tree and it selects the best model between those. \n",
    "\n",
    "One of the differences between a Random Forest Classifier and a Random Forest Regressor it the class_weight parameter.\n",
    "The \"balanced\" mode uses the values of y to automatically adjust weights inversely proportional to class frequencies in the input data. "
   ]
  },
  {
   "cell_type": "code",
   "execution_count": null,
   "id": "bcfe39a5",
   "metadata": {},
   "outputs": [],
   "source": [
    "#random forest classifier with default parameters \n",
    "\n",
    "rfc = RandomForestClassifier(\n",
    "    n_estimators=100, #The number of trees in the forest\n",
    "    criterion='gini', #The function to measure the quality of a split\n",
    "    max_depth=None, #The minimum number of samples required to split an internal node\n",
    "    min_samples_split=2, #The minimum number of samples required to be at a leaf node\n",
    "    min_samples_leaf=1, \n",
    "    min_weight_fraction_leaf=0.0, \n",
    "    max_features='auto', \n",
    "    max_leaf_nodes=None, \n",
    "    min_impurity_decrease=0.0, \n",
    "    bootstrap=True, \n",
    "    oob_score=False, #Whether to use out-of-bag samples to estimate the generalization score.\n",
    "    n_jobs=None, \n",
    "    random_state=None, \n",
    "    verbose=0, \n",
    "    warm_start=False, \n",
    "    class_weight=None, \n",
    "    ccp_alpha=0.0, \n",
    "    max_samples=None\n",
    ")"
   ]
  },
  {
   "cell_type": "code",
   "execution_count": null,
   "id": "21f523f6",
   "metadata": {
    "scrolled": true
   },
   "outputs": [],
   "source": [
    "%time rfc.fit(x_train, y_train)\n",
    "\n",
    "\n",
    "print(rfc.score(x_train, y_train)) # classification accuracy on training set\n",
    "print(rfc.score(x_val, y_val)) # classification accuracy on validation set"
   ]
  },
  {
   "cell_type": "raw",
   "id": "e93588c0",
   "metadata": {},
   "source": [
    "#define the specificity score \n",
    "#the function here is for a binary classification - We didnt manage to write the funciton for a multiclass classification \n",
    "\n",
    "def specificity_score(y_true, y_predict):\n",
    "\n",
    "    y_predict_0  = [(pred, true) for pred, true in zip(y_predict, y_true) if true == 0]\n",
    "    y_predict_00 = [(pred, true) for pred, true in y_predict_0 if pred == 0]\n",
    "    specificity  = (0 if len(y_predict_0) == 0 else len(y_predict_00)/len(y_predict_0))\n",
    "    return specificity"
   ]
  },
  {
   "cell_type": "markdown",
   "id": "fa9f2498",
   "metadata": {},
   "source": [
    "### The metrics \n",
    "\n",
    "Precision is the number of correctly-identified members of a class divided by all the times the model predicted that class.\n",
    "\n",
    "Recall is the number of members of a class that the classifier identified correctly divided by the total number of members in that class.\n",
    "\n",
    "F1 score is a little less intuitive because it combines precision and recall into one metric. If precision and recall are both high, F1 will be high, too."
   ]
  },
  {
   "cell_type": "code",
   "execution_count": null,
   "id": "9322aa65",
   "metadata": {
    "scrolled": true
   },
   "outputs": [],
   "source": [
    "y_pred = rfc.predict(x_test)\n",
    "\n",
    "acc = metrics.accuracy_score(y_test, y_pred)\n",
    "rec = metrics.recall_score(y_test, y_pred, average = 'micro')\n",
    "prc = metrics.precision_score(y_test, y_pred, average = 'micro')\n",
    "f1  = metrics.f1_score(y_test, y_pred, average = 'micro')\n",
    "\n",
    "print('Accuracy : {:.2f}%'.format(acc*100))\n",
    "print('Recall : {:.2f}%'.format(rec*100))\n",
    "print('Precision : {:.2f}%'.format(prc*100))\n",
    "print('F1-score : {:.2f}%'.format(f1*100))"
   ]
  },
  {
   "cell_type": "code",
   "execution_count": null,
   "id": "fd0f5746",
   "metadata": {},
   "outputs": [],
   "source": [
    "print(classification_report(y_test, y_pred))"
   ]
  },
  {
   "cell_type": "markdown",
   "id": "e040d3e0",
   "metadata": {},
   "source": [
    "### Hyperparmeter tuning \n",
    "Here we are defining as a dictionary which parameters we want to test. "
   ]
  },
  {
   "cell_type": "code",
   "execution_count": null,
   "id": "d26be62f",
   "metadata": {},
   "outputs": [],
   "source": [
    "rfc.get_params()"
   ]
  },
  {
   "cell_type": "code",
   "execution_count": null,
   "id": "c34a6957",
   "metadata": {},
   "outputs": [],
   "source": [
    "param_grid = { \n",
    "    #'n_estimators': list(range(100, 500)), #= 1000\n",
    "    #'criterion': ['gini','entropy'], #= entropy\n",
    "    #'max_depth': list(range(2, 40)), #= 16 \n",
    "    #'max_depth': list(range(2, 40)), #= 22\n",
    "    #'min_samples_leaf': list(range(1,20)),#=1\n",
    "    #'oob_score': [True, False], #= True\n",
    "    #'class_weight': ['balanced', 'balanced_subsample', 'None'] #balanced\n",
    "}"
   ]
  },
  {
   "cell_type": "code",
   "execution_count": null,
   "id": "77294890",
   "metadata": {},
   "outputs": [],
   "source": [
    "CVclassifier = GridSearchCV(estimator=rfc, \n",
    "                            param_grid=param_grid, \n",
    "                            cv= 5 #Determines the cross-validation splitting strategy.\n",
    "                           )\n",
    "CVclassifier.fit(x_train, y_train)"
   ]
  },
  {
   "cell_type": "code",
   "execution_count": null,
   "id": "ff729b71",
   "metadata": {},
   "outputs": [],
   "source": [
    "CVclassifier.fit(x_train, y_train)"
   ]
  },
  {
   "cell_type": "code",
   "execution_count": null,
   "id": "08424d40",
   "metadata": {},
   "outputs": [],
   "source": [
    "para = CVclassifier.best_params_\n",
    "para"
   ]
  },
  {
   "cell_type": "markdown",
   "id": "8c9fcde5",
   "metadata": {},
   "source": [
    "### After hyperparameters tuning "
   ]
  },
  {
   "cell_type": "markdown",
   "id": "f7f8e170",
   "metadata": {},
   "source": [
    "It is natural that random forest will stabilize after some n_estimators(because there is no mechnisum to \"slow down\" the fitting unlike boosting). Since there is no benefit to adding more weak tree estimators, we chose 200. "
   ]
  },
  {
   "cell_type": "code",
   "execution_count": null,
   "id": "a3b09763",
   "metadata": {},
   "outputs": [],
   "source": [
    "#we the best parameters after the hypertuning\n",
    "\n",
    "rfc_tuned = RandomForestClassifier(\n",
    "    n_estimators=200, \n",
    "    criterion='entropy', \n",
    "    max_depth=22, \n",
    "    min_samples_split=2, \n",
    "    min_samples_leaf=1, \n",
    "    min_weight_fraction_leaf=0.0, \n",
    "    max_features='auto', \n",
    "    max_leaf_nodes=None, \n",
    "    min_impurity_decrease=0.0, \n",
    "    bootstrap=True, \n",
    "    oob_score=True, \n",
    "    n_jobs=None, \n",
    "    random_state=None, \n",
    "    verbose=0, \n",
    "    warm_start=False, \n",
    "    class_weight='balanced',\n",
    "    ccp_alpha=0.0, \n",
    "    max_samples=None\n",
    ")"
   ]
  },
  {
   "cell_type": "code",
   "execution_count": null,
   "id": "44aad848",
   "metadata": {},
   "outputs": [],
   "source": [
    "%time rfc_tuned.fit(x_train, y_train)\n",
    "\n",
    "print(rfc.score(x_train, y_train)) # classification accuracy on training set\n",
    "print(rfc.score(x_val, y_val)) # classification accuracy on validation set"
   ]
  },
  {
   "cell_type": "code",
   "execution_count": null,
   "id": "d8f0a376",
   "metadata": {},
   "outputs": [],
   "source": [
    "y_pred = rfc.predict(x_test)\n",
    "\n",
    "acc = metrics.accuracy_score(y_test, y_pred)\n",
    "rec = metrics.recall_score(y_test, y_pred, average = 'micro')\n",
    "prc = metrics.precision_score(y_test, y_pred, average = 'micro')\n",
    "#spe = specificity_score(y_test, y_predict_valid)\n",
    "f1  = metrics.f1_score(y_test, y_pred, average = 'micro')\n",
    "\n",
    "print('Accuracy : {:.2f}%'.format(acc*100))\n",
    "print('Recall : {:.2f}%'.format(rec*100))\n",
    "print('Precision : {:.2f}%'.format(prc*100))\n",
    "#print('Specificity : {:.2f}%'.format(spe*100))\n",
    "print('F1-score : {:.2f}%'.format(f1*100))"
   ]
  },
  {
   "cell_type": "code",
   "execution_count": null,
   "id": "e87fb8ba",
   "metadata": {},
   "outputs": [],
   "source": [
    "print(classification_report(y_test, y_pred))"
   ]
  },
  {
   "cell_type": "markdown",
   "id": "654f9924",
   "metadata": {},
   "source": [
    "### Model calibration \n",
    "\n",
    "A classifier can be calibrated in scikit-learn using the CalibratedClassifierCV class.\n",
    "\n",
    "There are two ways to use this class: prefit and cross-validation.\n",
    "\n",
    "You can fit a model on a training dataset and calibrate this prefit model using a hold out validation dataset."
   ]
  },
  {
   "cell_type": "code",
   "execution_count": null,
   "id": "d5945661",
   "metadata": {},
   "outputs": [],
   "source": [
    "rfc_calibrated = CalibratedClassifierCV(\n",
    "    base_estimator = rfc_tuned,\n",
    "    method = 'sigmoid', # 'sigmoid' or 'isotonic'\n",
    "    ensemble = True,\n",
    "    cv = 5, # int of 'prefit'\n",
    "    n_jobs = -1,\n",
    ")"
   ]
  },
  {
   "cell_type": "code",
   "execution_count": null,
   "id": "1d676daa",
   "metadata": {},
   "outputs": [],
   "source": [
    "%time rfc_calibrated.fit(x_train, y_train)\n",
    "\n",
    "print(rfc_calibrated.score(x_train, y_train)) \n",
    "print(rfc_calibrated.score(x_val, y_val))"
   ]
  },
  {
   "cell_type": "code",
   "execution_count": null,
   "id": "c6c38528",
   "metadata": {},
   "outputs": [],
   "source": [
    "y_pred = rfc_calibrated.predict(x_test)\n",
    "\n",
    "acc = metrics.accuracy_score(y_test, y_pred)\n",
    "rec = metrics.recall_score(y_test, y_pred, average = 'micro')\n",
    "prc = metrics.precision_score(y_test, y_pred, average = 'micro')\n",
    "#spe = specificity_score(y_test, y_predict_valid)\n",
    "f1  = metrics.f1_score(y_test, y_pred, average = 'micro')\n",
    "\n",
    "print('Accuracy : {:.2f}%'.format(acc*100))\n",
    "print('Recall : {:.2f}%'.format(rec*100))\n",
    "print('Precision : {:.2f}%'.format(prc*100))\n",
    "#print('Specificity : {:.2f}%'.format(spe*100))\n",
    "print('F1-score : {:.2f}%'.format(f1*100))"
   ]
  },
  {
   "cell_type": "code",
   "execution_count": null,
   "id": "d0564952",
   "metadata": {},
   "outputs": [],
   "source": []
  },
  {
   "cell_type": "markdown",
   "id": "9ae8d751",
   "metadata": {},
   "source": [
    "conclusioni del prof \n",
    "\n",
    "Conclusion : The model has a tendency to over-estimate the price of a Buldozer, since buldozers that are predicted as high-priced will be so for only 70.77 % of them (the precision is 70.77%). The model is on the other hand able to recognize high-priced buldozers since 88.58% of expensive buldozers were predicted so by the model (the recall is 88.58%).\n",
    "    \n",
    "Accuracy : 79.92%\n",
    "Recall : 88.58%\n",
    "Precision : 70.77%\n",
    "Specificity : 73.70%\n",
    "F1-score : 78.68%"
   ]
  },
  {
   "cell_type": "markdown",
   "id": "d2615c8a",
   "metadata": {},
   "source": [
    "## Prediction attempt "
   ]
  },
  {
   "cell_type": "code",
   "execution_count": null,
   "id": "3449fee6",
   "metadata": {},
   "outputs": [],
   "source": [
    "print(y_pred)"
   ]
  },
  {
   "cell_type": "code",
   "execution_count": null,
   "id": "7f30efbd",
   "metadata": {},
   "outputs": [],
   "source": [
    "# first tree prediction on single data point\n",
    "ranfor = rfc_tuned.estimators_[1] \n",
    "point = [x_val.iloc[1, :]]     \n",
    "pred = ranfor.predict(point)      \n",
    "\n",
    "print('Type:', type(pred))\n",
    "print('Shape:', pred.shape)\n",
    "print('Value:', (pred[0]))"
   ]
  },
  {
   "cell_type": "code",
   "execution_count": null,
   "id": "b1a8721b",
   "metadata": {},
   "outputs": [],
   "source": [
    "y[1]"
   ]
  },
  {
   "cell_type": "markdown",
   "id": "b04f29c8",
   "metadata": {},
   "source": [
    "## Features importance\n",
    "In order to verify how the model is making predictions we can use feature_importance. \n",
    "\n",
    "Scikit-learn's implementation of Random Forests carry impurity-based feature importance scores (the higher, the more important the feature) in the attribute model.feature_importances_ of a fitted model. The importance of a feature is computed as the (normalized) total reduction of the criterion brought by that feature on the training set.\n",
    "\n",
    "Since they are computed on the training set these scores should be taken with caution, as the importances can be high even for features that are not predictive of the target variable, as long as the model has the capacity to use them to overfit. As a result, features that are deemed of low importance for a bad model (high training score but low validation/cross-validation score) could be very important for a good model. Therefore it is always important to evaluate the predictive power of a model using a validation set (or better with cross-validation) prior to computing importances. These feature importance does not reflect to the intrinsic predictive value of a feature by itself, but how important this feature is for a particular random forest."
   ]
  },
  {
   "cell_type": "code",
   "execution_count": null,
   "id": "4cbbf5d5",
   "metadata": {},
   "outputs": [],
   "source": [
    "rfc_tuned = RandomForestClassifier(\n",
    "    n_estimators=200, \n",
    "    criterion='entropy', \n",
    "    max_depth=22, \n",
    "    min_samples_split=2, \n",
    "    min_samples_leaf=1, \n",
    "    min_weight_fraction_leaf=0.0, \n",
    "    max_features='auto', \n",
    "    max_leaf_nodes=None, \n",
    "    min_impurity_decrease=0.0, \n",
    "    bootstrap=True, \n",
    "    oob_score=True, \n",
    "    n_jobs=None, \n",
    "    random_state=None, \n",
    "    verbose=0, \n",
    "    warm_start=False, \n",
    "    class_weight=None, \n",
    "    ccp_alpha=0.0, \n",
    "    max_samples=None\n",
    ")"
   ]
  },
  {
   "cell_type": "code",
   "execution_count": null,
   "id": "3f4f4762",
   "metadata": {},
   "outputs": [],
   "source": [
    "%time rfc_tuned.fit(x_train, y_train)"
   ]
  },
  {
   "cell_type": "code",
   "execution_count": null,
   "id": "5f7dea90",
   "metadata": {},
   "outputs": [],
   "source": [
    "feature_scores = pd.Series(rfc_tuned.feature_importances_, index=x_train.columns).sort_values(ascending=False)\n",
    "\n",
    "feature_scores"
   ]
  },
  {
   "cell_type": "code",
   "execution_count": null,
   "id": "648a446e",
   "metadata": {},
   "outputs": [],
   "source": [
    "#fare grafico delle features \n",
    "f, ax = plt.subplots(figsize=(30, 24))\n",
    "ax = sns.barplot(x=feature_scores, y=feature_scores.index, data=df)\n",
    "ax.set_title(\"Visualize feature scores of the features\")\n",
    "ax.set_yticklabels(feature_scores.index)\n",
    "ax.set_xlabel(\"Feature importance score\")\n",
    "ax.set_ylabel(\"Features\")\n",
    "plt.show()"
   ]
  },
  {
   "cell_type": "code",
   "execution_count": null,
   "id": "29da18e4",
   "metadata": {},
   "outputs": [],
   "source": []
  },
  {
   "cell_type": "code",
   "execution_count": null,
   "id": "ba16d4fb",
   "metadata": {},
   "outputs": [],
   "source": []
  },
  {
   "cell_type": "code",
   "execution_count": null,
   "id": "07111073",
   "metadata": {},
   "outputs": [],
   "source": []
  },
  {
   "cell_type": "code",
   "execution_count": null,
   "id": "eac14c02",
   "metadata": {},
   "outputs": [],
   "source": [
    "# Get and reshape confusion matrix data\n",
    "matrix = confusion_matrix(y_test, y_pred)\n",
    "matrix = matrix.astype('float') / matrix.sum(axis=1)[:, np.newaxis]\n",
    "\n",
    "# Build the plot\n",
    "plt.figure(figsize=(16,7))\n",
    "sns.set(font_scale=1.4)\n",
    "sns.heatmap(matrix, annot=True, annot_kws={'size':10},\n",
    "            cmap=plt.cm.Greens, linewidths=0.2)\n"
   ]
  },
  {
   "cell_type": "markdown",
   "id": "69b94a92",
   "metadata": {},
   "source": [
    "# Final model export "
   ]
  },
  {
   "cell_type": "code",
   "execution_count": 102,
   "id": "906e686a",
   "metadata": {},
   "outputs": [
    {
     "name": "stdout",
     "output_type": "stream",
     "text": [
      "/Users/filippoceccarani/Desktop/EMLyon-ML-course-2022-T1/saves\n",
      "/Users/filippoceccarani/Desktop/EMLyon-ML-course-2022-T1/saves already exists\n"
     ]
    }
   ],
   "source": [
    "path_to_saves = os.path.join(path_to_repo, 'saves')\n",
    "print(path_to_saves)\n",
    "\n",
    "if not os.path.isdir(path_to_saves):\n",
    "    os.mkdir(path_to_saves)\n",
    "    print(path_to_saves, 'was created')\n",
    "else:\n",
    "    print(path_to_saves, 'already exists')"
   ]
  },
  {
   "cell_type": "code",
   "execution_count": null,
   "id": "1fcf8103",
   "metadata": {},
   "outputs": [],
   "source": [
    "# save model on disk\n",
    "path_to_model = os.path.join(path_to_repo, 'saves', 'RF_classifier.pk')\n",
    "with open(path_to_model, 'wb') as file:\n",
    "    dill.dump(rfc_tuned, file) "
   ]
  },
  {
   "cell_type": "code",
   "execution_count": null,
   "id": "f8a455d0",
   "metadata": {},
   "outputs": [],
   "source": []
  }
 ],
 "metadata": {
  "kernelspec": {
   "display_name": "Python 3 (ipykernel)",
   "language": "python",
   "name": "python3"
  },
  "language_info": {
   "codemirror_mode": {
    "name": "ipython",
    "version": 3
   },
   "file_extension": ".py",
   "mimetype": "text/x-python",
   "name": "python",
   "nbconvert_exporter": "python",
   "pygments_lexer": "ipython3",
   "version": "3.8.13"
  }
 },
 "nbformat": 4,
 "nbformat_minor": 5
}
